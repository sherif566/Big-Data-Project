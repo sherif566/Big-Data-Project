{
  "nbformat": 4,
  "nbformat_minor": 0,
  "metadata": {
    "colab": {
      "provenance": []
    },
    "kernelspec": {
      "name": "python3",
      "display_name": "Python 3"
    },
    "language_info": {
      "name": "python"
    }
  },
  "cells": [
    {
      "cell_type": "code",
      "source": [
        "from google.colab import drive\n",
        "drive.mount('/content/drive')"
      ],
      "metadata": {
        "colab": {
          "base_uri": "https://localhost:8080/"
        },
        "id": "potjS7EpYszu",
        "outputId": "c75f90e4-f034-441a-b2a0-cc5246a801c3"
      },
      "execution_count": 1,
      "outputs": [
        {
          "output_type": "stream",
          "name": "stdout",
          "text": [
            "Drive already mounted at /content/drive; to attempt to forcibly remount, call drive.mount(\"/content/drive\", force_remount=True).\n"
          ]
        }
      ]
    },
    {
      "cell_type": "code",
      "source": [
        "\n",
        "!pip install pyspark"
      ],
      "metadata": {
        "colab": {
          "base_uri": "https://localhost:8080/"
        },
        "id": "RDkTlSElY8vd",
        "outputId": "3e2be85d-75f0-40e2-8ec4-e7056b726af1"
      },
      "execution_count": 2,
      "outputs": [
        {
          "output_type": "stream",
          "name": "stdout",
          "text": [
            "Looking in indexes: https://pypi.org/simple, https://us-python.pkg.dev/colab-wheels/public/simple/\n",
            "Requirement already satisfied: pyspark in /usr/local/lib/python3.10/dist-packages (3.4.0)\n",
            "Requirement already satisfied: py4j==0.10.9.7 in /usr/local/lib/python3.10/dist-packages (from pyspark) (0.10.9.7)\n"
          ]
        }
      ]
    },
    {
      "cell_type": "code",
      "source": [
        "!pip install pyspark py4j"
      ],
      "metadata": {
        "colab": {
          "base_uri": "https://localhost:8080/"
        },
        "id": "n8R9XcRjQelZ",
        "outputId": "d7c23958-bb45-4cc7-8407-8336115859bf"
      },
      "execution_count": 3,
      "outputs": [
        {
          "output_type": "stream",
          "name": "stdout",
          "text": [
            "Looking in indexes: https://pypi.org/simple, https://us-python.pkg.dev/colab-wheels/public/simple/\n",
            "Requirement already satisfied: pyspark in /usr/local/lib/python3.10/dist-packages (3.4.0)\n",
            "Requirement already satisfied: py4j in /usr/local/lib/python3.10/dist-packages (0.10.9.7)\n"
          ]
        }
      ]
    },
    {
      "cell_type": "code",
      "source": [
        "from pyspark.sql import SparkSession\n",
        "from pyspark.sql.functions import *\n",
        "from pyspark.sql.functions import col, isnan, isnull\n",
        "from pyspark.sql.functions import corr\n",
        "import matplotlib.pyplot as plt\n",
        "from pyspark.sql.functions import avg, desc\n",
        "from pyspark.sql.functions import max\n",
        "from pyspark.sql.functions import sum, countDistinct\n",
        "from pyspark.sql.functions import regexp_replace\n",
        "\n",
        "from pyspark.sql.functions import col, when\n",
        "from pyspark.sql.functions import explode\n",
        "from pyspark.ml.feature import StringIndexer\n",
        "from pyspark.ml import Pipeline\n",
        "from pyspark.ml.feature import VectorAssembler\n",
        "from pyspark.ml.tuning import ParamGridBuilder, TrainValidationSplit\n",
        "from sparknlp.annotator import Tokenizer\n",
        "\n",
        "from vaderSentiment.vaderSentiment import SentimentIntensityAnalyzer\n",
        "from pyspark.sql.functions import lit\n",
        "from pyspark.sql.functions import udf\n",
        "from pyspark.sql.types import StringType\n",
        "from vaderSentiment.vaderSentiment import SentimentIntensityAnalyzer\n",
        "from pyspark.ml.evaluation import RegressionEvaluator\n",
        "\n",
        "from pyspark.ml.regression import LinearRegression\n",
        "from pyspark.ml.feature import VectorAssembler\n"
      ],
      "metadata": {
        "id": "iiUUspIDs2ny"
      },
      "execution_count": 76,
      "outputs": []
    },
    {
      "cell_type": "code",
      "source": [
        "spark = SparkSession.builder \\\n",
        "    .appName(\"ProjectTest\") \\\n",
        "    .getOrCreate()"
      ],
      "metadata": {
        "id": "1K8r8xGLZCRP"
      },
      "execution_count": 5,
      "outputs": []
    },
    {
      "cell_type": "code",
      "source": [
        "spark"
      ],
      "metadata": {
        "colab": {
          "base_uri": "https://localhost:8080/",
          "height": 219
        },
        "id": "eE2YCqVwZQQN",
        "outputId": "8c4e0497-11e9-4ea5-c4e2-83dad693d71c"
      },
      "execution_count": 6,
      "outputs": [
        {
          "output_type": "execute_result",
          "data": {
            "text/plain": [
              "<pyspark.sql.session.SparkSession at 0x7fe22b361120>"
            ],
            "text/html": [
              "\n",
              "            <div>\n",
              "                <p><b>SparkSession - in-memory</b></p>\n",
              "                \n",
              "        <div>\n",
              "            <p><b>SparkContext</b></p>\n",
              "\n",
              "            <p><a href=\"http://79555d6e6aaf:4040\">Spark UI</a></p>\n",
              "\n",
              "            <dl>\n",
              "              <dt>Version</dt>\n",
              "                <dd><code>v3.4.0</code></dd>\n",
              "              <dt>Master</dt>\n",
              "                <dd><code>local[*]</code></dd>\n",
              "              <dt>AppName</dt>\n",
              "                <dd><code>ProjectTest</code></dd>\n",
              "            </dl>\n",
              "        </div>\n",
              "        \n",
              "            </div>\n",
              "        "
            ]
          },
          "metadata": {},
          "execution_count": 6
        }
      ]
    },
    {
      "cell_type": "markdown",
      "source": [
        "**Reading the 2 datasets**"
      ],
      "metadata": {
        "id": "Y3MseM0IvSxv"
      }
    },
    {
      "cell_type": "code",
      "source": [
        "df1 = spark.read.csv(\"/content/drive/MyDrive/BigData/rotten_tomatoes_movies.csv\", header=True, inferSchema=True)"
      ],
      "metadata": {
        "id": "V271B_ZWZUX1"
      },
      "execution_count": 7,
      "outputs": []
    },
    {
      "cell_type": "code",
      "source": [
        "#showing df1\n",
        "num_rows = 10\n",
        "df1.show(num_rows) "
      ],
      "metadata": {
        "colab": {
          "base_uri": "https://localhost:8080/"
        },
        "id": "9cYSopqDu1gU",
        "outputId": "b54270ea-e208-4ba9-d335-cab98fc75166"
      },
      "execution_count": 8,
      "outputs": [
        {
          "output_type": "stream",
          "name": "stdout",
          "text": [
            "+--------------------+--------------------+-------------+-----------+------+--------------------+-------------------+--------------------+--------------+--------------------+----------------+--------------------+--------------------+---------+-----------+--------+\n",
            "|                  id|               title|audienceScore|tomatoMeter|rating|      ratingContents|releaseDateTheaters|releaseDateStreaming|runtimeMinutes|               genre|originalLanguage|            director|              writer|boxOffice|distributor|soundMix|\n",
            "+--------------------+--------------------+-------------+-----------+------+--------------------+-------------------+--------------------+--------------+--------------------+----------------+--------------------+--------------------+---------+-----------+--------+\n",
            "|  space-zombie-bingo| Space Zombie Bingo!|           50|       null|  null|                null|               null|          2018-08-25|            75|Comedy, Horror, S...|         English|       George Ormrod|George Ormrod,Joh...|     null|       null|    null|\n",
            "|     the_green_grass|     The Green Grass|         null|       null|  null|                null|               null|          2020-02-11|           114|               Drama|         English|     Tiffany Edwards|     Tiffany Edwards|     null|       null|    null|\n",
            "|           love_lies|          Love, Lies|           43|       null|  null|                null|               null|                null|           120|               Drama|          Korean|Park Heung-Sik,He...|Ha Young-Joon,Jeo...|     null|       null|    null|\n",
            "|the_sore_losers_1997|         Sore Losers|           60|       null|  null|                null|               null|          2020-10-23|            90|Action, Mystery &...|         English|John Michael McCa...|John Michael McCa...|     null|       null|    null|\n",
            "|dinosaur_island_2002|     Dinosaur Island|           70|       null|  null|                null|               null|          2017-03-27|            80|Fantasy, Adventur...|         English|       Will Meugniot|            John Loy|     null|       null|    null|\n",
            "|         adrift_2018|              Adrift|           65|         69| PG-13|['Injury Images',...|         2018-06-01|          2018-08-21|           120|Adventure, Drama,...|         English|   Baltasar Kormákur|Aaron Kandell,Jor...|   $31.4M|  STX Films|    null|\n",
            "|malta-con-huevo-s...|      Scrambled Beer|           55|       null|  null|                null|               null|          2015-10-05|            88|              Comedy|         Spanish|Cristobal Valderrama|Cristobal Valderrama|     null|       null|    null|\n",
            "|    kakabakaba-ka-ba|Kakabakaba ka ba?...|           88|       null|  null|                null|               null|                null|          null|                null|            null|        Mike de Leon|                null|     null|       null|    null|\n",
            "|          sundowning|          Sundowning|         null|       null|  null|                null|               null|                null|           123|               Drama|         English|      Jim Comas Cole|                null|     null|       null|    null|\n",
            "|1035316-born_to_kill|        Born to Kill|           74|         83|  null|                null|         1947-04-30|          2016-05-23|            92|        Crime, Drama|         English|         Robert Wise|Eve Greene,Richar...|     null|       null|    null|\n",
            "+--------------------+--------------------+-------------+-----------+------+--------------------+-------------------+--------------------+--------------+--------------------+----------------+--------------------+--------------------+---------+-----------+--------+\n",
            "only showing top 10 rows\n",
            "\n"
          ]
        }
      ]
    },
    {
      "cell_type": "code",
      "source": [
        "df2 = spark.read.csv(\"/content/drive/MyDrive/BigData/rotten_tomatoes_movie_reviews.csv\", header=True, inferSchema=True)"
      ],
      "metadata": {
        "id": "NdUfX96DvFiO"
      },
      "execution_count": 9,
      "outputs": []
    },
    {
      "cell_type": "code",
      "source": [
        "#Showing df2\n",
        "num_rows = 10\n",
        "df2.show(num_rows)"
      ],
      "metadata": {
        "colab": {
          "base_uri": "https://localhost:8080/"
        },
        "id": "O4byNEd5vF1X",
        "outputId": "0a85b343-9344-498b-bcfb-239b5334babf"
      },
      "execution_count": 10,
      "outputs": [
        {
          "output_type": "stream",
          "name": "stdout",
          "text": [
            "+--------------------+--------+------------+---------------+-----------+-------------+-----------+--------------------+--------------------+--------------------+--------------------+\n",
            "|                  id|reviewId|creationDate|     criticName|isTopCritic|originalScore|reviewState|      publicatioName|          reviewText|      scoreSentiment|           reviewUrl|\n",
            "+--------------------+--------+------------+---------------+-----------+-------------+-----------+--------------------+--------------------+--------------------+--------------------+\n",
            "|             beavers| 1145982|  2003-05-23|Ivan M. Lincoln|      False|        3.5/4|      fresh|Deseret News (Sal...|Timed to be just ...|            POSITIVE|http://www.desere...|\n",
            "|          blood_mask| 1636744|  2007-06-02|  The Foywonder|      False|          1/5|     rotten|       Dread Central|It doesn't matter...|            NEGATIVE|http://www.dreadc...|\n",
            "|city_hunter_shinj...| 2590987|  2019-05-28|   Reuben Baron|      False|         null|      fresh|                 CBR|The choreography ...|            POSITIVE|https://www.cbr.c...|\n",
            "|city_hunter_shinj...| 2558908|  2019-02-14|    Matt Schley|      False|        2.5/5|     rotten|         Japan Times|The film's out-of...|            NEGATIVE|https://www.japan...|\n",
            "|  dangerous_men_2015| 2504681|  2018-08-29|      Pat Padua|      False|         null|      fresh|               DCist|Its clumsy determ...|            POSITIVE|http://dcist.com/...|\n",
            "|  dangerous_men_2015| 2299284|  2015-12-13|     Eric Melin|      False|          4/5|      fresh|        Lawrence.com|With every new mi...|            POSITIVE|http://www.lawren...|\n",
            "|  dangerous_men_2015| 2295858|  2015-11-22|    Matt Donato|      False|         7/10|      fresh| We Got This Covered|Emotionless react...|            POSITIVE|http://wegotthisc...|\n",
            "|  dangerous_men_2015| 2295338|  2015-11-19|   Peter Keough|       True|        0.5/4|     rotten|        Boston Globe|Conceivably, it c...|            NEGATIVE|http://www.boston...|\n",
            "|  dangerous_men_2015| 2294641|  2015-11-16|   Jason Wilson|      False|         3/10|     rotten|     Under the Radar|If you're not a f...|            NEGATIVE|http://www.undert...|\n",
            "|  dangerous_men_2015| 2294129|  2015-11-12| Soren Andersen|       True|          0/4|     rotten|       Seattle Times|    \"\"\"Dangerous Men|\"\" the picture's ...| took 26 years to...|\n",
            "+--------------------+--------+------------+---------------+-----------+-------------+-----------+--------------------+--------------------+--------------------+--------------------+\n",
            "only showing top 10 rows\n",
            "\n"
          ]
        }
      ]
    },
    {
      "cell_type": "markdown",
      "source": [
        "**Cleaning**"
      ],
      "metadata": {
        "id": "PnjRYiFavZgY"
      }
    },
    {
      "cell_type": "code",
      "source": [
        "# unwanted columns to drop\n",
        "columns_to_drop = ['releaseDateTheaters']\n",
        "\n",
        "df1 = df1.drop(*columns_to_drop)\n",
        "\n",
        "df1.show()"
      ],
      "metadata": {
        "colab": {
          "base_uri": "https://localhost:8080/"
        },
        "id": "mkrWd1Fe80EI",
        "outputId": "485c2bbd-bcc2-4f8e-d31b-f0fc8311be3e"
      },
      "execution_count": 11,
      "outputs": [
        {
          "output_type": "stream",
          "name": "stdout",
          "text": [
            "+--------------------+--------------------+-------------+-----------+------+--------------------+--------------------+--------------+--------------------+----------------+--------------------+--------------------+---------+-----------------+--------+\n",
            "|                  id|               title|audienceScore|tomatoMeter|rating|      ratingContents|releaseDateStreaming|runtimeMinutes|               genre|originalLanguage|            director|              writer|boxOffice|      distributor|soundMix|\n",
            "+--------------------+--------------------+-------------+-----------+------+--------------------+--------------------+--------------+--------------------+----------------+--------------------+--------------------+---------+-----------------+--------+\n",
            "|  space-zombie-bingo| Space Zombie Bingo!|           50|       null|  null|                null|          2018-08-25|            75|Comedy, Horror, S...|         English|       George Ormrod|George Ormrod,Joh...|     null|             null|    null|\n",
            "|     the_green_grass|     The Green Grass|         null|       null|  null|                null|          2020-02-11|           114|               Drama|         English|     Tiffany Edwards|     Tiffany Edwards|     null|             null|    null|\n",
            "|           love_lies|          Love, Lies|           43|       null|  null|                null|                null|           120|               Drama|          Korean|Park Heung-Sik,He...|Ha Young-Joon,Jeo...|     null|             null|    null|\n",
            "|the_sore_losers_1997|         Sore Losers|           60|       null|  null|                null|          2020-10-23|            90|Action, Mystery &...|         English|John Michael McCa...|John Michael McCa...|     null|             null|    null|\n",
            "|dinosaur_island_2002|     Dinosaur Island|           70|       null|  null|                null|          2017-03-27|            80|Fantasy, Adventur...|         English|       Will Meugniot|            John Loy|     null|             null|    null|\n",
            "|         adrift_2018|              Adrift|           65|         69| PG-13|['Injury Images',...|          2018-08-21|           120|Adventure, Drama,...|         English|   Baltasar Kormákur|Aaron Kandell,Jor...|   $31.4M|        STX Films|    null|\n",
            "|malta-con-huevo-s...|      Scrambled Beer|           55|       null|  null|                null|          2015-10-05|            88|              Comedy|         Spanish|Cristobal Valderrama|Cristobal Valderrama|     null|             null|    null|\n",
            "|    kakabakaba-ka-ba|Kakabakaba ka ba?...|           88|       null|  null|                null|                null|          null|                null|            null|        Mike de Leon|                null|     null|             null|    null|\n",
            "|          sundowning|          Sundowning|         null|       null|  null|                null|                null|           123|               Drama|         English|      Jim Comas Cole|                null|     null|             null|    null|\n",
            "|1035316-born_to_kill|        Born to Kill|           74|         83|  null|                null|          2016-05-23|            92|        Crime, Drama|         English|         Robert Wise|Eve Greene,Richar...|     null|             null|    null|\n",
            "|1015331-number_on...|Number One With a...|           19|       null|  null|                null|          2012-03-13|           103|        Crime, Drama|         English|         Jack Smight|                null|     null|             null|    null|\n",
            "|  garden_murder_case|The Garden Murder...|         null|       null|  null|                null|          2016-10-20|            61|  Mystery & thriller|         English|      Edwin L. Marin|                null|     null|             null|    null|\n",
            "|margarita_happy_hour|Margarita Happy Hour|         null|         76|  null|                null|                null|            98|               Drama|         English|        Ilya Chaiken|        Ilya Chaiken|   $11.5K|Passport Pictures|Surround|\n",
            "|  leap_of_faith_2019|Leap of Faith: Wi...|           86|         93|  null|                null|          2020-11-19|           104|Documentary, Myst...|         English|Alexandre O. Phil...|Alexandre O. Phil...|     null|             null|    null|\n",
            "| shake-rattle-roll-3|Shake Rattle & Ro...|           89|       null|  null|                null|          2019-01-04|           120|      Comedy, Horror|         Tagalog|Peque Gallaga,Lor...|                null|     null|             null|    null|\n",
            "|           daag_1973|           The Stain|           82|       null|  null|                null|          2003-11-25|           146|               Drama|           Hindi|         Yash Chopra|Yash Chopra,Gulsh...|     null|             null|    null|\n",
            "|crown_vs_stevens_...|   Crown vs. Stevens|           60|       null|  null|                null|                null|            66|Crime, Drama, Mys...|         English|      Michael Powell|      Brock Williams|     null|             null|    null|\n",
            "|         1221483-paa|                 Paa|           67|         50|  null|                null|                null|           133|               Drama|           Hindi|            R. Balki|            R. Balki|  $199.2K|     Big Pictures|    null|\n",
            "|f9ab9165-598c-3ac...|A Tale of Love an...|         null|       null|  null|                null|                null|           103|               Drama| French (France)|        Leyla Bouzid|        Leyla Bouzid|     null|             null|    null|\n",
            "|  the_last_gentleman|  The Last Gentleman|         null|       null|  null|                null|                null|            80|              Comedy|         English|     Sidney Lanfield|                null|     null|             null|    null|\n",
            "+--------------------+--------------------+-------------+-----------+------+--------------------+--------------------+--------------+--------------------+----------------+--------------------+--------------------+---------+-----------------+--------+\n",
            "only showing top 20 rows\n",
            "\n"
          ]
        }
      ]
    },
    {
      "cell_type": "code",
      "source": [
        "# Checking the null values \n",
        "for column in df1.columns:\n",
        "  null_count = df1.filter(col(column).isNull() | isnan(col(column))).count()\n",
        "  if null_count > 0:\n",
        "    print(f\"Column '{column}' has {null_count} null value(s).\")"
      ],
      "metadata": {
        "colab": {
          "base_uri": "https://localhost:8080/"
        },
        "id": "rLEYuo30vF3x",
        "outputId": "d6f75e02-dc3c-43d0-9547-a7fbfa4de005"
      },
      "execution_count": 12,
      "outputs": [
        {
          "output_type": "stream",
          "name": "stdout",
          "text": [
            "Column 'title' has 367 null value(s).\n",
            "Column 'audienceScore' has 70010 null value(s).\n",
            "Column 'tomatoMeter' has 109381 null value(s).\n",
            "Column 'rating' has 129267 null value(s).\n",
            "Column 'ratingContents' has 129267 null value(s).\n",
            "Column 'releaseDateStreaming' has 63838 null value(s).\n",
            "Column 'runtimeMinutes' has 13827 null value(s).\n",
            "Column 'genre' has 11083 null value(s).\n",
            "Column 'originalLanguage' has 13858 null value(s).\n",
            "Column 'director' has 4194 null value(s).\n",
            "Column 'writer' has 53142 null value(s).\n",
            "Column 'boxOffice' has 128491 null value(s).\n",
            "Column 'distributor' has 120248 null value(s).\n",
            "Column 'soundMix' has 127333 null value(s).\n"
          ]
        }
      ]
    },
    {
      "cell_type": "code",
      "source": [
        "#Drop the null values\n",
        "df1 = df1.na.drop()"
      ],
      "metadata": {
        "id": "vUf3m5fLvF7Z"
      },
      "execution_count": 13,
      "outputs": []
    },
    {
      "cell_type": "code",
      "source": [
        "for column in df1.columns:\n",
        "  null_count = df1.filter(col(column).isNull() | isnan(col(column))).count()\n",
        "  if null_count > 0:\n",
        "    print(f\"Column '{column}' has {null_count} null value(s).\")\n",
        "  # elif null_count == 0:\n",
        "  #   print(\"Done\")\n",
        "if null_count == 0:\n",
        "  print(\"Done\")"
      ],
      "metadata": {
        "colab": {
          "base_uri": "https://localhost:8080/"
        },
        "id": "h5HsEN4avi_k",
        "outputId": "0f5dc0a9-0612-4a73-d6e9-d27922ce1dda"
      },
      "execution_count": 14,
      "outputs": [
        {
          "output_type": "stream",
          "name": "stdout",
          "text": [
            "Done\n"
          ]
        }
      ]
    },
    {
      "cell_type": "code",
      "source": [
        "#Checking duplicates\n",
        "duplicate_rows = df1.groupBy(df1.columns).count().filter(col('count') > 1)\n",
        "#duplicate_rows.show()"
      ],
      "metadata": {
        "id": "3GAcNra2vjB8"
      },
      "execution_count": 15,
      "outputs": []
    },
    {
      "cell_type": "code",
      "source": [
        "#NUMber of rows and columns \n",
        "num_rows = df2.count()\n",
        "num_columns = len(df2.columns)\n",
        "\n",
        "# Print the shape of the DataFrame\n",
        "print(\"Number of rows:\", num_rows)\n",
        "print(\"Number of columns:\", num_columns)"
      ],
      "metadata": {
        "id": "-Ym9Lfn_SM2U",
        "outputId": "391eb51c-6db0-4a33-fdda-de780483aa12",
        "colab": {
          "base_uri": "https://localhost:8080/"
        }
      },
      "execution_count": 16,
      "outputs": [
        {
          "output_type": "stream",
          "name": "stdout",
          "text": [
            "Number of rows: 1446056\n",
            "Number of columns: 11\n"
          ]
        }
      ]
    },
    {
      "cell_type": "code",
      "source": [
        "# unwanted columns to drop\n",
        "columns_to_drop = ['isTopCritic']\n",
        "df2 = df2.drop(*columns_to_drop)\n",
        "df2.show()"
      ],
      "metadata": {
        "colab": {
          "base_uri": "https://localhost:8080/"
        },
        "id": "CwGy743pArdP",
        "outputId": "2ea3e17e-0a01-4040-f09c-91b57ace5319"
      },
      "execution_count": 17,
      "outputs": [
        {
          "output_type": "stream",
          "name": "stdout",
          "text": [
            "+--------------------+---------+------------+-------------------+-------------+-----------+--------------------+--------------------+--------------------+--------------------+\n",
            "|                  id| reviewId|creationDate|         criticName|originalScore|reviewState|      publicatioName|          reviewText|      scoreSentiment|           reviewUrl|\n",
            "+--------------------+---------+------------+-------------------+-------------+-----------+--------------------+--------------------+--------------------+--------------------+\n",
            "|             beavers|  1145982|  2003-05-23|    Ivan M. Lincoln|        3.5/4|      fresh|Deseret News (Sal...|Timed to be just ...|            POSITIVE|http://www.desere...|\n",
            "|          blood_mask|  1636744|  2007-06-02|      The Foywonder|          1/5|     rotten|       Dread Central|It doesn't matter...|            NEGATIVE|http://www.dreadc...|\n",
            "|city_hunter_shinj...|  2590987|  2019-05-28|       Reuben Baron|         null|      fresh|                 CBR|The choreography ...|            POSITIVE|https://www.cbr.c...|\n",
            "|city_hunter_shinj...|  2558908|  2019-02-14|        Matt Schley|        2.5/5|     rotten|         Japan Times|The film's out-of...|            NEGATIVE|https://www.japan...|\n",
            "|  dangerous_men_2015|  2504681|  2018-08-29|          Pat Padua|         null|      fresh|               DCist|Its clumsy determ...|            POSITIVE|http://dcist.com/...|\n",
            "|  dangerous_men_2015|  2299284|  2015-12-13|         Eric Melin|          4/5|      fresh|        Lawrence.com|With every new mi...|            POSITIVE|http://www.lawren...|\n",
            "|  dangerous_men_2015|  2295858|  2015-11-22|        Matt Donato|         7/10|      fresh| We Got This Covered|Emotionless react...|            POSITIVE|http://wegotthisc...|\n",
            "|  dangerous_men_2015|  2295338|  2015-11-19|       Peter Keough|        0.5/4|     rotten|        Boston Globe|Conceivably, it c...|            NEGATIVE|http://www.boston...|\n",
            "|  dangerous_men_2015|  2294641|  2015-11-16|       Jason Wilson|         3/10|     rotten|     Under the Radar|If you're not a f...|            NEGATIVE|http://www.undert...|\n",
            "|  dangerous_men_2015|  2294129|  2015-11-12|     Soren Andersen|          0/4|     rotten|       Seattle Times|    \"\"\"Dangerous Men|\"\" the picture's ...| took 26 years to...|\n",
            "|  dangerous_men_2015|  2293902|  2015-11-12|  Maitland McDonagh|         null|     rotten|Film Journal Inte...|Will entertain so...|            NEGATIVE|http://fj.webedia...|\n",
            "|  dangerous_men_2015|  2293900|  2015-11-12|Marjorie Baumgarten|        1.5/5|     rotten|    Austin Chronicle|This is a bad mov...|            NEGATIVE|http://www.austin...|\n",
            "|  dangerous_men_2015|  2293815|  2015-11-12|         Katie Rife|           B+|      fresh|             AV Club|Ridiculous, artle...|            POSITIVE|http://www.avclub...|\n",
            "|  dangerous_men_2015|  2293605|  2015-11-11|      Amy Nicholson|            C|      fresh|         L.A. Weekly|To sit through it...|            POSITIVE|http://www.laweek...|\n",
            "|small_town_wisconsin|102711819|  2022-07-22|         Peter Gray|         null|      fresh|        This is Film|Small Town Wiscon...|            POSITIVE|https://thisisfil...|\n",
            "|small_town_wisconsin|102711545|  2022-07-22|       Tim Grierson|         null|      fresh|Screen International|This low-key dram...|            POSITIVE|https://www.scree...|\n",
            "|small_town_wisconsin|102700937|  2022-06-16|      Sumner Forbes|       8.5/10|      fresh|         Film Threat|Small Town Wiscon...|            POSITIVE|https://filmthrea...|\n",
            "|small_town_wisconsin|102699897|  2022-06-14|      Tara McNamara|          3/5|      fresh|  Common Sense Media|Just like Wayne&#...|            POSITIVE|https://www.commo...|\n",
            "|small_town_wisconsin|102698744|  2022-06-10|         Rob Thomas|          3/4|      fresh|Capital Times (Ma...|It&#8217;s a movi...|            POSITIVE|https://captimes....|\n",
            "|small_town_wisconsin|102698639|  2022-06-10|     Todd Jorgenson|         null|     rotten|         Cinemalogue|Despite some intr...|            NEGATIVE|http://cinemalogu...|\n",
            "+--------------------+---------+------------+-------------------+-------------+-----------+--------------------+--------------------+--------------------+--------------------+\n",
            "only showing top 20 rows\n",
            "\n"
          ]
        }
      ]
    },
    {
      "cell_type": "code",
      "source": [
        "#Checking the null values\n",
        "for column in df2.columns:\n",
        "  null_count_1 = df2.filter(col(column).isNull() | isnan(col(column))).count()\n",
        "  if null_count_1 > 0:\n",
        "    print(f\"Column '{column}' has {null_count_1} null value(s).\")"
      ],
      "metadata": {
        "id": "ATW6IZFpvjG6",
        "colab": {
          "base_uri": "https://localhost:8080/"
        },
        "outputId": "c3f9c978-01c5-4352-863e-8685fad97fb8"
      },
      "execution_count": 18,
      "outputs": [
        {
          "output_type": "stream",
          "name": "stdout",
          "text": [
            "Column 'reviewId' has 868 null value(s).\n",
            "Column 'creationDate' has 871 null value(s).\n",
            "Column 'criticName' has 1077 null value(s).\n",
            "Column 'originalScore' has 436309 null value(s).\n",
            "Column 'reviewState' has 1093 null value(s).\n",
            "Column 'publicatioName' has 1093 null value(s).\n",
            "Column 'reviewText' has 70318 null value(s).\n",
            "Column 'scoreSentiment' has 2082 null value(s).\n",
            "Column 'reviewUrl' has 210424 null value(s).\n"
          ]
        }
      ]
    },
    {
      "cell_type": "code",
      "source": [
        "#Dropping the null values\n",
        "df2 = df2.na.drop()"
      ],
      "metadata": {
        "id": "24M5AveEvjJ_"
      },
      "execution_count": 19,
      "outputs": []
    },
    {
      "cell_type": "code",
      "source": [
        "for column in df2.columns:\n",
        "  null_count = df2.filter(col(column).isNull() | isnan(col(column))).count()\n",
        "  if null_count > 0:\n",
        "    print(f\"Column '{column}' has {null_count} null value(s).\")\n",
        "if null_count == 0:\n",
        "  print(\"Done\")"
      ],
      "metadata": {
        "id": "u7Pdv0RMvjNh",
        "colab": {
          "base_uri": "https://localhost:8080/"
        },
        "outputId": "c0458ad4-6d95-46b5-c61b-e6cf689b2b6b"
      },
      "execution_count": 20,
      "outputs": [
        {
          "output_type": "stream",
          "name": "stdout",
          "text": [
            "Done\n"
          ]
        }
      ]
    },
    {
      "cell_type": "code",
      "source": [
        "#Checking duplicates\n",
        "duplicate_rows = df2.groupBy(df2.columns).count().filter(col('count') > 1)\n",
        "duplicate_rows.show()"
      ],
      "metadata": {
        "id": "j4nhRFhbv3Mv",
        "colab": {
          "base_uri": "https://localhost:8080/"
        },
        "outputId": "fd6f7623-a30e-45ec-a57a-6de580319e09"
      },
      "execution_count": 21,
      "outputs": [
        {
          "output_type": "stream",
          "name": "stdout",
          "text": [
            "+--------------------+--------+------------+----------------+-------------+-----------+--------------------+--------------------+--------------------+--------------------+-----+\n",
            "|                  id|reviewId|creationDate|      criticName|originalScore|reviewState|      publicatioName|          reviewText|      scoreSentiment|           reviewUrl|count|\n",
            "+--------------------+--------+------------+----------------+-------------+-----------+--------------------+--------------------+--------------------+--------------------+-----+\n",
            "|  rembrandts_jaccuse| 2784921|  2021-04-20|  Robin Clifford|           A-|      fresh|     Reeling Reviews|I think I am goin...|            POSITIVE|http://www.reelin...|    2|\n",
            "|       the_two_jakes| 1209647|  2003-10-23|      Rob Thomas|          4/5|      fresh|Capital Times (Ma...|\"Of course it's n...|\"\" but it is sati...|            POSITIVE|    2|\n",
            "|             turnout| 2010470|  2011-09-12|      Anna Smith|          3/5|      fresh|     Empire Magazine|Plenty of 'he's-n...|            POSITIVE|http://www.empire...|    2|\n",
            "|      righteous_kill| 1755519|  2008-09-12|  Adam Fendelman|          2/5|     rotten|HollywoodChicago.com|Al Pacino and Rob...|            NEGATIVE|http://www.hollyw...|    2|\n",
            "|             natural| 2771823|  2021-02-27|   Yasser Medina|         7/10|      fresh|    Cinemaficionados|Barry Levinson's ...|            POSITIVE|https://www.cinem...|    2|\n",
            "|       scary_movie_2|  234824|  2001-07-06|  Robin Clifford|            D|     rotten|     Reeling Reviews|You're better off...|            NEGATIVE|http://www.reelin...|    2|\n",
            "|   fright_night_2011| 2004896|  2011-08-19|Mike McGranaghan|          3/4|      fresh|          Aisle Seat|It's got laughs a...|            POSITIVE|http://aisleseat....|    2|\n",
            "|     stillwater_2020| 2809978|  2021-07-30|Daniel M. Kimmel|          5/5|      fresh|  North Shore Movies|[Camille] Cottin ...|            POSITIVE|https://northshor...|    2|\n",
            "|           shattered| 1680078|  2007-10-14|Joseph Proimakis|          2/5|     rotten|Movies for the Ma...|S' ena boliko sym...|            NEGATIVE|http://mftm.blogs...|    2|\n",
            "|       human_capital| 2242040|  2015-01-13|  Tasha Robinson|          4/5|      fresh|        The Dissolve|The moral ends up...|            POSITIVE|http://thedissolv...|    2|\n",
            "|       human_capital| 2241978|  2015-01-12|   John Anderson|           B+|      fresh|Thompson on Holly...|Human Capital wor...|            POSITIVE|http://www.indiew...|    2|\n",
            "|          rodin_2018| 2481902|  2018-06-01|    Peter Rainer|            C|     rotten|Christian Science...|   A cooped-up slog.|            NEGATIVE|https://www.csmon...|    2|\n",
            "|         wadjda_2013| 2178592|  2013-12-10|   Anthony Quinn|          3/5|      fresh|    Independent (UK)|In the title role...|            POSITIVE|http://www.indepe...|    2|\n",
            "|   fright_night_2011| 2004866|  2011-08-19|     Adam Graham|            B|      fresh|        Detroit News|Farrell is all da...|            POSITIVE|http://detroitnew...|    2|\n",
            "|     kung_fu_panda_3| 2763794|  2021-02-03|  Richard Crouse|          4/5|      fresh|      Richard Crouse|The rare sequel t...|            POSITIVE|http://www.richar...|    2|\n",
            "|     stillwater_2020| 2812088|  2021-08-08|     Simran Hans|          3/5|      fresh|       Observer (UK)|This is a thought...|            POSITIVE|https://www.thegu...|    2|\n",
            "|     stillwater_2020| 2810478|  2021-07-31|    Julian Lytle|            C|      fresh|           idobi.com|\"Stillwater is ok...|            POSITIVE|https://idobi.com...|    2|\n",
            "|mc5_a_true_testim...| 1274514|  2004-04-22|  Elvis Mitchell|        3.5/5|      fresh|      New York Times|A riveting, all-e...|            POSITIVE|http://www.nytime...|    2|\n",
            "|            elephant| 1209941|  2003-10-24|  Robin Clifford|            B|      fresh|     Reeling Reviews|Van Sant handles ...|            POSITIVE|http://www.reelin...|    2|\n",
            "|the_front_runner_...| 2553891|  2019-02-01|   Leigh Paatsch|          2/5|     rotten|Herald Sun (Austr...|It is hard to nai...|            NEGATIVE|https://www.heral...|    2|\n",
            "+--------------------+--------+------------+----------------+-------------+-----------+--------------------+--------------------+--------------------+--------------------+-----+\n",
            "only showing top 20 rows\n",
            "\n"
          ]
        }
      ]
    },
    {
      "cell_type": "markdown",
      "source": [
        "**Integration these 2 datasets**"
      ],
      "metadata": {
        "id": "jHSrjT1Yx2WC"
      }
    },
    {
      "cell_type": "code",
      "source": [
        "# Intergrating the 2 datasets with \"id\" column \n",
        "join_column = \"id\"\n",
        "df3 = df1.join(df2, join_column , \"inner\")\n",
        "df3.show()"
      ],
      "metadata": {
        "id": "GbTl2T12x6Wd",
        "colab": {
          "base_uri": "https://localhost:8080/"
        },
        "outputId": "7b0bf57d-6c4e-4ea9-9c8c-5ca15106ec98"
      },
      "execution_count": 22,
      "outputs": [
        {
          "output_type": "stream",
          "name": "stdout",
          "text": [
            "+--------------+--------------+-------------+-----------+------+--------------------+--------------------+--------------+-----+----------------+------------+--------------------+---------+--------------------+--------------------+---------+------------+----------------+-------------+-----------+--------------------+--------------------+--------------+--------------------+\n",
            "|            id|         title|audienceScore|tomatoMeter|rating|      ratingContents|releaseDateStreaming|runtimeMinutes|genre|originalLanguage|    director|              writer|boxOffice|         distributor|            soundMix| reviewId|creationDate|      criticName|originalScore|reviewState|      publicatioName|          reviewText|scoreSentiment|           reviewUrl|\n",
            "+--------------+--------------+-------------+-----------+------+--------------------+--------------------+--------------+-----+----------------+------------+--------------------+---------+--------------------+--------------------+---------+------------+----------------+-------------+-----------+--------------------+--------------------+--------------+--------------------+\n",
            "|house_of_gucci|House of Gucci|           83|         62|     R|['Language', 'Bri...|          2022-02-01|           157|Drama|         English|Ridley Scott|Becky Johnston,Ro...|   $53.8M|United Artists Re...|Dolby Atmos, Dolb...|102762587|  2022-12-19|Juan Pablo Russo|         2/10|     rotten|     EscribiendoCine|[Ridley] Scott re...|      NEGATIVE|https://www.escri...|\n",
            "|house_of_gucci|House of Gucci|           83|         62|     R|['Language', 'Bri...|          2022-02-01|           157|Drama|         English|Ridley Scott|Becky Johnston,Ro...|   $53.8M|United Artists Re...|Dolby Atmos, Dolb...|102752201|  2022-11-12|     Dallas King|          3/5|     rotten|         Outtake Mag|Much like Leto&#8...|      NEGATIVE|http://outtakemag...|\n",
            "|house_of_gucci|House of Gucci|           83|         62|     R|['Language', 'Bri...|          2022-02-01|           157|Drama|         English|Ridley Scott|Becky Johnston,Ro...|   $53.8M|United Artists Re...|Dolby Atmos, Dolb...|102735810|  2022-09-24|   Maggie Lovitt|           B+|      fresh|Millennial Falcon...|With any other ca...|      POSITIVE|https://www.mille...|\n",
            "|house_of_gucci|House of Gucci|           83|         62|     R|['Language', 'Bri...|          2022-02-01|           157|Drama|         English|Ridley Scott|Becky Johnston,Ro...|   $53.8M|United Artists Re...|Dolby Atmos, Dolb...|102732948|  2022-09-18|  Mark R. Leeper|         9/10|      fresh|Mark Leeper's Rev...|This is more than...|      POSITIVE|http://leepers.us...|\n",
            "|house_of_gucci|House of Gucci|           83|         62|     R|['Language', 'Bri...|          2022-02-01|           157|Drama|         English|Ridley Scott|Becky Johnston,Ro...|   $53.8M|United Artists Re...|Dolby Atmos, Dolb...|102726337|  2022-09-01| Zoë Rose Bryant|        3.5/5|      fresh|Loud and Clear Re...|House of Gucci sh...|      POSITIVE|https://loudandcl...|\n",
            "|house_of_gucci|House of Gucci|           83|         62|     R|['Language', 'Bri...|          2022-02-01|           157|Drama|         English|Ridley Scott|Becky Johnston,Ro...|   $53.8M|United Artists Re...|Dolby Atmos, Dolb...|102719205|  2022-08-16|Keith Garlington|        2.5/5|     rotten|  Keith & the Movies|For about two-thi...|      NEGATIVE|https://keithandt...|\n",
            "|house_of_gucci|House of Gucci|           83|         62|     R|['Language', 'Bri...|          2022-02-01|           157|Drama|         English|Ridley Scott|Becky Johnston,Ro...|   $53.8M|United Artists Re...|Dolby Atmos, Dolb...|102718666|  2022-08-15|    Cris Kennedy|          3/5|      fresh|The Canberra Time...|This film could h...|      POSITIVE|https://www.canbe...|\n",
            "|house_of_gucci|House of Gucci|           83|         62|     R|['Language', 'Bri...|          2022-02-01|           157|Drama|         English|Ridley Scott|Becky Johnston,Ro...|   $53.8M|United Artists Re...|Dolby Atmos, Dolb...|102688087|  2022-05-10|       Dan Bayer|         5/10|     rotten|   Next Best Picture|The campy scenes ...|      NEGATIVE|https://www.nextb...|\n",
            "|house_of_gucci|House of Gucci|           83|         62|     R|['Language', 'Bri...|          2022-02-01|           157|Drama|         English|Ridley Scott|Becky Johnston,Ro...|   $53.8M|United Artists Re...|Dolby Atmos, Dolb...|102675033|  2022-04-01|    Grant Watson|         5/10|     rotten|     Fiction Machine|Textually it is l...|      NEGATIVE|https://fictionma...|\n",
            "|house_of_gucci|House of Gucci|           83|         62|     R|['Language', 'Bri...|          2022-02-01|           157|Drama|         English|Ridley Scott|Becky Johnston,Ro...|   $53.8M|United Artists Re...|Dolby Atmos, Dolb...|102675008|  2022-04-01|   Yasser Medina|         7/10|      fresh|    Cinemaficionados|Scott's proposal ...|      POSITIVE|https://www.cinem...|\n",
            "|house_of_gucci|House of Gucci|           83|         62|     R|['Language', 'Bri...|          2022-02-01|           157|Drama|         English|Ridley Scott|Becky Johnston,Ro...|   $53.8M|United Artists Re...|Dolby Atmos, Dolb...|102671133|  2022-03-22|    David Nusair|          2/4|     rotten|   Reel Film Reviews|...yet another un...|      NEGATIVE|https://reelfilm....|\n",
            "|house_of_gucci|House of Gucci|           83|         62|     R|['Language', 'Bri...|          2022-02-01|           157|Drama|         English|Ridley Scott|Becky Johnston,Ro...|   $53.8M|United Artists Re...|Dolby Atmos, Dolb...|102667642|  2022-03-13|   David Reddish|        3.5/4|      fresh|             Queerty|Lady Gaga fans sh...|      POSITIVE|https://www.queer...|\n",
            "|house_of_gucci|House of Gucci|           83|         62|     R|['Language', 'Bri...|          2022-02-01|           157|Drama|         English|Ridley Scott|Becky Johnston,Ro...|   $53.8M|United Artists Re...|Dolby Atmos, Dolb...|102666534|  2022-03-10|Lauren Veneziani|          4/5|      fresh|        DC Film Girl|It could have bee...|      POSITIVE|https://www.wbalt...|\n",
            "|house_of_gucci|House of Gucci|           83|         62|     R|['Language', 'Bri...|          2022-02-01|           157|Drama|         English|Ridley Scott|Becky Johnston,Ro...|   $53.8M|United Artists Re...|Dolby Atmos, Dolb...|102666533|  2022-03-10|  Michael Medved|        2.5/4|      fresh|The Michael Medve...|It's fun watching...|      POSITIVE|http://www.michae...|\n",
            "|house_of_gucci|House of Gucci|           83|         62|     R|['Language', 'Bri...|          2022-02-01|           157|Drama|         English|Ridley Scott|Becky Johnston,Ro...|   $53.8M|United Artists Re...|Dolby Atmos, Dolb...|102663898|  2022-03-03|Victoria Luxford|          3/5|      fresh|             City AM|Gaga understands ...|      POSITIVE|https://www.citya...|\n",
            "|house_of_gucci|House of Gucci|           83|         62|     R|['Language', 'Bri...|          2022-02-01|           157|Drama|         English|Ridley Scott|Becky Johnston,Ro...|   $53.8M|United Artists Re...|Dolby Atmos, Dolb...|102662354|  2022-02-28| Jennifer Heaton|         5/10|     rotten|    Alternative Lens|Swinging between ...|      NEGATIVE|https://alternati...|\n",
            "|house_of_gucci|House of Gucci|           83|         62|     R|['Language', 'Bri...|          2022-02-01|           157|Drama|         English|Ridley Scott|Becky Johnston,Ro...|   $53.8M|United Artists Re...|Dolby Atmos, Dolb...|102659637|  2022-02-19|    Matt Brunson|          2/4|     rotten|         Film Frenzy|A film that wildl...|      NEGATIVE|https://thefilmfr...|\n",
            "|house_of_gucci|House of Gucci|           83|         62|     R|['Language', 'Bri...|          2022-02-01|           157|Drama|         English|Ridley Scott|Becky Johnston,Ro...|   $53.8M|United Artists Re...|Dolby Atmos, Dolb...|102656351|  2022-02-12|    Rene Sanchez|          2/4|     rotten|  Cine Sin Fronteras|Beneath its lavis...|      NEGATIVE|https://cinesinfr...|\n",
            "|house_of_gucci|House of Gucci|           83|         62|     R|['Language', 'Bri...|          2022-02-01|           157|Drama|         English|Ridley Scott|Becky Johnston,Ro...|   $53.8M|United Artists Re...|Dolby Atmos, Dolb...|102656308|  2022-02-12|  David Gonzalez|          3/4|      fresh|  The Cinematic Reel|House of Gucci is...|      POSITIVE|https://thecinema...|\n",
            "|house_of_gucci|House of Gucci|           83|         62|     R|['Language', 'Bri...|          2022-02-01|           157|Drama|         English|Ridley Scott|Becky Johnston,Ro...|   $53.8M|United Artists Re...|Dolby Atmos, Dolb...|102656068|  2022-02-12|    Brian Eggert|          3/4|      fresh|   Deep Focus Review|House of Gucci qu...|      POSITIVE|https://deepfocus...|\n",
            "+--------------+--------------+-------------+-----------+------+--------------------+--------------------+--------------+-----+----------------+------------+--------------------+---------+--------------------+--------------------+---------+------------+----------------+-------------+-----------+--------------------+--------------------+--------------+--------------------+\n",
            "only showing top 20 rows\n",
            "\n"
          ]
        }
      ]
    },
    {
      "cell_type": "code",
      "source": [
        "# Checking the null values\n",
        "for column in df3.columns:\n",
        "  null_count = df3.filter(col(column).isNull() | isnan(col(column))).count()\n",
        "  if null_count > 0:\n",
        "    print(f\"Column '{column}' has {null_count} null value(s).\")\n",
        "if null_count == 0:\n",
        "  print(\"Done\")"
      ],
      "metadata": {
        "id": "FtoK4zjIyphg",
        "colab": {
          "base_uri": "https://localhost:8080/"
        },
        "outputId": "f2dada10-8eb6-4bc1-a7ab-789413d927a6"
      },
      "execution_count": 23,
      "outputs": [
        {
          "output_type": "stream",
          "name": "stdout",
          "text": [
            "Done\n"
          ]
        }
      ]
    },
    {
      "cell_type": "code",
      "source": [
        "#Checking duplicates\n",
        "duplicate_rows = df3.groupBy(df3.columns).count().filter(col('count') > 1)\n",
        "duplicate_rows.show()"
      ],
      "metadata": {
        "id": "XfP8K1Uty9Kb",
        "colab": {
          "base_uri": "https://localhost:8080/"
        },
        "outputId": "78aa8cc0-05c8-4501-ba58-da7757037bb2"
      },
      "execution_count": 24,
      "outputs": [
        {
          "output_type": "stream",
          "name": "stdout",
          "text": [
            "+--------------------+--------------------+-------------+-----------+------+----------------+--------------------+--------------+------+----------------+-------------+----------------+---------+------------+--------------------+--------+------------+-----------------+-------------+-----------+--------------------+--------------------+--------------+--------------------+-----+\n",
            "|                  id|               title|audienceScore|tomatoMeter|rating|  ratingContents|releaseDateStreaming|runtimeMinutes| genre|originalLanguage|     director|          writer|boxOffice| distributor|            soundMix|reviewId|creationDate|       criticName|originalScore|reviewState|      publicatioName|          reviewText|scoreSentiment|           reviewUrl|count|\n",
            "+--------------------+--------------------+-------------+-----------+------+----------------+--------------------+--------------+------+----------------+-------------+----------------+---------+------------+--------------------+--------+------------+-----------------+-------------+-----------+--------------------+--------------------+--------------+--------------------+-----+\n",
            "|prairie_home_comp...|A Prairie Home Co...|           59|         81| PG-13|['Risque Humor']|          2006-04-25|           105|Comedy|         English|Robert Altman|Garrison Keillor|   $20.3M|Picturehouse|SDDS, Dolby Digit...| 2744496|  2020-11-21|      Mike Massie|         2/10|     rotten| Gone With The Twins|Contains not even...|      NEGATIVE|http://gonewithth...|    4|\n",
            "|prairie_home_comp...|A Prairie Home Co...|           59|         81| PG-13|['Risque Humor']|          2006-04-25|           105|Comedy|         English|Robert Altman|Garrison Keillor|   $20.3M|Picturehouse|SDDS, Dolby Digit...| 2594307|  2019-06-05|     Mattie Lucas|        3.5/4|      fresh|The Dispatch (Lex...|A warm, witty ode...|      POSITIVE|https://www.the-d...|    4|\n",
            "|prairie_home_comp...|A Prairie Home Co...|           59|         81| PG-13|['Risque Humor']|          2006-04-25|           105|Comedy|         English|Robert Altman|Garrison Keillor|   $20.3M|Picturehouse|SDDS, Dolby Digit...| 2447898|  2018-01-05|      Joel Siegel|           B-|      fresh|Good Morning America|There is a great ...|      POSITIVE|http://abcnews.go...|    4|\n",
            "|prairie_home_comp...|A Prairie Home Co...|           59|         81| PG-13|['Risque Humor']|          2006-04-25|           105|Comedy|         English|Robert Altman|Garrison Keillor|   $20.3M|Picturehouse|SDDS, Dolby Digit...| 1978855|  2011-04-20|      Jeff Meyers|           C+|     rotten|Metro Times (Detr...|...for the uninit...|      NEGATIVE|http://www2.metro...|    4|\n",
            "|prairie_home_comp...|A Prairie Home Co...|           59|         81| PG-13|['Risque Humor']|          2006-04-25|           105|Comedy|         English|Robert Altman|Garrison Keillor|   $20.3M|Picturehouse|SDDS, Dolby Digit...| 1925912|  2010-08-24|       Jay Antani|          2/4|     rotten|       Cinema Writer|It looks and feel...|      NEGATIVE|http://cinemawrit...|    4|\n",
            "|prairie_home_comp...|A Prairie Home Co...|           59|         81| PG-13|['Risque Humor']|          2006-04-25|           105|Comedy|         English|Robert Altman|Garrison Keillor|   $20.3M|Picturehouse|SDDS, Dolby Digit...| 1748890|  2008-08-13|     Richard Luck|        3.5/5|      fresh|               Film4|Swan songs are se...|      POSITIVE|http://www.channe...|    4|\n",
            "|prairie_home_comp...|A Prairie Home Co...|           59|         81| PG-13|['Risque Humor']|          2006-04-25|           105|Comedy|         English|Robert Altman|Garrison Keillor|   $20.3M|Picturehouse|SDDS, Dolby Digit...| 1733538|  2008-06-08|     Robert Davis|        3.5/5|      fresh|      Paste Magazine|Altman's star-stu...|      POSITIVE|http://www.pastem...|    4|\n",
            "|prairie_home_comp...|A Prairie Home Co...|           59|         81| PG-13|['Risque Humor']|          2006-04-25|           105|Comedy|         English|Robert Altman|Garrison Keillor|   $20.3M|Picturehouse|SDDS, Dolby Digit...| 1711953|  2008-02-28|    Brandon Fibbs|         7/10|      fresh|    BrandonFibbs.com|...a lovely and b...|      POSITIVE|http://brandonfib...|    4|\n",
            "|prairie_home_comp...|A Prairie Home Co...|           59|         81| PG-13|['Risque Humor']|          2006-04-25|           105|Comedy|         English|Robert Altman|Garrison Keillor|   $20.3M|Picturehouse|SDDS, Dolby Digit...| 1652289|  2007-07-14|       Joe Lozito|        3.5/4|      fresh|Big Picture Big S...|Alternatively wis...|      POSITIVE|http://www.bigpic...|    4|\n",
            "|prairie_home_comp...|A Prairie Home Co...|           59|         81| PG-13|['Risque Humor']|          2006-04-25|           105|Comedy|         English|Robert Altman|Garrison Keillor|   $20.3M|Picturehouse|SDDS, Dolby Digit...| 1640047|  2007-06-16|     Kam Williams|        3.5/4|      fresh|       Richmond Post|This adaptation i...|      POSITIVE|http://www.upstag...|    4|\n",
            "|prairie_home_comp...|A Prairie Home Co...|           59|         81| PG-13|['Risque Humor']|          2006-04-25|           105|Comedy|         English|Robert Altman|Garrison Keillor|   $20.3M|Picturehouse|SDDS, Dolby Digit...| 1636809|  2007-06-03|Enrique Buchichio|          2/5|     rotten|       Uruguay Total|La despedida de R...|      NEGATIVE|http://www.cartel...|    4|\n",
            "|prairie_home_comp...|A Prairie Home Co...|           59|         81| PG-13|['Risque Humor']|          2006-04-25|           105|Comedy|         English|Robert Altman|Garrison Keillor|   $20.3M|Picturehouse|SDDS, Dolby Digit...| 1572159|  2007-01-20|      Dan Jardine|       80/100|      fresh|           Cinemania|Plenty of artistr...|      POSITIVE|http://djardine.b...|    4|\n",
            "|prairie_home_comp...|A Prairie Home Co...|           59|         81| PG-13|['Risque Humor']|          2006-04-25|           105|Comedy|         English|Robert Altman|Garrison Keillor|   $20.3M|Picturehouse|SDDS, Dolby Digit...| 1568335|  2007-01-04|   Matthew Turner|          4/5|      fresh|          ViewLondon|A fitting swanson...|      POSITIVE|http://www.viewlo...|    4|\n",
            "|prairie_home_comp...|A Prairie Home Co...|           59|         81| PG-13|['Risque Humor']|          2006-04-25|           105|Comedy|         English|Robert Altman|Garrison Keillor|   $20.3M|Picturehouse|SDDS, Dolby Digit...| 1565583|  2006-12-30|       Rich Cline|          4/5|      fresh| Shadows on the Wall|This ode to a byg...|      POSITIVE|http://www.shadow...|    4|\n",
            "|prairie_home_comp...|A Prairie Home Co...|           59|         81| PG-13|['Risque Humor']|          2006-04-25|           105|Comedy|         English|Robert Altman|Garrison Keillor|   $20.3M|Picturehouse|SDDS, Dolby Digit...| 1546448|  2006-10-08|      Sandra Hall|        4.5/5|      fresh|Sydney Morning He...|A celebration of ...|      POSITIVE|http://www.smh.co...|    4|\n",
            "|prairie_home_comp...|A Prairie Home Co...|           59|         81| PG-13|['Risque Humor']|          2006-04-25|           105|Comedy|         English|Robert Altman|Garrison Keillor|   $20.3M|Picturehouse|SDDS, Dolby Digit...| 1546398|  2006-10-07|   John J. Puccio|         6/10|     rotten|    Movie Metropolis|...essentially a ...|      NEGATIVE|http://www.dvdtow...|    4|\n",
            "|prairie_home_comp...|A Prairie Home Co...|           59|         81| PG-13|['Risque Humor']|          2006-04-25|           105|Comedy|         English|Robert Altman|Garrison Keillor|   $20.3M|Picturehouse|SDDS, Dolby Digit...| 1539322|  2006-09-20|     Robert Roten|            B|      fresh| Laramie Movie Scope|A whimsical, good...|      POSITIVE|http://www.lariat...|    4|\n",
            "|prairie_home_comp...|A Prairie Home Co...|           59|         81| PG-13|['Risque Humor']|          2006-04-25|           105|Comedy|         English|Robert Altman|Garrison Keillor|   $20.3M|Picturehouse|SDDS, Dolby Digit...| 1535676|  2006-08-31|    Betsy Bozdech|        3.5/4|      fresh|       Hollywood.com|You don't have to...|      POSITIVE|http://www.hollyw...|    4|\n",
            "|prairie_home_comp...|A Prairie Home Co...|           59|         81| PG-13|['Risque Humor']|          2006-04-25|           105|Comedy|         English|Robert Altman|Garrison Keillor|   $20.3M|Picturehouse|SDDS, Dolby Digit...| 1534156|  2006-08-25|   Carolyn Arends|          3/4|      fresh|  Christianity Today|Fans of Altman's ...|      POSITIVE|http://www.christ...|    4|\n",
            "|prairie_home_comp...|A Prairie Home Co...|           59|         81| PG-13|['Risque Humor']|          2006-04-25|           105|Comedy|         English|Robert Altman|Garrison Keillor|   $20.3M|Picturehouse|SDDS, Dolby Digit...| 1533143|  2006-08-19|      Derek Smith|        2.5/4|      fresh|Cinematic Reflect...|With A Prairie Ho...|      POSITIVE|http://www.cinema...|    4|\n",
            "+--------------------+--------------------+-------------+-----------+------+----------------+--------------------+--------------+------+----------------+-------------+----------------+---------+------------+--------------------+--------+------------+-----------------+-------------+-----------+--------------------+--------------------+--------------+--------------------+-----+\n",
            "only showing top 20 rows\n",
            "\n"
          ]
        }
      ]
    },
    {
      "cell_type": "code",
      "source": [
        "# Unwanted cloumns want to drop it \n",
        "columns_to_drop = [\"id\", \"audienceScore\",\"tomatoMeter\",\"rating\",\"ratingContents\",\"releaseDateTheaters\",\"releaseDateStreaming\",\"runtimeMinutes\",\"originalLanguage\",\"writer\",\"distributor\",\"soundMix\",\"reviewId\",\"creationDate\",\"criticName\",\"isTopCritic\",\"originalScore\",\"reviewState\",\"publicatioName\",\"scoreSentiment\",\"reviewUrl\"]"
      ],
      "metadata": {
        "id": "TB79TU30y9Nz"
      },
      "execution_count": 25,
      "outputs": []
    },
    {
      "cell_type": "code",
      "source": [
        "df3 = df3.drop(*columns_to_drop)"
      ],
      "metadata": {
        "id": "9Z6TEaaMy9fC"
      },
      "execution_count": 26,
      "outputs": []
    },
    {
      "cell_type": "code",
      "source": [
        "df3.show()"
      ],
      "metadata": {
        "id": "wb6CxToEzJR1",
        "colab": {
          "base_uri": "https://localhost:8080/"
        },
        "outputId": "1bad93c8-ecf8-4de2-adef-9daca6a697b2"
      },
      "execution_count": 27,
      "outputs": [
        {
          "output_type": "stream",
          "name": "stdout",
          "text": [
            "+---------------+-------------+---------+---------+--------------------+\n",
            "|          title|        genre| director|boxOffice|          reviewText|\n",
            "+---------------+-------------+---------+---------+--------------------+\n",
            "|Monsoon Wedding|Comedy, Drama|Mira Nair|   $13.9M|MONSOON WEDDING i...|\n",
            "|Monsoon Wedding|Comedy, Drama|Mira Nair|   $13.9M|A celebration of ...|\n",
            "|Monsoon Wedding|Comedy, Drama|Mira Nair|   $13.9M|\"Not content to m...|\n",
            "|Monsoon Wedding|Comedy, Drama|Mira Nair|   $13.9M|... among the mos...|\n",
            "|Monsoon Wedding|Comedy, Drama|Mira Nair|   $13.9M|A big, galloping ...|\n",
            "|Monsoon Wedding|Comedy, Drama|Mira Nair|   $13.9M|An optimistic and...|\n",
            "|Monsoon Wedding|Comedy, Drama|Mira Nair|   $13.9M|The best day out ...|\n",
            "|Monsoon Wedding|Comedy, Drama|Mira Nair|   $13.9M|It's not just a t...|\n",
            "|Monsoon Wedding|Comedy, Drama|Mira Nair|   $13.9M|Superbly acted, g...|\n",
            "|Monsoon Wedding|Comedy, Drama|Mira Nair|   $13.9M|so alive and colo...|\n",
            "|Monsoon Wedding|Comedy, Drama|Mira Nair|   $13.9M|May not have as m...|\n",
            "|Monsoon Wedding|Comedy, Drama|Mira Nair|   $13.9M|Nair doesn't use ...|\n",
            "|Monsoon Wedding|Comedy, Drama|Mira Nair|   $13.9M|Nair and screenwr...|\n",
            "|Monsoon Wedding|Comedy, Drama|Mira Nair|   $13.9M|This is a gorgeou...|\n",
            "|Monsoon Wedding|Comedy, Drama|Mira Nair|   $13.9M|Just when you thi...|\n",
            "|Monsoon Wedding|Comedy, Drama|Mira Nair|   $13.9M|Every scene is al...|\n",
            "|Monsoon Wedding|Comedy, Drama|Mira Nair|   $13.9M|Some movies prese...|\n",
            "|Monsoon Wedding|Comedy, Drama|Mira Nair|   $13.9M|Strongly infused ...|\n",
            "|Monsoon Wedding|Comedy, Drama|Mira Nair|   $13.9M|The film is a joy...|\n",
            "|Monsoon Wedding|Comedy, Drama|Mira Nair|   $13.9M|A colorful, joyou...|\n",
            "+---------------+-------------+---------+---------+--------------------+\n",
            "only showing top 20 rows\n",
            "\n"
          ]
        }
      ]
    },
    {
      "cell_type": "markdown",
      "source": [
        "**Reading the third dataset**"
      ],
      "metadata": {
        "id": "gqFfQCIVyAgK"
      }
    },
    {
      "cell_type": "code",
      "source": [
        "df4= spark.read.csv(\"/content/drive/MyDrive/BigData/movies_metadata.csv\", header=True, inferSchema=True)\n"
      ],
      "metadata": {
        "id": "9uR34o8OyK60"
      },
      "execution_count": 28,
      "outputs": []
    },
    {
      "cell_type": "code",
      "source": [
        "num_rows = 10\n",
        "df4.show(num_rows)"
      ],
      "metadata": {
        "id": "FgL9PaMyyXyl",
        "colab": {
          "base_uri": "https://localhost:8080/"
        },
        "outputId": "8658b7e4-2f0a-4388-d6fb-95cfdf531f6f"
      },
      "execution_count": 29,
      "outputs": [
        {
          "output_type": "stream",
          "name": "stdout",
          "text": [
            "+-----+---------------------+--------+--------------------+--------------------+-----+---------+-----------------+--------------------+--------------------+----------+--------------------+--------------------+--------------------+--------------------+--------------------+--------------------+--------------------+--------+--------------------+--------------------+--------+--------------------+-----------------+\n",
            "|adult|belongs_to_collection|  budget|              genres|            homepage|   id|  imdb_id|original_language|      original_title|            overview|popularity|         poster_path|production_companies|production_countries|        release_date|             revenue|             runtime|    spoken_languages|  status|             tagline|               title|   video|        vote_average|       vote_count|\n",
            "+-----+---------------------+--------+--------------------+--------------------+-----+---------+-----------------+--------------------+--------------------+----------+--------------------+--------------------+--------------------+--------------------+--------------------+--------------------+--------------------+--------+--------------------+--------------------+--------+--------------------+-----------------+\n",
            "|False| {'id': 10194, 'na...|30000000|[{'id': 16, 'name...|http://toystory.d...|  862|tt0114709|               en|           Toy Story|Led by Woody, And...| 21.946943|/rhIRbceoE9lR4veE...|[{'name': 'Pixar ...|[{'iso_3166_1': '...|          1995-10-30|           373554033|                81.0|[{'iso_639_1': 'e...|Released|                null|           Toy Story|   False|                 7.7|             5415|\n",
            "|False|                 null|65000000|[{'id': 12, 'name...|                null| 8844|tt0113497|               en|             Jumanji|When siblings Jud...| 17.015539|/vzmL6fP7aPKNKPRT...|[{'name': 'TriSta...|[{'iso_3166_1': '...|          1995-12-15|           262797249|               104.0|[{'iso_639_1': 'e...|Released|Roll the dice and...|             Jumanji|   False|                 6.9|             2413|\n",
            "|False| {'id': 119050, 'n...|       0|[{'id': 10749, 'n...|                null|15602|tt0113228|               en|    Grumpier Old Men|A family wedding ...|   11.7129|/6ksm1sjKMFLbO7UY...|[{'name': 'Warner...|[{'iso_3166_1': '...|          1995-12-22|                   0|               101.0|[{'iso_639_1': 'e...|Released|Still Yelling. St...|    Grumpier Old Men|   False|                 6.5|               92|\n",
            "|False|                 null|16000000|[{'id': 35, 'name...|                null|31357|tt0114885|               en|   Waiting to Exhale|\"Cheated on, mist...|    Bernie| Glo and Robin ta...| determined to fi...|            3.859495|/16XOMpEaLWkrcPqS...|[{'name': 'Twenti...|[{'iso_3166_1': '...|          1995-12-22|81452156|               127.0|[{'iso_639_1': 'e...|Released|Friends are the p...|Waiting to Exhale|\n",
            "|False| {'id': 96871, 'na...|       0|[{'id': 35, 'name...|                null|11862|tt0113041|               en|Father of the Bri...|Just when George ...|  8.387519|/e64sOI48hQXyru7n...|[{'name': 'Sandol...|[{'iso_3166_1': '...|          1995-02-10|            76578911|               106.0|[{'iso_639_1': 'e...|Released|Just When His Wor...|Father of the Bri...|   False|                 5.7|              173|\n",
            "|False|                 null|60000000|[{'id': 28, 'name...|                null|  949|tt0113277|               en|                Heat|Obsessive master ...| 17.924927|/zMyfPUelumio3tiD...|[{'name': 'Regenc...|[{'iso_3166_1': '...|          1995-12-15|           187436818|               170.0|[{'iso_639_1': 'e...|Released|A Los Angeles Cri...|                Heat|   False|                 7.7|             1886|\n",
            "|False|                 null|58000000|[{'id': 35, 'name...|                null|11860|tt0114319|               en|             Sabrina|An ugly duckling ...|  6.677277|/jQh15y5YB7bWz1Nt...|[{'name': 'Paramo...|[{'iso_3166_1': '...|          1995-12-15|                   0|               127.0|[{'iso_639_1': 'f...|Released|You are cordially...|             Sabrina|   False|                 6.2|              141|\n",
            "|False|                 null|       0|[{'id': 28, 'name...|                null|45325|tt0112302|               en|        Tom and Huck|A mischievous you...|  2.561161|/sGO5Qa55p7wTu7FJ...|[{'name': 'Walt D...|[{'iso_3166_1': '...|          1995-12-22|                   0|                97.0|[{'iso_639_1': 'e...|Released|The Original Bad ...|        Tom and Huck|   False|                 5.4|               45|\n",
            "|False|                 null|35000000|[{'id': 28, 'name...|                null| 9091|tt0114576|               en|        Sudden Death|International act...|   5.23158|/eoWvKD60lT95Ss1M...|[{'name': 'Univer...|[{'iso_3166_1': '...|          1995-12-22|            64350171|               106.0|[{'iso_639_1': 'e...|Released|Terror goes into ...|        Sudden Death|   False|                 5.5|              174|\n",
            "|False| {'id': 645, 'name...|58000000|[{'id': 12, 'name...|http://www.mgm.co...|  710|tt0113189|               en|           GoldenEye|James Bond must u...| 14.686036|/5c0ovjT41KnYIHYu...|[{'name': 'United...|[{'iso_3166_1': '...|          1995-11-16|           352194034|               130.0|[{'iso_639_1': 'e...|Released|No limits. No fea...|           GoldenEye|   False|                 6.6|             1194|\n",
            "+-----+---------------------+--------+--------------------+--------------------+-----+---------+-----------------+--------------------+--------------------+----------+--------------------+--------------------+--------------------+--------------------+--------------------+--------------------+--------------------+--------+--------------------+--------------------+--------+--------------------+-----------------+\n",
            "only showing top 10 rows\n",
            "\n"
          ]
        }
      ]
    },
    {
      "cell_type": "markdown",
      "source": [
        "\n",
        "**Integrating the third dataset **\n",
        "---\n",
        "\n"
      ],
      "metadata": {
        "id": "g6h29x8RkEWe"
      }
    },
    {
      "cell_type": "code",
      "source": [
        "#Integration \n",
        "join_column = \"title\"\n",
        "df5 = df3.join(df4, join_column , \"inner\")\n",
        "df5.show()"
      ],
      "metadata": {
        "id": "ZlTbUSSxyX4Z",
        "colab": {
          "base_uri": "https://localhost:8080/"
        },
        "outputId": "0ecb5501-6f32-4017-da1e-f5db3a955060"
      },
      "execution_count": 30,
      "outputs": [
        {
          "output_type": "stream",
          "name": "stdout",
          "text": [
            "+----------------+--------------------+-------------+---------+--------------------+-----+---------------------+--------+--------------------+--------+-----+---------+-----------------+----------------+--------------------+----------+--------------------+--------------------+--------------------+------------+---------+-------+--------------------+--------+--------------------+-----+------------+----------+\n",
            "|           title|               genre|     director|boxOffice|          reviewText|adult|belongs_to_collection|  budget|              genres|homepage|   id|  imdb_id|original_language|  original_title|            overview|popularity|         poster_path|production_companies|production_countries|release_date|  revenue|runtime|    spoken_languages|  status|             tagline|video|vote_average|vote_count|\n",
            "+----------------+--------------------+-------------+---------+--------------------+-----+---------------------+--------+--------------------+--------+-----+---------+-----------------+----------------+--------------------+----------+--------------------+--------------------+--------------------+------------+---------+-------+--------------------+--------+--------------------+-----+------------+----------+\n",
            "|12 Years a Slave|History, Drama, B...|Steve McQueen|   $56.7M|Piercing and hear...|False|                 null|20000000|[{'id': 18, 'name...|    null|76203|tt2024544|               en|12 Years a Slave|In the pre-Civil ...| 30.316249|/kb3X943WMIJYVg4S...|[{'name': 'Plan B...|[{'iso_3166_1': '...|  2013-10-18|187000000|  134.0|[{'iso_639_1': 'e...|Released|The extraordinary...|False|         7.9|      3787|\n",
            "|12 Years a Slave|History, Drama, B...|Steve McQueen|   $56.7M|Unsettling and pa...|False|                 null|20000000|[{'id': 18, 'name...|    null|76203|tt2024544|               en|12 Years a Slave|In the pre-Civil ...| 30.316249|/kb3X943WMIJYVg4S...|[{'name': 'Plan B...|[{'iso_3166_1': '...|  2013-10-18|187000000|  134.0|[{'iso_639_1': 'e...|Released|The extraordinary...|False|         7.9|      3787|\n",
            "|12 Years a Slave|History, Drama, B...|Steve McQueen|   $56.7M|McQueen&apos;s vi...|False|                 null|20000000|[{'id': 18, 'name...|    null|76203|tt2024544|               en|12 Years a Slave|In the pre-Civil ...| 30.316249|/kb3X943WMIJYVg4S...|[{'name': 'Plan B...|[{'iso_3166_1': '...|  2013-10-18|187000000|  134.0|[{'iso_639_1': 'e...|Released|The extraordinary...|False|         7.9|      3787|\n",
            "|12 Years a Slave|History, Drama, B...|Steve McQueen|   $56.7M|A lot of the slav...|False|                 null|20000000|[{'id': 18, 'name...|    null|76203|tt2024544|               en|12 Years a Slave|In the pre-Civil ...| 30.316249|/kb3X943WMIJYVg4S...|[{'name': 'Plan B...|[{'iso_3166_1': '...|  2013-10-18|187000000|  134.0|[{'iso_639_1': 'e...|Released|The extraordinary...|False|         7.9|      3787|\n",
            "|12 Years a Slave|History, Drama, B...|Steve McQueen|   $56.7M|Steve McQueen did...|False|                 null|20000000|[{'id': 18, 'name...|    null|76203|tt2024544|               en|12 Years a Slave|In the pre-Civil ...| 30.316249|/kb3X943WMIJYVg4S...|[{'name': 'Plan B...|[{'iso_3166_1': '...|  2013-10-18|187000000|  134.0|[{'iso_639_1': 'e...|Released|The extraordinary...|False|         7.9|      3787|\n",
            "|12 Years a Slave|History, Drama, B...|Steve McQueen|   $56.7M|It is a story tha...|False|                 null|20000000|[{'id': 18, 'name...|    null|76203|tt2024544|               en|12 Years a Slave|In the pre-Civil ...| 30.316249|/kb3X943WMIJYVg4S...|[{'name': 'Plan B...|[{'iso_3166_1': '...|  2013-10-18|187000000|  134.0|[{'iso_639_1': 'e...|Released|The extraordinary...|False|         7.9|      3787|\n",
            "|12 Years a Slave|History, Drama, B...|Steve McQueen|   $56.7M|Steve McQueen's f...|False|                 null|20000000|[{'id': 18, 'name...|    null|76203|tt2024544|               en|12 Years a Slave|In the pre-Civil ...| 30.316249|/kb3X943WMIJYVg4S...|[{'name': 'Plan B...|[{'iso_3166_1': '...|  2013-10-18|187000000|  134.0|[{'iso_639_1': 'e...|Released|The extraordinary...|False|         7.9|      3787|\n",
            "|12 Years a Slave|History, Drama, B...|Steve McQueen|   $56.7M|A harrowing, star...|False|                 null|20000000|[{'id': 18, 'name...|    null|76203|tt2024544|               en|12 Years a Slave|In the pre-Civil ...| 30.316249|/kb3X943WMIJYVg4S...|[{'name': 'Plan B...|[{'iso_3166_1': '...|  2013-10-18|187000000|  134.0|[{'iso_639_1': 'e...|Released|The extraordinary...|False|         7.9|      3787|\n",
            "|12 Years a Slave|History, Drama, B...|Steve McQueen|   $56.7M|The subject matte...|False|                 null|20000000|[{'id': 18, 'name...|    null|76203|tt2024544|               en|12 Years a Slave|In the pre-Civil ...| 30.316249|/kb3X943WMIJYVg4S...|[{'name': 'Plan B...|[{'iso_3166_1': '...|  2013-10-18|187000000|  134.0|[{'iso_639_1': 'e...|Released|The extraordinary...|False|         7.9|      3787|\n",
            "|12 Years a Slave|History, Drama, B...|Steve McQueen|   $56.7M|It seems impossib...|False|                 null|20000000|[{'id': 18, 'name...|    null|76203|tt2024544|               en|12 Years a Slave|In the pre-Civil ...| 30.316249|/kb3X943WMIJYVg4S...|[{'name': 'Plan B...|[{'iso_3166_1': '...|  2013-10-18|187000000|  134.0|[{'iso_639_1': 'e...|Released|The extraordinary...|False|         7.9|      3787|\n",
            "|12 Years a Slave|History, Drama, B...|Steve McQueen|   $56.7M|It may have taken...|False|                 null|20000000|[{'id': 18, 'name...|    null|76203|tt2024544|               en|12 Years a Slave|In the pre-Civil ...| 30.316249|/kb3X943WMIJYVg4S...|[{'name': 'Plan B...|[{'iso_3166_1': '...|  2013-10-18|187000000|  134.0|[{'iso_639_1': 'e...|Released|The extraordinary...|False|         7.9|      3787|\n",
            "|12 Years a Slave|History, Drama, B...|Steve McQueen|   $56.7M|An incredible sto...|False|                 null|20000000|[{'id': 18, 'name...|    null|76203|tt2024544|               en|12 Years a Slave|In the pre-Civil ...| 30.316249|/kb3X943WMIJYVg4S...|[{'name': 'Plan B...|[{'iso_3166_1': '...|  2013-10-18|187000000|  134.0|[{'iso_639_1': 'e...|Released|The extraordinary...|False|         7.9|      3787|\n",
            "|12 Years a Slave|History, Drama, B...|Steve McQueen|   $56.7M|I only have one w...|False|                 null|20000000|[{'id': 18, 'name...|    null|76203|tt2024544|               en|12 Years a Slave|In the pre-Civil ...| 30.316249|/kb3X943WMIJYVg4S...|[{'name': 'Plan B...|[{'iso_3166_1': '...|  2013-10-18|187000000|  134.0|[{'iso_639_1': 'e...|Released|The extraordinary...|False|         7.9|      3787|\n",
            "|12 Years a Slave|History, Drama, B...|Steve McQueen|   $56.7M|The dramatic powe...|False|                 null|20000000|[{'id': 18, 'name...|    null|76203|tt2024544|               en|12 Years a Slave|In the pre-Civil ...| 30.316249|/kb3X943WMIJYVg4S...|[{'name': 'Plan B...|[{'iso_3166_1': '...|  2013-10-18|187000000|  134.0|[{'iso_639_1': 'e...|Released|The extraordinary...|False|         7.9|      3787|\n",
            "|12 Years a Slave|History, Drama, B...|Steve McQueen|   $56.7M|Overall, 12 Years...|False|                 null|20000000|[{'id': 18, 'name...|    null|76203|tt2024544|               en|12 Years a Slave|In the pre-Civil ...| 30.316249|/kb3X943WMIJYVg4S...|[{'name': 'Plan B...|[{'iso_3166_1': '...|  2013-10-18|187000000|  134.0|[{'iso_639_1': 'e...|Released|The extraordinary...|False|         7.9|      3787|\n",
            "|12 Years a Slave|History, Drama, B...|Steve McQueen|   $56.7M|12 Years a Slave ...|False|                 null|20000000|[{'id': 18, 'name...|    null|76203|tt2024544|               en|12 Years a Slave|In the pre-Civil ...| 30.316249|/kb3X943WMIJYVg4S...|[{'name': 'Plan B...|[{'iso_3166_1': '...|  2013-10-18|187000000|  134.0|[{'iso_639_1': 'e...|Released|The extraordinary...|False|         7.9|      3787|\n",
            "|12 Years a Slave|History, Drama, B...|Steve McQueen|   $56.7M|It's an exhaustin...|False|                 null|20000000|[{'id': 18, 'name...|    null|76203|tt2024544|               en|12 Years a Slave|In the pre-Civil ...| 30.316249|/kb3X943WMIJYVg4S...|[{'name': 'Plan B...|[{'iso_3166_1': '...|  2013-10-18|187000000|  134.0|[{'iso_639_1': 'e...|Released|The extraordinary...|False|         7.9|      3787|\n",
            "|12 Years a Slave|History, Drama, B...|Steve McQueen|   $56.7M|Too often have [s...|False|                 null|20000000|[{'id': 18, 'name...|    null|76203|tt2024544|               en|12 Years a Slave|In the pre-Civil ...| 30.316249|/kb3X943WMIJYVg4S...|[{'name': 'Plan B...|[{'iso_3166_1': '...|  2013-10-18|187000000|  134.0|[{'iso_639_1': 'e...|Released|The extraordinary...|False|         7.9|      3787|\n",
            "|12 Years a Slave|History, Drama, B...|Steve McQueen|   $56.7M|12 Years A Slave ...|False|                 null|20000000|[{'id': 18, 'name...|    null|76203|tt2024544|               en|12 Years a Slave|In the pre-Civil ...| 30.316249|/kb3X943WMIJYVg4S...|[{'name': 'Plan B...|[{'iso_3166_1': '...|  2013-10-18|187000000|  134.0|[{'iso_639_1': 'e...|Released|The extraordinary...|False|         7.9|      3787|\n",
            "|12 Years a Slave|History, Drama, B...|Steve McQueen|   $56.7M|The definitive fi...|False|                 null|20000000|[{'id': 18, 'name...|    null|76203|tt2024544|               en|12 Years a Slave|In the pre-Civil ...| 30.316249|/kb3X943WMIJYVg4S...|[{'name': 'Plan B...|[{'iso_3166_1': '...|  2013-10-18|187000000|  134.0|[{'iso_639_1': 'e...|Released|The extraordinary...|False|         7.9|      3787|\n",
            "+----------------+--------------------+-------------+---------+--------------------+-----+---------------------+--------+--------------------+--------+-----+---------+-----------------+----------------+--------------------+----------+--------------------+--------------------+--------------------+------------+---------+-------+--------------------+--------+--------------------+-----+------------+----------+\n",
            "only showing top 20 rows\n",
            "\n"
          ]
        }
      ]
    },
    {
      "cell_type": "code",
      "source": [
        "# Unwanted columns want to drop \n",
        "columns_to_drop = [\"belongs_to_collection\", \"homepage\",\"imdb_id\",\"poster_path\",\"tagline\",\"video\",\"status\",\"spoken_languages\",\"original_title\",\"id\",\"genres\"]\n",
        "df5 = df5.drop(*columns_to_drop)\n",
        "df5.show()"
      ],
      "metadata": {
        "colab": {
          "base_uri": "https://localhost:8080/"
        },
        "id": "e43uP1XKlVbz",
        "outputId": "38661b2d-4937-4988-d3e6-b3b25856ed70"
      },
      "execution_count": 31,
      "outputs": [
        {
          "output_type": "stream",
          "name": "stdout",
          "text": [
            "+----------------+--------------------+-------------+---------+--------------------+-----+--------+-----------------+--------------------+----------+--------------------+--------------------+------------+---------+-------+------------+----------+\n",
            "|           title|               genre|     director|boxOffice|          reviewText|adult|  budget|original_language|            overview|popularity|production_companies|production_countries|release_date|  revenue|runtime|vote_average|vote_count|\n",
            "+----------------+--------------------+-------------+---------+--------------------+-----+--------+-----------------+--------------------+----------+--------------------+--------------------+------------+---------+-------+------------+----------+\n",
            "|12 Years a Slave|History, Drama, B...|Steve McQueen|   $56.7M|Piercing and hear...|False|20000000|               en|In the pre-Civil ...| 30.316249|[{'name': 'Plan B...|[{'iso_3166_1': '...|  2013-10-18|187000000|  134.0|         7.9|      3787|\n",
            "|12 Years a Slave|History, Drama, B...|Steve McQueen|   $56.7M|Unsettling and pa...|False|20000000|               en|In the pre-Civil ...| 30.316249|[{'name': 'Plan B...|[{'iso_3166_1': '...|  2013-10-18|187000000|  134.0|         7.9|      3787|\n",
            "|12 Years a Slave|History, Drama, B...|Steve McQueen|   $56.7M|McQueen&apos;s vi...|False|20000000|               en|In the pre-Civil ...| 30.316249|[{'name': 'Plan B...|[{'iso_3166_1': '...|  2013-10-18|187000000|  134.0|         7.9|      3787|\n",
            "|12 Years a Slave|History, Drama, B...|Steve McQueen|   $56.7M|A lot of the slav...|False|20000000|               en|In the pre-Civil ...| 30.316249|[{'name': 'Plan B...|[{'iso_3166_1': '...|  2013-10-18|187000000|  134.0|         7.9|      3787|\n",
            "|12 Years a Slave|History, Drama, B...|Steve McQueen|   $56.7M|Steve McQueen did...|False|20000000|               en|In the pre-Civil ...| 30.316249|[{'name': 'Plan B...|[{'iso_3166_1': '...|  2013-10-18|187000000|  134.0|         7.9|      3787|\n",
            "|12 Years a Slave|History, Drama, B...|Steve McQueen|   $56.7M|It is a story tha...|False|20000000|               en|In the pre-Civil ...| 30.316249|[{'name': 'Plan B...|[{'iso_3166_1': '...|  2013-10-18|187000000|  134.0|         7.9|      3787|\n",
            "|12 Years a Slave|History, Drama, B...|Steve McQueen|   $56.7M|Steve McQueen's f...|False|20000000|               en|In the pre-Civil ...| 30.316249|[{'name': 'Plan B...|[{'iso_3166_1': '...|  2013-10-18|187000000|  134.0|         7.9|      3787|\n",
            "|12 Years a Slave|History, Drama, B...|Steve McQueen|   $56.7M|A harrowing, star...|False|20000000|               en|In the pre-Civil ...| 30.316249|[{'name': 'Plan B...|[{'iso_3166_1': '...|  2013-10-18|187000000|  134.0|         7.9|      3787|\n",
            "|12 Years a Slave|History, Drama, B...|Steve McQueen|   $56.7M|The subject matte...|False|20000000|               en|In the pre-Civil ...| 30.316249|[{'name': 'Plan B...|[{'iso_3166_1': '...|  2013-10-18|187000000|  134.0|         7.9|      3787|\n",
            "|12 Years a Slave|History, Drama, B...|Steve McQueen|   $56.7M|It seems impossib...|False|20000000|               en|In the pre-Civil ...| 30.316249|[{'name': 'Plan B...|[{'iso_3166_1': '...|  2013-10-18|187000000|  134.0|         7.9|      3787|\n",
            "|12 Years a Slave|History, Drama, B...|Steve McQueen|   $56.7M|It may have taken...|False|20000000|               en|In the pre-Civil ...| 30.316249|[{'name': 'Plan B...|[{'iso_3166_1': '...|  2013-10-18|187000000|  134.0|         7.9|      3787|\n",
            "|12 Years a Slave|History, Drama, B...|Steve McQueen|   $56.7M|An incredible sto...|False|20000000|               en|In the pre-Civil ...| 30.316249|[{'name': 'Plan B...|[{'iso_3166_1': '...|  2013-10-18|187000000|  134.0|         7.9|      3787|\n",
            "|12 Years a Slave|History, Drama, B...|Steve McQueen|   $56.7M|I only have one w...|False|20000000|               en|In the pre-Civil ...| 30.316249|[{'name': 'Plan B...|[{'iso_3166_1': '...|  2013-10-18|187000000|  134.0|         7.9|      3787|\n",
            "|12 Years a Slave|History, Drama, B...|Steve McQueen|   $56.7M|The dramatic powe...|False|20000000|               en|In the pre-Civil ...| 30.316249|[{'name': 'Plan B...|[{'iso_3166_1': '...|  2013-10-18|187000000|  134.0|         7.9|      3787|\n",
            "|12 Years a Slave|History, Drama, B...|Steve McQueen|   $56.7M|Overall, 12 Years...|False|20000000|               en|In the pre-Civil ...| 30.316249|[{'name': 'Plan B...|[{'iso_3166_1': '...|  2013-10-18|187000000|  134.0|         7.9|      3787|\n",
            "|12 Years a Slave|History, Drama, B...|Steve McQueen|   $56.7M|12 Years a Slave ...|False|20000000|               en|In the pre-Civil ...| 30.316249|[{'name': 'Plan B...|[{'iso_3166_1': '...|  2013-10-18|187000000|  134.0|         7.9|      3787|\n",
            "|12 Years a Slave|History, Drama, B...|Steve McQueen|   $56.7M|It's an exhaustin...|False|20000000|               en|In the pre-Civil ...| 30.316249|[{'name': 'Plan B...|[{'iso_3166_1': '...|  2013-10-18|187000000|  134.0|         7.9|      3787|\n",
            "|12 Years a Slave|History, Drama, B...|Steve McQueen|   $56.7M|Too often have [s...|False|20000000|               en|In the pre-Civil ...| 30.316249|[{'name': 'Plan B...|[{'iso_3166_1': '...|  2013-10-18|187000000|  134.0|         7.9|      3787|\n",
            "|12 Years a Slave|History, Drama, B...|Steve McQueen|   $56.7M|12 Years A Slave ...|False|20000000|               en|In the pre-Civil ...| 30.316249|[{'name': 'Plan B...|[{'iso_3166_1': '...|  2013-10-18|187000000|  134.0|         7.9|      3787|\n",
            "|12 Years a Slave|History, Drama, B...|Steve McQueen|   $56.7M|The definitive fi...|False|20000000|               en|In the pre-Civil ...| 30.316249|[{'name': 'Plan B...|[{'iso_3166_1': '...|  2013-10-18|187000000|  134.0|         7.9|      3787|\n",
            "+----------------+--------------------+-------------+---------+--------------------+-----+--------+-----------------+--------------------+----------+--------------------+--------------------+------------+---------+-------+------------+----------+\n",
            "only showing top 20 rows\n",
            "\n"
          ]
        }
      ]
    },
    {
      "cell_type": "code",
      "source": [
        "\n",
        "df5.show()"
      ],
      "metadata": {
        "colab": {
          "base_uri": "https://localhost:8080/"
        },
        "id": "FyQ44SfyU7rr",
        "outputId": "e3ba9896-da12-4b7a-9a62-13a4b20d72fb"
      },
      "execution_count": 32,
      "outputs": [
        {
          "output_type": "stream",
          "name": "stdout",
          "text": [
            "+----------------+--------------------+-------------+---------+--------------------+-----+--------+-----------------+--------------------+----------+--------------------+--------------------+------------+---------+-------+------------+----------+\n",
            "|           title|               genre|     director|boxOffice|          reviewText|adult|  budget|original_language|            overview|popularity|production_companies|production_countries|release_date|  revenue|runtime|vote_average|vote_count|\n",
            "+----------------+--------------------+-------------+---------+--------------------+-----+--------+-----------------+--------------------+----------+--------------------+--------------------+------------+---------+-------+------------+----------+\n",
            "|12 Years a Slave|History, Drama, B...|Steve McQueen|   $56.7M|Piercing and hear...|False|20000000|               en|In the pre-Civil ...| 30.316249|[{'name': 'Plan B...|[{'iso_3166_1': '...|  2013-10-18|187000000|  134.0|         7.9|      3787|\n",
            "|12 Years a Slave|History, Drama, B...|Steve McQueen|   $56.7M|Unsettling and pa...|False|20000000|               en|In the pre-Civil ...| 30.316249|[{'name': 'Plan B...|[{'iso_3166_1': '...|  2013-10-18|187000000|  134.0|         7.9|      3787|\n",
            "|12 Years a Slave|History, Drama, B...|Steve McQueen|   $56.7M|McQueen&apos;s vi...|False|20000000|               en|In the pre-Civil ...| 30.316249|[{'name': 'Plan B...|[{'iso_3166_1': '...|  2013-10-18|187000000|  134.0|         7.9|      3787|\n",
            "|12 Years a Slave|History, Drama, B...|Steve McQueen|   $56.7M|A lot of the slav...|False|20000000|               en|In the pre-Civil ...| 30.316249|[{'name': 'Plan B...|[{'iso_3166_1': '...|  2013-10-18|187000000|  134.0|         7.9|      3787|\n",
            "|12 Years a Slave|History, Drama, B...|Steve McQueen|   $56.7M|Steve McQueen did...|False|20000000|               en|In the pre-Civil ...| 30.316249|[{'name': 'Plan B...|[{'iso_3166_1': '...|  2013-10-18|187000000|  134.0|         7.9|      3787|\n",
            "|12 Years a Slave|History, Drama, B...|Steve McQueen|   $56.7M|It is a story tha...|False|20000000|               en|In the pre-Civil ...| 30.316249|[{'name': 'Plan B...|[{'iso_3166_1': '...|  2013-10-18|187000000|  134.0|         7.9|      3787|\n",
            "|12 Years a Slave|History, Drama, B...|Steve McQueen|   $56.7M|Steve McQueen's f...|False|20000000|               en|In the pre-Civil ...| 30.316249|[{'name': 'Plan B...|[{'iso_3166_1': '...|  2013-10-18|187000000|  134.0|         7.9|      3787|\n",
            "|12 Years a Slave|History, Drama, B...|Steve McQueen|   $56.7M|A harrowing, star...|False|20000000|               en|In the pre-Civil ...| 30.316249|[{'name': 'Plan B...|[{'iso_3166_1': '...|  2013-10-18|187000000|  134.0|         7.9|      3787|\n",
            "|12 Years a Slave|History, Drama, B...|Steve McQueen|   $56.7M|The subject matte...|False|20000000|               en|In the pre-Civil ...| 30.316249|[{'name': 'Plan B...|[{'iso_3166_1': '...|  2013-10-18|187000000|  134.0|         7.9|      3787|\n",
            "|12 Years a Slave|History, Drama, B...|Steve McQueen|   $56.7M|It seems impossib...|False|20000000|               en|In the pre-Civil ...| 30.316249|[{'name': 'Plan B...|[{'iso_3166_1': '...|  2013-10-18|187000000|  134.0|         7.9|      3787|\n",
            "|12 Years a Slave|History, Drama, B...|Steve McQueen|   $56.7M|It may have taken...|False|20000000|               en|In the pre-Civil ...| 30.316249|[{'name': 'Plan B...|[{'iso_3166_1': '...|  2013-10-18|187000000|  134.0|         7.9|      3787|\n",
            "|12 Years a Slave|History, Drama, B...|Steve McQueen|   $56.7M|An incredible sto...|False|20000000|               en|In the pre-Civil ...| 30.316249|[{'name': 'Plan B...|[{'iso_3166_1': '...|  2013-10-18|187000000|  134.0|         7.9|      3787|\n",
            "|12 Years a Slave|History, Drama, B...|Steve McQueen|   $56.7M|I only have one w...|False|20000000|               en|In the pre-Civil ...| 30.316249|[{'name': 'Plan B...|[{'iso_3166_1': '...|  2013-10-18|187000000|  134.0|         7.9|      3787|\n",
            "|12 Years a Slave|History, Drama, B...|Steve McQueen|   $56.7M|The dramatic powe...|False|20000000|               en|In the pre-Civil ...| 30.316249|[{'name': 'Plan B...|[{'iso_3166_1': '...|  2013-10-18|187000000|  134.0|         7.9|      3787|\n",
            "|12 Years a Slave|History, Drama, B...|Steve McQueen|   $56.7M|Overall, 12 Years...|False|20000000|               en|In the pre-Civil ...| 30.316249|[{'name': 'Plan B...|[{'iso_3166_1': '...|  2013-10-18|187000000|  134.0|         7.9|      3787|\n",
            "|12 Years a Slave|History, Drama, B...|Steve McQueen|   $56.7M|12 Years a Slave ...|False|20000000|               en|In the pre-Civil ...| 30.316249|[{'name': 'Plan B...|[{'iso_3166_1': '...|  2013-10-18|187000000|  134.0|         7.9|      3787|\n",
            "|12 Years a Slave|History, Drama, B...|Steve McQueen|   $56.7M|It's an exhaustin...|False|20000000|               en|In the pre-Civil ...| 30.316249|[{'name': 'Plan B...|[{'iso_3166_1': '...|  2013-10-18|187000000|  134.0|         7.9|      3787|\n",
            "|12 Years a Slave|History, Drama, B...|Steve McQueen|   $56.7M|Too often have [s...|False|20000000|               en|In the pre-Civil ...| 30.316249|[{'name': 'Plan B...|[{'iso_3166_1': '...|  2013-10-18|187000000|  134.0|         7.9|      3787|\n",
            "|12 Years a Slave|History, Drama, B...|Steve McQueen|   $56.7M|12 Years A Slave ...|False|20000000|               en|In the pre-Civil ...| 30.316249|[{'name': 'Plan B...|[{'iso_3166_1': '...|  2013-10-18|187000000|  134.0|         7.9|      3787|\n",
            "|12 Years a Slave|History, Drama, B...|Steve McQueen|   $56.7M|The definitive fi...|False|20000000|               en|In the pre-Civil ...| 30.316249|[{'name': 'Plan B...|[{'iso_3166_1': '...|  2013-10-18|187000000|  134.0|         7.9|      3787|\n",
            "+----------------+--------------------+-------------+---------+--------------------+-----+--------+-----------------+--------------------+----------+--------------------+--------------------+------------+---------+-------+------------+----------+\n",
            "only showing top 20 rows\n",
            "\n"
          ]
        }
      ]
    },
    {
      "cell_type": "code",
      "source": [
        "#Checking the null values\n",
        "for column in df5.columns:\n",
        "  null_count_1 = df5.filter(col(column).isNull() | isnan(col(column))).count()\n",
        "  if null_count_1 > 0:\n",
        "    print(f\"Column '{column}' has {null_count_1} null value(s).\")"
      ],
      "metadata": {
        "colab": {
          "base_uri": "https://localhost:8080/"
        },
        "id": "FdOFcyzplnqA",
        "outputId": "b18891ef-b8d2-49a1-efc6-911bc9f65742"
      },
      "execution_count": 33,
      "outputs": [
        {
          "output_type": "stream",
          "name": "stdout",
          "text": [
            "Column 'overview' has 320 null value(s).\n",
            "Column 'runtime' has 2 null value(s).\n"
          ]
        }
      ]
    },
    {
      "cell_type": "code",
      "source": [
        "#Dropping null values\n",
        "df5 = df5.na.drop()\n",
        "df5.show()"
      ],
      "metadata": {
        "colab": {
          "base_uri": "https://localhost:8080/"
        },
        "id": "ZMhezcmql0BK",
        "outputId": "12257ebe-0af8-45ca-8f02-37ceefc4f1b5"
      },
      "execution_count": 34,
      "outputs": [
        {
          "output_type": "stream",
          "name": "stdout",
          "text": [
            "+----------------+--------------------+-------------+---------+--------------------+-----+--------+-----------------+--------------------+----------+--------------------+--------------------+------------+---------+-------+------------+----------+\n",
            "|           title|               genre|     director|boxOffice|          reviewText|adult|  budget|original_language|            overview|popularity|production_companies|production_countries|release_date|  revenue|runtime|vote_average|vote_count|\n",
            "+----------------+--------------------+-------------+---------+--------------------+-----+--------+-----------------+--------------------+----------+--------------------+--------------------+------------+---------+-------+------------+----------+\n",
            "|12 Years a Slave|History, Drama, B...|Steve McQueen|   $56.7M|Piercing and hear...|False|20000000|               en|In the pre-Civil ...| 30.316249|[{'name': 'Plan B...|[{'iso_3166_1': '...|  2013-10-18|187000000|  134.0|         7.9|      3787|\n",
            "|12 Years a Slave|History, Drama, B...|Steve McQueen|   $56.7M|Unsettling and pa...|False|20000000|               en|In the pre-Civil ...| 30.316249|[{'name': 'Plan B...|[{'iso_3166_1': '...|  2013-10-18|187000000|  134.0|         7.9|      3787|\n",
            "|12 Years a Slave|History, Drama, B...|Steve McQueen|   $56.7M|McQueen&apos;s vi...|False|20000000|               en|In the pre-Civil ...| 30.316249|[{'name': 'Plan B...|[{'iso_3166_1': '...|  2013-10-18|187000000|  134.0|         7.9|      3787|\n",
            "|12 Years a Slave|History, Drama, B...|Steve McQueen|   $56.7M|A lot of the slav...|False|20000000|               en|In the pre-Civil ...| 30.316249|[{'name': 'Plan B...|[{'iso_3166_1': '...|  2013-10-18|187000000|  134.0|         7.9|      3787|\n",
            "|12 Years a Slave|History, Drama, B...|Steve McQueen|   $56.7M|Steve McQueen did...|False|20000000|               en|In the pre-Civil ...| 30.316249|[{'name': 'Plan B...|[{'iso_3166_1': '...|  2013-10-18|187000000|  134.0|         7.9|      3787|\n",
            "|12 Years a Slave|History, Drama, B...|Steve McQueen|   $56.7M|It is a story tha...|False|20000000|               en|In the pre-Civil ...| 30.316249|[{'name': 'Plan B...|[{'iso_3166_1': '...|  2013-10-18|187000000|  134.0|         7.9|      3787|\n",
            "|12 Years a Slave|History, Drama, B...|Steve McQueen|   $56.7M|Steve McQueen's f...|False|20000000|               en|In the pre-Civil ...| 30.316249|[{'name': 'Plan B...|[{'iso_3166_1': '...|  2013-10-18|187000000|  134.0|         7.9|      3787|\n",
            "|12 Years a Slave|History, Drama, B...|Steve McQueen|   $56.7M|A harrowing, star...|False|20000000|               en|In the pre-Civil ...| 30.316249|[{'name': 'Plan B...|[{'iso_3166_1': '...|  2013-10-18|187000000|  134.0|         7.9|      3787|\n",
            "|12 Years a Slave|History, Drama, B...|Steve McQueen|   $56.7M|The subject matte...|False|20000000|               en|In the pre-Civil ...| 30.316249|[{'name': 'Plan B...|[{'iso_3166_1': '...|  2013-10-18|187000000|  134.0|         7.9|      3787|\n",
            "|12 Years a Slave|History, Drama, B...|Steve McQueen|   $56.7M|It seems impossib...|False|20000000|               en|In the pre-Civil ...| 30.316249|[{'name': 'Plan B...|[{'iso_3166_1': '...|  2013-10-18|187000000|  134.0|         7.9|      3787|\n",
            "|12 Years a Slave|History, Drama, B...|Steve McQueen|   $56.7M|It may have taken...|False|20000000|               en|In the pre-Civil ...| 30.316249|[{'name': 'Plan B...|[{'iso_3166_1': '...|  2013-10-18|187000000|  134.0|         7.9|      3787|\n",
            "|12 Years a Slave|History, Drama, B...|Steve McQueen|   $56.7M|An incredible sto...|False|20000000|               en|In the pre-Civil ...| 30.316249|[{'name': 'Plan B...|[{'iso_3166_1': '...|  2013-10-18|187000000|  134.0|         7.9|      3787|\n",
            "|12 Years a Slave|History, Drama, B...|Steve McQueen|   $56.7M|I only have one w...|False|20000000|               en|In the pre-Civil ...| 30.316249|[{'name': 'Plan B...|[{'iso_3166_1': '...|  2013-10-18|187000000|  134.0|         7.9|      3787|\n",
            "|12 Years a Slave|History, Drama, B...|Steve McQueen|   $56.7M|The dramatic powe...|False|20000000|               en|In the pre-Civil ...| 30.316249|[{'name': 'Plan B...|[{'iso_3166_1': '...|  2013-10-18|187000000|  134.0|         7.9|      3787|\n",
            "|12 Years a Slave|History, Drama, B...|Steve McQueen|   $56.7M|Overall, 12 Years...|False|20000000|               en|In the pre-Civil ...| 30.316249|[{'name': 'Plan B...|[{'iso_3166_1': '...|  2013-10-18|187000000|  134.0|         7.9|      3787|\n",
            "|12 Years a Slave|History, Drama, B...|Steve McQueen|   $56.7M|12 Years a Slave ...|False|20000000|               en|In the pre-Civil ...| 30.316249|[{'name': 'Plan B...|[{'iso_3166_1': '...|  2013-10-18|187000000|  134.0|         7.9|      3787|\n",
            "|12 Years a Slave|History, Drama, B...|Steve McQueen|   $56.7M|It's an exhaustin...|False|20000000|               en|In the pre-Civil ...| 30.316249|[{'name': 'Plan B...|[{'iso_3166_1': '...|  2013-10-18|187000000|  134.0|         7.9|      3787|\n",
            "|12 Years a Slave|History, Drama, B...|Steve McQueen|   $56.7M|Too often have [s...|False|20000000|               en|In the pre-Civil ...| 30.316249|[{'name': 'Plan B...|[{'iso_3166_1': '...|  2013-10-18|187000000|  134.0|         7.9|      3787|\n",
            "|12 Years a Slave|History, Drama, B...|Steve McQueen|   $56.7M|12 Years A Slave ...|False|20000000|               en|In the pre-Civil ...| 30.316249|[{'name': 'Plan B...|[{'iso_3166_1': '...|  2013-10-18|187000000|  134.0|         7.9|      3787|\n",
            "|12 Years a Slave|History, Drama, B...|Steve McQueen|   $56.7M|The definitive fi...|False|20000000|               en|In the pre-Civil ...| 30.316249|[{'name': 'Plan B...|[{'iso_3166_1': '...|  2013-10-18|187000000|  134.0|         7.9|      3787|\n",
            "+----------------+--------------------+-------------+---------+--------------------+-----+--------+-----------------+--------------------+----------+--------------------+--------------------+------------+---------+-------+------------+----------+\n",
            "only showing top 20 rows\n",
            "\n"
          ]
        }
      ]
    },
    {
      "cell_type": "code",
      "source": [
        "#Converting Revenue column to string\n",
        "df5 = df5.withColumn(\"revenue\", col(\"revenue\").cast(\"string\"))\n",
        "df5.show()"
      ],
      "metadata": {
        "colab": {
          "base_uri": "https://localhost:8080/"
        },
        "id": "IlwSd0bLmevq",
        "outputId": "b83ff8a2-d9b5-4101-f039-458a04d419c0"
      },
      "execution_count": 35,
      "outputs": [
        {
          "output_type": "stream",
          "name": "stdout",
          "text": [
            "+----------------+--------------------+-------------+---------+--------------------+-----+--------+-----------------+--------------------+----------+--------------------+--------------------+------------+---------+-------+------------+----------+\n",
            "|           title|               genre|     director|boxOffice|          reviewText|adult|  budget|original_language|            overview|popularity|production_companies|production_countries|release_date|  revenue|runtime|vote_average|vote_count|\n",
            "+----------------+--------------------+-------------+---------+--------------------+-----+--------+-----------------+--------------------+----------+--------------------+--------------------+------------+---------+-------+------------+----------+\n",
            "|12 Years a Slave|History, Drama, B...|Steve McQueen|   $56.7M|Piercing and hear...|False|20000000|               en|In the pre-Civil ...| 30.316249|[{'name': 'Plan B...|[{'iso_3166_1': '...|  2013-10-18|187000000|  134.0|         7.9|      3787|\n",
            "|12 Years a Slave|History, Drama, B...|Steve McQueen|   $56.7M|Unsettling and pa...|False|20000000|               en|In the pre-Civil ...| 30.316249|[{'name': 'Plan B...|[{'iso_3166_1': '...|  2013-10-18|187000000|  134.0|         7.9|      3787|\n",
            "|12 Years a Slave|History, Drama, B...|Steve McQueen|   $56.7M|McQueen&apos;s vi...|False|20000000|               en|In the pre-Civil ...| 30.316249|[{'name': 'Plan B...|[{'iso_3166_1': '...|  2013-10-18|187000000|  134.0|         7.9|      3787|\n",
            "|12 Years a Slave|History, Drama, B...|Steve McQueen|   $56.7M|A lot of the slav...|False|20000000|               en|In the pre-Civil ...| 30.316249|[{'name': 'Plan B...|[{'iso_3166_1': '...|  2013-10-18|187000000|  134.0|         7.9|      3787|\n",
            "|12 Years a Slave|History, Drama, B...|Steve McQueen|   $56.7M|Steve McQueen did...|False|20000000|               en|In the pre-Civil ...| 30.316249|[{'name': 'Plan B...|[{'iso_3166_1': '...|  2013-10-18|187000000|  134.0|         7.9|      3787|\n",
            "|12 Years a Slave|History, Drama, B...|Steve McQueen|   $56.7M|It is a story tha...|False|20000000|               en|In the pre-Civil ...| 30.316249|[{'name': 'Plan B...|[{'iso_3166_1': '...|  2013-10-18|187000000|  134.0|         7.9|      3787|\n",
            "|12 Years a Slave|History, Drama, B...|Steve McQueen|   $56.7M|Steve McQueen's f...|False|20000000|               en|In the pre-Civil ...| 30.316249|[{'name': 'Plan B...|[{'iso_3166_1': '...|  2013-10-18|187000000|  134.0|         7.9|      3787|\n",
            "|12 Years a Slave|History, Drama, B...|Steve McQueen|   $56.7M|A harrowing, star...|False|20000000|               en|In the pre-Civil ...| 30.316249|[{'name': 'Plan B...|[{'iso_3166_1': '...|  2013-10-18|187000000|  134.0|         7.9|      3787|\n",
            "|12 Years a Slave|History, Drama, B...|Steve McQueen|   $56.7M|The subject matte...|False|20000000|               en|In the pre-Civil ...| 30.316249|[{'name': 'Plan B...|[{'iso_3166_1': '...|  2013-10-18|187000000|  134.0|         7.9|      3787|\n",
            "|12 Years a Slave|History, Drama, B...|Steve McQueen|   $56.7M|It seems impossib...|False|20000000|               en|In the pre-Civil ...| 30.316249|[{'name': 'Plan B...|[{'iso_3166_1': '...|  2013-10-18|187000000|  134.0|         7.9|      3787|\n",
            "|12 Years a Slave|History, Drama, B...|Steve McQueen|   $56.7M|It may have taken...|False|20000000|               en|In the pre-Civil ...| 30.316249|[{'name': 'Plan B...|[{'iso_3166_1': '...|  2013-10-18|187000000|  134.0|         7.9|      3787|\n",
            "|12 Years a Slave|History, Drama, B...|Steve McQueen|   $56.7M|An incredible sto...|False|20000000|               en|In the pre-Civil ...| 30.316249|[{'name': 'Plan B...|[{'iso_3166_1': '...|  2013-10-18|187000000|  134.0|         7.9|      3787|\n",
            "|12 Years a Slave|History, Drama, B...|Steve McQueen|   $56.7M|I only have one w...|False|20000000|               en|In the pre-Civil ...| 30.316249|[{'name': 'Plan B...|[{'iso_3166_1': '...|  2013-10-18|187000000|  134.0|         7.9|      3787|\n",
            "|12 Years a Slave|History, Drama, B...|Steve McQueen|   $56.7M|The dramatic powe...|False|20000000|               en|In the pre-Civil ...| 30.316249|[{'name': 'Plan B...|[{'iso_3166_1': '...|  2013-10-18|187000000|  134.0|         7.9|      3787|\n",
            "|12 Years a Slave|History, Drama, B...|Steve McQueen|   $56.7M|Overall, 12 Years...|False|20000000|               en|In the pre-Civil ...| 30.316249|[{'name': 'Plan B...|[{'iso_3166_1': '...|  2013-10-18|187000000|  134.0|         7.9|      3787|\n",
            "|12 Years a Slave|History, Drama, B...|Steve McQueen|   $56.7M|12 Years a Slave ...|False|20000000|               en|In the pre-Civil ...| 30.316249|[{'name': 'Plan B...|[{'iso_3166_1': '...|  2013-10-18|187000000|  134.0|         7.9|      3787|\n",
            "|12 Years a Slave|History, Drama, B...|Steve McQueen|   $56.7M|It's an exhaustin...|False|20000000|               en|In the pre-Civil ...| 30.316249|[{'name': 'Plan B...|[{'iso_3166_1': '...|  2013-10-18|187000000|  134.0|         7.9|      3787|\n",
            "|12 Years a Slave|History, Drama, B...|Steve McQueen|   $56.7M|Too often have [s...|False|20000000|               en|In the pre-Civil ...| 30.316249|[{'name': 'Plan B...|[{'iso_3166_1': '...|  2013-10-18|187000000|  134.0|         7.9|      3787|\n",
            "|12 Years a Slave|History, Drama, B...|Steve McQueen|   $56.7M|12 Years A Slave ...|False|20000000|               en|In the pre-Civil ...| 30.316249|[{'name': 'Plan B...|[{'iso_3166_1': '...|  2013-10-18|187000000|  134.0|         7.9|      3787|\n",
            "|12 Years a Slave|History, Drama, B...|Steve McQueen|   $56.7M|The definitive fi...|False|20000000|               en|In the pre-Civil ...| 30.316249|[{'name': 'Plan B...|[{'iso_3166_1': '...|  2013-10-18|187000000|  134.0|         7.9|      3787|\n",
            "+----------------+--------------------+-------------+---------+--------------------+-----+--------+-----------------+--------------------+----------+--------------------+--------------------+------------+---------+-------+------------+----------+\n",
            "only showing top 20 rows\n",
            "\n"
          ]
        }
      ]
    },
    {
      "cell_type": "code",
      "source": [
        "#Printing the Schema to know the datatypees\n",
        "df5.printSchema()\n",
        "df5.show(5, truncate=False)"
      ],
      "metadata": {
        "colab": {
          "base_uri": "https://localhost:8080/"
        },
        "id": "E-CLv28AszK_",
        "outputId": "4ce5b124-6e80-47b0-81ca-91e2445d6f7f"
      },
      "execution_count": 36,
      "outputs": [
        {
          "output_type": "stream",
          "name": "stdout",
          "text": [
            "root\n",
            " |-- title: string (nullable = true)\n",
            " |-- genre: string (nullable = true)\n",
            " |-- director: string (nullable = true)\n",
            " |-- boxOffice: string (nullable = true)\n",
            " |-- reviewText: string (nullable = true)\n",
            " |-- adult: string (nullable = true)\n",
            " |-- budget: string (nullable = true)\n",
            " |-- original_language: string (nullable = true)\n",
            " |-- overview: string (nullable = true)\n",
            " |-- popularity: string (nullable = true)\n",
            " |-- production_companies: string (nullable = true)\n",
            " |-- production_countries: string (nullable = true)\n",
            " |-- release_date: string (nullable = true)\n",
            " |-- revenue: string (nullable = true)\n",
            " |-- runtime: string (nullable = true)\n",
            " |-- vote_average: string (nullable = true)\n",
            " |-- vote_count: string (nullable = true)\n",
            "\n",
            "+----------------+-------------------------+-------------+---------+---------------------------------------------------------------------------------------------------------------------------------------------------------------------------------------------------------------------------+-----+--------+-----------------+-----------------------------------------------------------------------------------------------------------------------------------------------------------------------------------------------------------------------------------------------------------------------------------------------------------------------------------------------------------------------------------------+----------+------------------------------------------------------------------------------------------------------------------------------------------------------------------------------------------------------------------------+----------------------------------------------------------------------------------------------------------+------------+---------+-------+------------+----------+\n",
            "|title           |genre                    |director     |boxOffice|reviewText                                                                                                                                                                                                                 |adult|budget  |original_language|overview                                                                                                                                                                                                                                                                                                                                                                                 |popularity|production_companies                                                                                                                                                                                                    |production_countries                                                                                      |release_date|revenue  |runtime|vote_average|vote_count|\n",
            "+----------------+-------------------------+-------------+---------+---------------------------------------------------------------------------------------------------------------------------------------------------------------------------------------------------------------------------+-----+--------+-----------------+-----------------------------------------------------------------------------------------------------------------------------------------------------------------------------------------------------------------------------------------------------------------------------------------------------------------------------------------------------------------------------------------+----------+------------------------------------------------------------------------------------------------------------------------------------------------------------------------------------------------------------------------+----------------------------------------------------------------------------------------------------------+------------+---------+-------+------------+----------+\n",
            "|12 Years a Slave|History, Drama, Biography|Steve McQueen|$56.7M   |Piercing and heart-wrenching&#46;                                                                                                                                                                                          |False|20000000|en               |In the pre-Civil War United States, Solomon Northup, a free black man from upstate New York, is abducted and sold into slavery. Facing cruelty as well as unexpected kindnesses Solomon struggles not only to stay alive, but to retain his dignity. In the twelfth year of his unforgettable odyssey, Solomon’s chance meeting with a Canadian abolitionist will forever alter his life.|30.316249 |[{'name': 'Plan B Entertainment', 'id': 81}, {'name': 'Regency Enterprises', 'id': 508}, {'name': 'River Road Entertainment', 'id': 1246}, {'name': 'Film4', 'id': 9349}, {'name': 'New Regency Pictures', 'id': 10104}]|[{'iso_3166_1': 'US', 'name': 'United States of America'}, {'iso_3166_1': 'GB', 'name': 'United Kingdom'}]|2013-10-18  |187000000|134.0  |7.9         |3787      |\n",
            "|12 Years a Slave|History, Drama, Biography|Steve McQueen|$56.7M   |Unsettling and painful to behold&#44; but from the lows of human civilization emerges a courageous and moving motion picture&#46;                                                                                          |False|20000000|en               |In the pre-Civil War United States, Solomon Northup, a free black man from upstate New York, is abducted and sold into slavery. Facing cruelty as well as unexpected kindnesses Solomon struggles not only to stay alive, but to retain his dignity. In the twelfth year of his unforgettable odyssey, Solomon’s chance meeting with a Canadian abolitionist will forever alter his life.|30.316249 |[{'name': 'Plan B Entertainment', 'id': 81}, {'name': 'Regency Enterprises', 'id': 508}, {'name': 'River Road Entertainment', 'id': 1246}, {'name': 'Film4', 'id': 9349}, {'name': 'New Regency Pictures', 'id': 10104}]|[{'iso_3166_1': 'US', 'name': 'United States of America'}, {'iso_3166_1': 'GB', 'name': 'United Kingdom'}]|2013-10-18  |187000000|134.0  |7.9         |3787      |\n",
            "|12 Years a Slave|History, Drama, Biography|Steve McQueen|$56.7M   |McQueen&apos;s vision is one that articulates the overwhelming bleakness of this chapter of history while also recognizing the fleeting moments of emotional serenity that could oddly descend&#46;                        |False|20000000|en               |In the pre-Civil War United States, Solomon Northup, a free black man from upstate New York, is abducted and sold into slavery. Facing cruelty as well as unexpected kindnesses Solomon struggles not only to stay alive, but to retain his dignity. In the twelfth year of his unforgettable odyssey, Solomon’s chance meeting with a Canadian abolitionist will forever alter his life.|30.316249 |[{'name': 'Plan B Entertainment', 'id': 81}, {'name': 'Regency Enterprises', 'id': 508}, {'name': 'River Road Entertainment', 'id': 1246}, {'name': 'Film4', 'id': 9349}, {'name': 'New Regency Pictures', 'id': 10104}]|[{'iso_3166_1': 'US', 'name': 'United States of America'}, {'iso_3166_1': 'GB', 'name': 'United Kingdom'}]|2013-10-18  |187000000|134.0  |7.9         |3787      |\n",
            "|12 Years a Slave|History, Drama, Biography|Steve McQueen|$56.7M   |A lot of the slave movies we see turn around and become a white savior movie, which this one avoided. Every element of this film is done so well and always has a deeply emotional impact on me. It is really captivating. |False|20000000|en               |In the pre-Civil War United States, Solomon Northup, a free black man from upstate New York, is abducted and sold into slavery. Facing cruelty as well as unexpected kindnesses Solomon struggles not only to stay alive, but to retain his dignity. In the twelfth year of his unforgettable odyssey, Solomon’s chance meeting with a Canadian abolitionist will forever alter his life.|30.316249 |[{'name': 'Plan B Entertainment', 'id': 81}, {'name': 'Regency Enterprises', 'id': 508}, {'name': 'River Road Entertainment', 'id': 1246}, {'name': 'Film4', 'id': 9349}, {'name': 'New Regency Pictures', 'id': 10104}]|[{'iso_3166_1': 'US', 'name': 'United States of America'}, {'iso_3166_1': 'GB', 'name': 'United Kingdom'}]|2013-10-18  |187000000|134.0  |7.9         |3787      |\n",
            "|12 Years a Slave|History, Drama, Biography|Steve McQueen|$56.7M   |Steve McQueen did a masterful job of finding the balance between some heavy content while making it look visually stunning. The score, performances and cinematography was phenomenal.                                     |False|20000000|en               |In the pre-Civil War United States, Solomon Northup, a free black man from upstate New York, is abducted and sold into slavery. Facing cruelty as well as unexpected kindnesses Solomon struggles not only to stay alive, but to retain his dignity. In the twelfth year of his unforgettable odyssey, Solomon’s chance meeting with a Canadian abolitionist will forever alter his life.|30.316249 |[{'name': 'Plan B Entertainment', 'id': 81}, {'name': 'Regency Enterprises', 'id': 508}, {'name': 'River Road Entertainment', 'id': 1246}, {'name': 'Film4', 'id': 9349}, {'name': 'New Regency Pictures', 'id': 10104}]|[{'iso_3166_1': 'US', 'name': 'United States of America'}, {'iso_3166_1': 'GB', 'name': 'United Kingdom'}]|2013-10-18  |187000000|134.0  |7.9         |3787      |\n",
            "+----------------+-------------------------+-------------+---------+---------------------------------------------------------------------------------------------------------------------------------------------------------------------------------------------------------------------------+-----+--------+-----------------+-----------------------------------------------------------------------------------------------------------------------------------------------------------------------------------------------------------------------------------------------------------------------------------------------------------------------------------------------------------------------------------------+----------+------------------------------------------------------------------------------------------------------------------------------------------------------------------------------------------------------------------------+----------------------------------------------------------------------------------------------------------+------------+---------+-------+------------+----------+\n",
            "only showing top 5 rows\n",
            "\n"
          ]
        }
      ]
    },
    {
      "cell_type": "code",
      "source": [
        "#Concating the box office and revenue column in a new column called total_revenue seperated with \"-\" \n",
        "df5 = df5.withColumn(\"total_revenue\", concat(col(\"boxOffice\").cast(\"string\"), lit(\"-\"), col(\"revenue\").cast(\"string\")))\n",
        "\n",
        "df5.show()"
      ],
      "metadata": {
        "colab": {
          "base_uri": "https://localhost:8080/"
        },
        "id": "lEETCZbHmr8h",
        "outputId": "0be45e37-cefc-4920-e91c-847339e7654a"
      },
      "execution_count": 37,
      "outputs": [
        {
          "output_type": "stream",
          "name": "stdout",
          "text": [
            "+----------------+--------------------+-------------+---------+--------------------+-----+--------+-----------------+--------------------+----------+--------------------+--------------------+------------+---------+-------+------------+----------+----------------+\n",
            "|           title|               genre|     director|boxOffice|          reviewText|adult|  budget|original_language|            overview|popularity|production_companies|production_countries|release_date|  revenue|runtime|vote_average|vote_count|   total_revenue|\n",
            "+----------------+--------------------+-------------+---------+--------------------+-----+--------+-----------------+--------------------+----------+--------------------+--------------------+------------+---------+-------+------------+----------+----------------+\n",
            "|12 Years a Slave|History, Drama, B...|Steve McQueen|   $56.7M|Piercing and hear...|False|20000000|               en|In the pre-Civil ...| 30.316249|[{'name': 'Plan B...|[{'iso_3166_1': '...|  2013-10-18|187000000|  134.0|         7.9|      3787|$56.7M-187000000|\n",
            "|12 Years a Slave|History, Drama, B...|Steve McQueen|   $56.7M|Unsettling and pa...|False|20000000|               en|In the pre-Civil ...| 30.316249|[{'name': 'Plan B...|[{'iso_3166_1': '...|  2013-10-18|187000000|  134.0|         7.9|      3787|$56.7M-187000000|\n",
            "|12 Years a Slave|History, Drama, B...|Steve McQueen|   $56.7M|McQueen&apos;s vi...|False|20000000|               en|In the pre-Civil ...| 30.316249|[{'name': 'Plan B...|[{'iso_3166_1': '...|  2013-10-18|187000000|  134.0|         7.9|      3787|$56.7M-187000000|\n",
            "|12 Years a Slave|History, Drama, B...|Steve McQueen|   $56.7M|A lot of the slav...|False|20000000|               en|In the pre-Civil ...| 30.316249|[{'name': 'Plan B...|[{'iso_3166_1': '...|  2013-10-18|187000000|  134.0|         7.9|      3787|$56.7M-187000000|\n",
            "|12 Years a Slave|History, Drama, B...|Steve McQueen|   $56.7M|Steve McQueen did...|False|20000000|               en|In the pre-Civil ...| 30.316249|[{'name': 'Plan B...|[{'iso_3166_1': '...|  2013-10-18|187000000|  134.0|         7.9|      3787|$56.7M-187000000|\n",
            "|12 Years a Slave|History, Drama, B...|Steve McQueen|   $56.7M|It is a story tha...|False|20000000|               en|In the pre-Civil ...| 30.316249|[{'name': 'Plan B...|[{'iso_3166_1': '...|  2013-10-18|187000000|  134.0|         7.9|      3787|$56.7M-187000000|\n",
            "|12 Years a Slave|History, Drama, B...|Steve McQueen|   $56.7M|Steve McQueen's f...|False|20000000|               en|In the pre-Civil ...| 30.316249|[{'name': 'Plan B...|[{'iso_3166_1': '...|  2013-10-18|187000000|  134.0|         7.9|      3787|$56.7M-187000000|\n",
            "|12 Years a Slave|History, Drama, B...|Steve McQueen|   $56.7M|A harrowing, star...|False|20000000|               en|In the pre-Civil ...| 30.316249|[{'name': 'Plan B...|[{'iso_3166_1': '...|  2013-10-18|187000000|  134.0|         7.9|      3787|$56.7M-187000000|\n",
            "|12 Years a Slave|History, Drama, B...|Steve McQueen|   $56.7M|The subject matte...|False|20000000|               en|In the pre-Civil ...| 30.316249|[{'name': 'Plan B...|[{'iso_3166_1': '...|  2013-10-18|187000000|  134.0|         7.9|      3787|$56.7M-187000000|\n",
            "|12 Years a Slave|History, Drama, B...|Steve McQueen|   $56.7M|It seems impossib...|False|20000000|               en|In the pre-Civil ...| 30.316249|[{'name': 'Plan B...|[{'iso_3166_1': '...|  2013-10-18|187000000|  134.0|         7.9|      3787|$56.7M-187000000|\n",
            "|12 Years a Slave|History, Drama, B...|Steve McQueen|   $56.7M|It may have taken...|False|20000000|               en|In the pre-Civil ...| 30.316249|[{'name': 'Plan B...|[{'iso_3166_1': '...|  2013-10-18|187000000|  134.0|         7.9|      3787|$56.7M-187000000|\n",
            "|12 Years a Slave|History, Drama, B...|Steve McQueen|   $56.7M|An incredible sto...|False|20000000|               en|In the pre-Civil ...| 30.316249|[{'name': 'Plan B...|[{'iso_3166_1': '...|  2013-10-18|187000000|  134.0|         7.9|      3787|$56.7M-187000000|\n",
            "|12 Years a Slave|History, Drama, B...|Steve McQueen|   $56.7M|I only have one w...|False|20000000|               en|In the pre-Civil ...| 30.316249|[{'name': 'Plan B...|[{'iso_3166_1': '...|  2013-10-18|187000000|  134.0|         7.9|      3787|$56.7M-187000000|\n",
            "|12 Years a Slave|History, Drama, B...|Steve McQueen|   $56.7M|The dramatic powe...|False|20000000|               en|In the pre-Civil ...| 30.316249|[{'name': 'Plan B...|[{'iso_3166_1': '...|  2013-10-18|187000000|  134.0|         7.9|      3787|$56.7M-187000000|\n",
            "|12 Years a Slave|History, Drama, B...|Steve McQueen|   $56.7M|Overall, 12 Years...|False|20000000|               en|In the pre-Civil ...| 30.316249|[{'name': 'Plan B...|[{'iso_3166_1': '...|  2013-10-18|187000000|  134.0|         7.9|      3787|$56.7M-187000000|\n",
            "|12 Years a Slave|History, Drama, B...|Steve McQueen|   $56.7M|12 Years a Slave ...|False|20000000|               en|In the pre-Civil ...| 30.316249|[{'name': 'Plan B...|[{'iso_3166_1': '...|  2013-10-18|187000000|  134.0|         7.9|      3787|$56.7M-187000000|\n",
            "|12 Years a Slave|History, Drama, B...|Steve McQueen|   $56.7M|It's an exhaustin...|False|20000000|               en|In the pre-Civil ...| 30.316249|[{'name': 'Plan B...|[{'iso_3166_1': '...|  2013-10-18|187000000|  134.0|         7.9|      3787|$56.7M-187000000|\n",
            "|12 Years a Slave|History, Drama, B...|Steve McQueen|   $56.7M|Too often have [s...|False|20000000|               en|In the pre-Civil ...| 30.316249|[{'name': 'Plan B...|[{'iso_3166_1': '...|  2013-10-18|187000000|  134.0|         7.9|      3787|$56.7M-187000000|\n",
            "|12 Years a Slave|History, Drama, B...|Steve McQueen|   $56.7M|12 Years A Slave ...|False|20000000|               en|In the pre-Civil ...| 30.316249|[{'name': 'Plan B...|[{'iso_3166_1': '...|  2013-10-18|187000000|  134.0|         7.9|      3787|$56.7M-187000000|\n",
            "|12 Years a Slave|History, Drama, B...|Steve McQueen|   $56.7M|The definitive fi...|False|20000000|               en|In the pre-Civil ...| 30.316249|[{'name': 'Plan B...|[{'iso_3166_1': '...|  2013-10-18|187000000|  134.0|         7.9|      3787|$56.7M-187000000|\n",
            "+----------------+--------------------+-------------+---------+--------------------+-----+--------+-----------------+--------------------+----------+--------------------+--------------------+------------+---------+-------+------------+----------+----------------+\n",
            "only showing top 20 rows\n",
            "\n"
          ]
        }
      ]
    },
    {
      "cell_type": "code",
      "source": [
        "\n",
        "nonzero_values = df5.filter(col(\"total_revenue\") != \"nan-0.0\")\n",
        "\n",
        "count = nonzero_values.count()\n",
        "print(count)"
      ],
      "metadata": {
        "colab": {
          "base_uri": "https://localhost:8080/"
        },
        "id": "OxaeddZ0neoU",
        "outputId": "8d03e937-affe-45bc-aaf4-6da54f7892d3"
      },
      "execution_count": 39,
      "outputs": [
        {
          "output_type": "stream",
          "name": "stdout",
          "text": [
            "248627\n"
          ]
        }
      ]
    },
    {
      "cell_type": "code",
      "source": [
        "df5 = df5.filter(col(\"total_revenue\") != \"nan-0.0\")\n",
        "\n",
        "df5.show(5)"
      ],
      "metadata": {
        "colab": {
          "base_uri": "https://localhost:8080/"
        },
        "id": "Bnm4p59zntE7",
        "outputId": "04747507-6253-4af5-e658-d41f52406313"
      },
      "execution_count": 40,
      "outputs": [
        {
          "output_type": "stream",
          "name": "stdout",
          "text": [
            "+----------------+--------------------+-------------+--------------------+-----+--------+-----------------+--------------------+----------+--------------------+--------------------+------------+-------+------------+----------+----------------+\n",
            "|           title|               genre|     director|          reviewText|adult|  budget|original_language|            overview|popularity|production_companies|production_countries|release_date|runtime|vote_average|vote_count|   total_revenue|\n",
            "+----------------+--------------------+-------------+--------------------+-----+--------+-----------------+--------------------+----------+--------------------+--------------------+------------+-------+------------+----------+----------------+\n",
            "|12 Years a Slave|History, Drama, B...|Steve McQueen|Piercing and hear...|False|20000000|               en|In the pre-Civil ...| 30.316249|[{'name': 'Plan B...|[{'iso_3166_1': '...|  2013-10-18|  134.0|         7.9|      3787|$56.7M-187000000|\n",
            "|12 Years a Slave|History, Drama, B...|Steve McQueen|Unsettling and pa...|False|20000000|               en|In the pre-Civil ...| 30.316249|[{'name': 'Plan B...|[{'iso_3166_1': '...|  2013-10-18|  134.0|         7.9|      3787|$56.7M-187000000|\n",
            "|12 Years a Slave|History, Drama, B...|Steve McQueen|McQueen&apos;s vi...|False|20000000|               en|In the pre-Civil ...| 30.316249|[{'name': 'Plan B...|[{'iso_3166_1': '...|  2013-10-18|  134.0|         7.9|      3787|$56.7M-187000000|\n",
            "|12 Years a Slave|History, Drama, B...|Steve McQueen|A lot of the slav...|False|20000000|               en|In the pre-Civil ...| 30.316249|[{'name': 'Plan B...|[{'iso_3166_1': '...|  2013-10-18|  134.0|         7.9|      3787|$56.7M-187000000|\n",
            "|12 Years a Slave|History, Drama, B...|Steve McQueen|Steve McQueen did...|False|20000000|               en|In the pre-Civil ...| 30.316249|[{'name': 'Plan B...|[{'iso_3166_1': '...|  2013-10-18|  134.0|         7.9|      3787|$56.7M-187000000|\n",
            "+----------------+--------------------+-------------+--------------------+-----+--------+-----------------+--------------------+----------+--------------------+--------------------+------------+-------+------------+----------+----------------+\n",
            "only showing top 5 rows\n",
            "\n"
          ]
        }
      ]
    },
    {
      "cell_type": "code",
      "source": [
        "#Dropping the boxOffice and revenue columns\n",
        "columns_to_drop = [\"boxOffice\", \"revenue\"]\n",
        "df5 = df5.drop(*columns_to_drop)\n",
        "df5.show()"
      ],
      "metadata": {
        "colab": {
          "base_uri": "https://localhost:8080/"
        },
        "id": "vrznGD8xn_5r",
        "outputId": "c5dfbd41-e75c-4979-f54d-95b33d9271d9"
      },
      "execution_count": 38,
      "outputs": [
        {
          "output_type": "stream",
          "name": "stdout",
          "text": [
            "+----------------+--------------------+-------------+--------------------+-----+--------+-----------------+--------------------+----------+--------------------+--------------------+------------+-------+------------+----------+----------------+\n",
            "|           title|               genre|     director|          reviewText|adult|  budget|original_language|            overview|popularity|production_companies|production_countries|release_date|runtime|vote_average|vote_count|   total_revenue|\n",
            "+----------------+--------------------+-------------+--------------------+-----+--------+-----------------+--------------------+----------+--------------------+--------------------+------------+-------+------------+----------+----------------+\n",
            "|12 Years a Slave|History, Drama, B...|Steve McQueen|Piercing and hear...|False|20000000|               en|In the pre-Civil ...| 30.316249|[{'name': 'Plan B...|[{'iso_3166_1': '...|  2013-10-18|  134.0|         7.9|      3787|$56.7M-187000000|\n",
            "|12 Years a Slave|History, Drama, B...|Steve McQueen|Unsettling and pa...|False|20000000|               en|In the pre-Civil ...| 30.316249|[{'name': 'Plan B...|[{'iso_3166_1': '...|  2013-10-18|  134.0|         7.9|      3787|$56.7M-187000000|\n",
            "|12 Years a Slave|History, Drama, B...|Steve McQueen|McQueen&apos;s vi...|False|20000000|               en|In the pre-Civil ...| 30.316249|[{'name': 'Plan B...|[{'iso_3166_1': '...|  2013-10-18|  134.0|         7.9|      3787|$56.7M-187000000|\n",
            "|12 Years a Slave|History, Drama, B...|Steve McQueen|A lot of the slav...|False|20000000|               en|In the pre-Civil ...| 30.316249|[{'name': 'Plan B...|[{'iso_3166_1': '...|  2013-10-18|  134.0|         7.9|      3787|$56.7M-187000000|\n",
            "|12 Years a Slave|History, Drama, B...|Steve McQueen|Steve McQueen did...|False|20000000|               en|In the pre-Civil ...| 30.316249|[{'name': 'Plan B...|[{'iso_3166_1': '...|  2013-10-18|  134.0|         7.9|      3787|$56.7M-187000000|\n",
            "|12 Years a Slave|History, Drama, B...|Steve McQueen|It is a story tha...|False|20000000|               en|In the pre-Civil ...| 30.316249|[{'name': 'Plan B...|[{'iso_3166_1': '...|  2013-10-18|  134.0|         7.9|      3787|$56.7M-187000000|\n",
            "|12 Years a Slave|History, Drama, B...|Steve McQueen|Steve McQueen's f...|False|20000000|               en|In the pre-Civil ...| 30.316249|[{'name': 'Plan B...|[{'iso_3166_1': '...|  2013-10-18|  134.0|         7.9|      3787|$56.7M-187000000|\n",
            "|12 Years a Slave|History, Drama, B...|Steve McQueen|A harrowing, star...|False|20000000|               en|In the pre-Civil ...| 30.316249|[{'name': 'Plan B...|[{'iso_3166_1': '...|  2013-10-18|  134.0|         7.9|      3787|$56.7M-187000000|\n",
            "|12 Years a Slave|History, Drama, B...|Steve McQueen|The subject matte...|False|20000000|               en|In the pre-Civil ...| 30.316249|[{'name': 'Plan B...|[{'iso_3166_1': '...|  2013-10-18|  134.0|         7.9|      3787|$56.7M-187000000|\n",
            "|12 Years a Slave|History, Drama, B...|Steve McQueen|It seems impossib...|False|20000000|               en|In the pre-Civil ...| 30.316249|[{'name': 'Plan B...|[{'iso_3166_1': '...|  2013-10-18|  134.0|         7.9|      3787|$56.7M-187000000|\n",
            "|12 Years a Slave|History, Drama, B...|Steve McQueen|It may have taken...|False|20000000|               en|In the pre-Civil ...| 30.316249|[{'name': 'Plan B...|[{'iso_3166_1': '...|  2013-10-18|  134.0|         7.9|      3787|$56.7M-187000000|\n",
            "|12 Years a Slave|History, Drama, B...|Steve McQueen|An incredible sto...|False|20000000|               en|In the pre-Civil ...| 30.316249|[{'name': 'Plan B...|[{'iso_3166_1': '...|  2013-10-18|  134.0|         7.9|      3787|$56.7M-187000000|\n",
            "|12 Years a Slave|History, Drama, B...|Steve McQueen|I only have one w...|False|20000000|               en|In the pre-Civil ...| 30.316249|[{'name': 'Plan B...|[{'iso_3166_1': '...|  2013-10-18|  134.0|         7.9|      3787|$56.7M-187000000|\n",
            "|12 Years a Slave|History, Drama, B...|Steve McQueen|The dramatic powe...|False|20000000|               en|In the pre-Civil ...| 30.316249|[{'name': 'Plan B...|[{'iso_3166_1': '...|  2013-10-18|  134.0|         7.9|      3787|$56.7M-187000000|\n",
            "|12 Years a Slave|History, Drama, B...|Steve McQueen|Overall, 12 Years...|False|20000000|               en|In the pre-Civil ...| 30.316249|[{'name': 'Plan B...|[{'iso_3166_1': '...|  2013-10-18|  134.0|         7.9|      3787|$56.7M-187000000|\n",
            "|12 Years a Slave|History, Drama, B...|Steve McQueen|12 Years a Slave ...|False|20000000|               en|In the pre-Civil ...| 30.316249|[{'name': 'Plan B...|[{'iso_3166_1': '...|  2013-10-18|  134.0|         7.9|      3787|$56.7M-187000000|\n",
            "|12 Years a Slave|History, Drama, B...|Steve McQueen|It's an exhaustin...|False|20000000|               en|In the pre-Civil ...| 30.316249|[{'name': 'Plan B...|[{'iso_3166_1': '...|  2013-10-18|  134.0|         7.9|      3787|$56.7M-187000000|\n",
            "|12 Years a Slave|History, Drama, B...|Steve McQueen|Too often have [s...|False|20000000|               en|In the pre-Civil ...| 30.316249|[{'name': 'Plan B...|[{'iso_3166_1': '...|  2013-10-18|  134.0|         7.9|      3787|$56.7M-187000000|\n",
            "|12 Years a Slave|History, Drama, B...|Steve McQueen|12 Years A Slave ...|False|20000000|               en|In the pre-Civil ...| 30.316249|[{'name': 'Plan B...|[{'iso_3166_1': '...|  2013-10-18|  134.0|         7.9|      3787|$56.7M-187000000|\n",
            "|12 Years a Slave|History, Drama, B...|Steve McQueen|The definitive fi...|False|20000000|               en|In the pre-Civil ...| 30.316249|[{'name': 'Plan B...|[{'iso_3166_1': '...|  2013-10-18|  134.0|         7.9|      3787|$56.7M-187000000|\n",
            "+----------------+--------------------+-------------+--------------------+-----+--------+-----------------+--------------------+----------+--------------------+--------------------+------------+-------+------------+----------+----------------+\n",
            "only showing top 20 rows\n",
            "\n"
          ]
        }
      ]
    },
    {
      "cell_type": "code",
      "source": [
        "# Grouping the reviewText for each title in a new column with list called reviews\n",
        "grouped_reviews = df5.groupby(\"title\").agg(collect_list(\"reviewText\").alias(\"reviews\"))\n",
        "\n",
        "# Merge the grouped_reviews back to the original dataset\n",
        "df5 = df5.join(grouped_reviews, on=\"title\")\n",
        "\n",
        "# Drop duplicates based on 'title' and drop 'reviewText' column\n",
        "df5 = df5.dropDuplicates([\"title\"]).drop(\"reviewText\")\n",
        "\n",
        "# Show the modified dataset\n",
        "df5.show()"
      ],
      "metadata": {
        "colab": {
          "base_uri": "https://localhost:8080/"
        },
        "id": "Fz_Yqi-yo5wB",
        "outputId": "c27784da-6228-4972-8528-667ae73714ee"
      },
      "execution_count": 41,
      "outputs": [
        {
          "output_type": "stream",
          "name": "stdout",
          "text": [
            "+--------------------+--------------------+--------------------+-----+---------+-----------------+--------------------+----------+--------------------+--------------------+------------+-------+------------+----------+-----------------+--------------------+\n",
            "|               title|               genre|            director|adult|   budget|original_language|            overview|popularity|production_companies|production_countries|release_date|runtime|vote_average|vote_count|    total_revenue|             reviews|\n",
            "+--------------------+--------------------+--------------------+-----+---------+-----------------+--------------------+----------+--------------------+--------------------+------------+-------+------------+----------+-----------------+--------------------+\n",
            "|    12 Years a Slave|History, Drama, B...|       Steve McQueen|False| 20000000|               en|In the pre-Civil ...| 30.316249|[{'name': 'Plan B...|[{'iso_3166_1': '...|  2013-10-18|  134.0|         7.9|      3787| $56.7M-187000000|[Piercing and hea...|\n",
            "|          13 Minutes|History, Drama, B...| Oliver Hirschbiegel|False|        0|               de|The breath-taking...|  4.969851|[{'name': 'Lucky ...|[{'iso_3166_1': '...|  2015-04-09|  114.0|         7.0|        63|   $161.2K-147315|[Elser is an ocea...|\n",
            "|                1408|Horror, Mystery &...|     Mikael Håfström|False| 25000000|               en|A man who special...|  9.196884|[{'name': 'The We...|[{'iso_3166_1': '...|  2007-07-12|  104.0|         6.5|      1372|  $72.0M-94679598|[Directed in a st...|\n",
            "|    2 Fast 2 Furious|              Action|      John Singleton|False| 76000000|               en|\"It's a major dou...|   2.32462|[{'name': 'Mikona...|[{'iso_3166_1': '...|  2003-06-05|  107.0|         6.2|      2087|$127.1M-236350661|[2 Fast 2 Furious...|\n",
            "|24 Hour Party People|       Comedy, Drama|Michael Winterbottom|False|        0|               en|In 1976, Tony Wil...| 12.655728|[{'name': 'United...|[{'iso_3166_1': '...|  2002-02-13|  117.0|         6.8|       109|          $1.1M-0|[\"Tony Wilson's a...|\n",
            "|          27 Dresses|     Romance, Comedy|       Anne Fletcher|False| 30000000|               en|Altruistic Jane f...| 10.342202|[{'name': 'Spygla...|[{'iso_3166_1': '...|  2008-01-10|  111.0|         6.1|      1013| $76.8M-160259319|[Lacks the wicked...|\n",
            "|      28 Weeks Later|Horror, Mystery &...|Juan Carlos Fresn...|False| 15000000|               en|In this chilling ...| 12.884191|[{'name': 'DNA Fi...|[{'iso_3166_1': '...|  2007-04-26|  100.0|         6.5|      1225|  $28.6M-64238440|[The story moves ...|\n",
            "|       3 Generations|Comedy, Drama, Lg...|         Gaby Dellal|False|  5000000|               en|A teenager transi...|  4.626438|[{'name': 'IM Glo...|[{'iso_3166_1': '...|  2016-02-11|   87.0|         6.1|        75|    $66.4K-443962|[In the hands of ...|\n",
            "|  30 Minutes or Less|      Comedy, Action|     Ruben Fleischer|False| 28000000|               en|Two fledgling cri...|  9.763493|[{'name': 'Columb...|[{'iso_3166_1': '...|  2011-08-11|   83.0|         5.6|       537|  $37.1M-40547440|[The comedy reach...|\n",
            "|40 Days and 40 Ni...|     Romance, Comedy|     Michael Lehmann|False| 17000000|               en|Matt Sullivan's l...|  8.628928|[{'name': 'Mirama...|[{'iso_3166_1': '...|  2002-03-01|   94.0|         5.2|       306|         $37.9M-0|[Fairly gimmicky ...|\n",
            "|                  42|Biography, Histor...|     Brian Helgeland|False| 40000000|               en|The powerful stor...| 11.637224|[{'name': 'Warner...|[{'iso_3166_1': '...|  2013-04-12|  128.0|         6.8|       795|  $95.1M-95020213|[While it&#8217;s...|\n",
            "|            47 Ronin|Adventure, Action...|         Carl Rinsch|False|175000000|               en|Based on the orig...|  14.88937|[{'name': 'Mid At...|[{'iso_3166_1': '...|  2013-12-06|  119.0|         5.9|      1357| $38.3M-150962475|[Nothing short of...|\n",
            "|      50 First Dates|     Romance, Comedy|         Peter Segal|False| 75000000|               en|Henry is a player...| 11.134888|[{'name': 'Columb...|[{'iso_3166_1': '...|  2004-02-13|   99.0|         6.6|      2161|$120.8M-196482882|[Effective combin...|\n",
            "|          88 Minutes|Mystery & thrille...|           Jon Avnet|False| 30000000|               en|\"\"\"88 Minutes\"\" f...|  8.552967|[{'name': 'TriSta...|[{'iso_3166_1': '...|  2007-02-14|  108.0|         5.7|       323|  $16.9M-16930884|[A film so stuffe...|\n",
            "|    A Beautiful Mind|    Biography, Drama|          Ron Howard|False| 60000000|               en|At Princeton Univ...|  11.93646|[{'name': 'Imagin...|[{'iso_3166_1': '...|  2001-12-11|  135.0|         7.7|      3087|$170.7M-313542341|[Nash's character...|\n",
            "|       A Better Life|               Drama|         Chris Weitz|False| 10000000|               en|A gardener in Eas...|  3.033797|[{'name': 'Summit...|[{'iso_3166_1': '...|  2011-06-24|   98.0|         7.0|        54|    $1.8M-1759252|[It&#8217;s hard ...|\n",
            "|  A Cinderella Story|     Romance, Comedy|         Mark Rosman|False| 19000000|               en|Sam Montgomery is...|  8.385361|[{'name': 'Gaylor...|[{'iso_3166_1': '...|  2004-07-10|   95.0|         6.1|       737|  $51.4M-70067909|[Jennifer Coolidg...|\n",
            "|     A Dog's Purpose|Comedy, Drama, Fa...|     Lasse Hallström|False| 22000000|               en|A dog goes on que...|  9.863789|[{'name': 'Univer...|[{'iso_3166_1': '...|  2017-01-19|  100.0|         6.6|       657| $64.3M-194647323|[The problem with...|\n",
            "|         A Guy Thing|     Romance, Comedy|          Chris Koch|False| 20000000|               en|Paul Morse is a g...|  4.444724|[{'name': 'Metro-...|[{'iso_3166_1': '...|  2003-01-17|  101.0|         5.3|        85|  $15.4M-17432163|[...forgettable y...|\n",
            "|A History of Viol...|Drama, Mystery & ...|    David Cronenberg|False| 32000000|               en|An average family...| 11.119707|[{'name': 'New Li...|[{'iso_3166_1': '...|  2005-09-23|   96.0|         6.9|       850|  $31.5M-60740827|[The cast is exce...|\n",
            "+--------------------+--------------------+--------------------+-----+---------+-----------------+--------------------+----------+--------------------+--------------------+------------+-------+------------+----------+-----------------+--------------------+\n",
            "only showing top 20 rows\n",
            "\n"
          ]
        }
      ]
    },
    {
      "cell_type": "code",
      "source": [
        "\n",
        "df5.dtypes"
      ],
      "metadata": {
        "colab": {
          "base_uri": "https://localhost:8080/"
        },
        "id": "aHYmdu4I_i-D",
        "outputId": "4be0be17-a0ca-414f-c7b6-ea8883981f8c"
      },
      "execution_count": 42,
      "outputs": [
        {
          "output_type": "execute_result",
          "data": {
            "text/plain": [
              "[('title', 'string'),\n",
              " ('genre', 'string'),\n",
              " ('director', 'string'),\n",
              " ('adult', 'string'),\n",
              " ('budget', 'string'),\n",
              " ('original_language', 'string'),\n",
              " ('overview', 'string'),\n",
              " ('popularity', 'string'),\n",
              " ('production_companies', 'string'),\n",
              " ('production_countries', 'string'),\n",
              " ('release_date', 'string'),\n",
              " ('runtime', 'string'),\n",
              " ('vote_average', 'string'),\n",
              " ('vote_count', 'string'),\n",
              " ('total_revenue', 'string'),\n",
              " ('reviews', 'array<string>')]"
            ]
          },
          "metadata": {},
          "execution_count": 42
        }
      ]
    },
    {
      "cell_type": "code",
      "source": [
        "# Replace 'nan-' with ''\n",
        "df = df5.withColumn('total_revenue', regexp_replace('total_revenue', 'nan-', ''))\n",
        "\n",
        "# Replace '-0.0' with ''\n",
        "df= df5.withColumn('total_revenue', regexp_replace('total_revenue', '-0.0', ''))\n",
        "\n",
        "# Replace '$' with ''\n",
        "df= df5.withColumn('total_revenue', regexp_replace('total_revenue', '\\\\$', ''))\n",
        "\n",
        "# Show the modified dataset\n",
        "df.show()"
      ],
      "metadata": {
        "colab": {
          "base_uri": "https://localhost:8080/"
        },
        "id": "d1722KpMvfBx",
        "outputId": "0d4a4944-3248-40b2-979d-8e8d7b9e4c92"
      },
      "execution_count": 43,
      "outputs": [
        {
          "output_type": "stream",
          "name": "stdout",
          "text": [
            "+--------------------+--------------------+--------------------+-----+---------+-----------------+--------------------+----------+--------------------+--------------------+------------+-------+------------+----------+----------------+--------------------+\n",
            "|               title|               genre|            director|adult|   budget|original_language|            overview|popularity|production_companies|production_countries|release_date|runtime|vote_average|vote_count|   total_revenue|             reviews|\n",
            "+--------------------+--------------------+--------------------+-----+---------+-----------------+--------------------+----------+--------------------+--------------------+------------+-------+------------+----------+----------------+--------------------+\n",
            "|    12 Years a Slave|History, Drama, B...|       Steve McQueen|False| 20000000|               en|In the pre-Civil ...| 30.316249|[{'name': 'Plan B...|[{'iso_3166_1': '...|  2013-10-18|  134.0|         7.9|      3787| 56.7M-187000000|[Piercing and hea...|\n",
            "|          13 Minutes|History, Drama, B...| Oliver Hirschbiegel|False|        0|               de|The breath-taking...|  4.969851|[{'name': 'Lucky ...|[{'iso_3166_1': '...|  2015-04-09|  114.0|         7.0|        63|   161.2K-147315|[Elser is an ocea...|\n",
            "|                1408|Horror, Mystery &...|     Mikael Håfström|False| 25000000|               en|A man who special...|  9.196884|[{'name': 'The We...|[{'iso_3166_1': '...|  2007-07-12|  104.0|         6.5|      1372|  72.0M-94679598|[Directed in a st...|\n",
            "|    2 Fast 2 Furious|              Action|      John Singleton|False| 76000000|               en|\"It's a major dou...|   2.32462|[{'name': 'Mikona...|[{'iso_3166_1': '...|  2003-06-05|  107.0|         6.2|      2087|127.1M-236350661|[2 Fast 2 Furious...|\n",
            "|24 Hour Party People|       Comedy, Drama|Michael Winterbottom|False|        0|               en|In 1976, Tony Wil...| 12.655728|[{'name': 'United...|[{'iso_3166_1': '...|  2002-02-13|  117.0|         6.8|       109|          1.1M-0|[\"Tony Wilson's a...|\n",
            "|          27 Dresses|     Romance, Comedy|       Anne Fletcher|False| 30000000|               en|Altruistic Jane f...| 10.342202|[{'name': 'Spygla...|[{'iso_3166_1': '...|  2008-01-10|  111.0|         6.1|      1013| 76.8M-160259319|[Lacks the wicked...|\n",
            "|      28 Weeks Later|Horror, Mystery &...|Juan Carlos Fresn...|False| 15000000|               en|In this chilling ...| 12.884191|[{'name': 'DNA Fi...|[{'iso_3166_1': '...|  2007-04-26|  100.0|         6.5|      1225|  28.6M-64238440|[The story moves ...|\n",
            "|       3 Generations|Comedy, Drama, Lg...|         Gaby Dellal|False|  5000000|               en|A teenager transi...|  4.626438|[{'name': 'IM Glo...|[{'iso_3166_1': '...|  2016-02-11|   87.0|         6.1|        75|    66.4K-443962|[In the hands of ...|\n",
            "|  30 Minutes or Less|      Comedy, Action|     Ruben Fleischer|False| 28000000|               en|Two fledgling cri...|  9.763493|[{'name': 'Columb...|[{'iso_3166_1': '...|  2011-08-11|   83.0|         5.6|       537|  37.1M-40547440|[The comedy reach...|\n",
            "|40 Days and 40 Ni...|     Romance, Comedy|     Michael Lehmann|False| 17000000|               en|Matt Sullivan's l...|  8.628928|[{'name': 'Mirama...|[{'iso_3166_1': '...|  2002-03-01|   94.0|         5.2|       306|         37.9M-0|[Fairly gimmicky ...|\n",
            "|                  42|Biography, Histor...|     Brian Helgeland|False| 40000000|               en|The powerful stor...| 11.637224|[{'name': 'Warner...|[{'iso_3166_1': '...|  2013-04-12|  128.0|         6.8|       795|  95.1M-95020213|[While it&#8217;s...|\n",
            "|            47 Ronin|Adventure, Action...|         Carl Rinsch|False|175000000|               en|Based on the orig...|  14.88937|[{'name': 'Mid At...|[{'iso_3166_1': '...|  2013-12-06|  119.0|         5.9|      1357| 38.3M-150962475|[Nothing short of...|\n",
            "|      50 First Dates|     Romance, Comedy|         Peter Segal|False| 75000000|               en|Henry is a player...| 11.134888|[{'name': 'Columb...|[{'iso_3166_1': '...|  2004-02-13|   99.0|         6.6|      2161|120.8M-196482882|[Effective combin...|\n",
            "|          88 Minutes|Mystery & thrille...|           Jon Avnet|False| 30000000|               en|\"\"\"88 Minutes\"\" f...|  8.552967|[{'name': 'TriSta...|[{'iso_3166_1': '...|  2007-02-14|  108.0|         5.7|       323|  16.9M-16930884|[A film so stuffe...|\n",
            "|    A Beautiful Mind|    Biography, Drama|          Ron Howard|False| 60000000|               en|At Princeton Univ...|  11.93646|[{'name': 'Imagin...|[{'iso_3166_1': '...|  2001-12-11|  135.0|         7.7|      3087|170.7M-313542341|[Nash's character...|\n",
            "|       A Better Life|               Drama|         Chris Weitz|False| 10000000|               en|A gardener in Eas...|  3.033797|[{'name': 'Summit...|[{'iso_3166_1': '...|  2011-06-24|   98.0|         7.0|        54|    1.8M-1759252|[It&#8217;s hard ...|\n",
            "|  A Cinderella Story|     Romance, Comedy|         Mark Rosman|False| 19000000|               en|Sam Montgomery is...|  8.385361|[{'name': 'Gaylor...|[{'iso_3166_1': '...|  2004-07-10|   95.0|         6.1|       737|  51.4M-70067909|[Jennifer Coolidg...|\n",
            "|     A Dog's Purpose|Comedy, Drama, Fa...|     Lasse Hallström|False| 22000000|               en|A dog goes on que...|  9.863789|[{'name': 'Univer...|[{'iso_3166_1': '...|  2017-01-19|  100.0|         6.6|       657| 64.3M-194647323|[The problem with...|\n",
            "|         A Guy Thing|     Romance, Comedy|          Chris Koch|False| 20000000|               en|Paul Morse is a g...|  4.444724|[{'name': 'Metro-...|[{'iso_3166_1': '...|  2003-01-17|  101.0|         5.3|        85|  15.4M-17432163|[...forgettable y...|\n",
            "|A History of Viol...|Drama, Mystery & ...|    David Cronenberg|False| 32000000|               en|An average family...| 11.119707|[{'name': 'New Li...|[{'iso_3166_1': '...|  2005-09-23|   96.0|         6.9|       850|  31.5M-60740827|[The cast is exce...|\n",
            "+--------------------+--------------------+--------------------+-----+---------+-----------------+--------------------+----------+--------------------+--------------------+------------+-------+------------+----------+----------------+--------------------+\n",
            "only showing top 20 rows\n",
            "\n"
          ]
        }
      ]
    },
    {
      "cell_type": "code",
      "source": [
        "def extract_before_dash(value):\n",
        "    return value.split('-')[0]\n",
        "\n",
        "# Register the UDF\n",
        "spark.udf.register(\"extract_before_dash\", extract_before_dash)\n",
        "\n",
        "# Apply the UDF to the 'total_revenue' column and create a new column 'before_dash'\n",
        "df5 = df5.withColumn(\"before_dash\", split(\"total_revenue\", \"-\")[0])\n",
        "\n",
        "df5.show()"
      ],
      "metadata": {
        "colab": {
          "base_uri": "https://localhost:8080/"
        },
        "id": "7VYm9tNO4_FV",
        "outputId": "08336ec7-a9cf-4c02-de7e-a65410c136cc"
      },
      "execution_count": 44,
      "outputs": [
        {
          "output_type": "stream",
          "name": "stdout",
          "text": [
            "+--------------------+--------------------+--------------------+-----+---------+-----------------+--------------------+----------+--------------------+--------------------+------------+-------+------------+----------+-----------------+--------------------+-----------+\n",
            "|               title|               genre|            director|adult|   budget|original_language|            overview|popularity|production_companies|production_countries|release_date|runtime|vote_average|vote_count|    total_revenue|             reviews|before_dash|\n",
            "+--------------------+--------------------+--------------------+-----+---------+-----------------+--------------------+----------+--------------------+--------------------+------------+-------+------------+----------+-----------------+--------------------+-----------+\n",
            "|    12 Years a Slave|History, Drama, B...|       Steve McQueen|False| 20000000|               en|In the pre-Civil ...| 30.316249|[{'name': 'Plan B...|[{'iso_3166_1': '...|  2013-10-18|  134.0|         7.9|      3787| $56.7M-187000000|[Piercing and hea...|     $56.7M|\n",
            "|          13 Minutes|History, Drama, B...| Oliver Hirschbiegel|False|        0|               de|The breath-taking...|  4.969851|[{'name': 'Lucky ...|[{'iso_3166_1': '...|  2015-04-09|  114.0|         7.0|        63|   $161.2K-147315|[Elser is an ocea...|    $161.2K|\n",
            "|                1408|Horror, Mystery &...|     Mikael Håfström|False| 25000000|               en|A man who special...|  9.196884|[{'name': 'The We...|[{'iso_3166_1': '...|  2007-07-12|  104.0|         6.5|      1372|  $72.0M-94679598|[Directed in a st...|     $72.0M|\n",
            "|    2 Fast 2 Furious|              Action|      John Singleton|False| 76000000|               en|\"It's a major dou...|   2.32462|[{'name': 'Mikona...|[{'iso_3166_1': '...|  2003-06-05|  107.0|         6.2|      2087|$127.1M-236350661|[2 Fast 2 Furious...|    $127.1M|\n",
            "|24 Hour Party People|       Comedy, Drama|Michael Winterbottom|False|        0|               en|In 1976, Tony Wil...| 12.655728|[{'name': 'United...|[{'iso_3166_1': '...|  2002-02-13|  117.0|         6.8|       109|          $1.1M-0|[\"Tony Wilson's a...|      $1.1M|\n",
            "|          27 Dresses|     Romance, Comedy|       Anne Fletcher|False| 30000000|               en|Altruistic Jane f...| 10.342202|[{'name': 'Spygla...|[{'iso_3166_1': '...|  2008-01-10|  111.0|         6.1|      1013| $76.8M-160259319|[Lacks the wicked...|     $76.8M|\n",
            "|      28 Weeks Later|Horror, Mystery &...|Juan Carlos Fresn...|False| 15000000|               en|In this chilling ...| 12.884191|[{'name': 'DNA Fi...|[{'iso_3166_1': '...|  2007-04-26|  100.0|         6.5|      1225|  $28.6M-64238440|[The story moves ...|     $28.6M|\n",
            "|       3 Generations|Comedy, Drama, Lg...|         Gaby Dellal|False|  5000000|               en|A teenager transi...|  4.626438|[{'name': 'IM Glo...|[{'iso_3166_1': '...|  2016-02-11|   87.0|         6.1|        75|    $66.4K-443962|[In the hands of ...|     $66.4K|\n",
            "|  30 Minutes or Less|      Comedy, Action|     Ruben Fleischer|False| 28000000|               en|Two fledgling cri...|  9.763493|[{'name': 'Columb...|[{'iso_3166_1': '...|  2011-08-11|   83.0|         5.6|       537|  $37.1M-40547440|[The comedy reach...|     $37.1M|\n",
            "|40 Days and 40 Ni...|     Romance, Comedy|     Michael Lehmann|False| 17000000|               en|Matt Sullivan's l...|  8.628928|[{'name': 'Mirama...|[{'iso_3166_1': '...|  2002-03-01|   94.0|         5.2|       306|         $37.9M-0|[Fairly gimmicky ...|     $37.9M|\n",
            "|                  42|Biography, Histor...|     Brian Helgeland|False| 40000000|               en|The powerful stor...| 11.637224|[{'name': 'Warner...|[{'iso_3166_1': '...|  2013-04-12|  128.0|         6.8|       795|  $95.1M-95020213|[While it&#8217;s...|     $95.1M|\n",
            "|            47 Ronin|Adventure, Action...|         Carl Rinsch|False|175000000|               en|Based on the orig...|  14.88937|[{'name': 'Mid At...|[{'iso_3166_1': '...|  2013-12-06|  119.0|         5.9|      1357| $38.3M-150962475|[Nothing short of...|     $38.3M|\n",
            "|      50 First Dates|     Romance, Comedy|         Peter Segal|False| 75000000|               en|Henry is a player...| 11.134888|[{'name': 'Columb...|[{'iso_3166_1': '...|  2004-02-13|   99.0|         6.6|      2161|$120.8M-196482882|[Effective combin...|    $120.8M|\n",
            "|          88 Minutes|Mystery & thrille...|           Jon Avnet|False| 30000000|               en|\"\"\"88 Minutes\"\" f...|  8.552967|[{'name': 'TriSta...|[{'iso_3166_1': '...|  2007-02-14|  108.0|         5.7|       323|  $16.9M-16930884|[A film so stuffe...|     $16.9M|\n",
            "|    A Beautiful Mind|    Biography, Drama|          Ron Howard|False| 60000000|               en|At Princeton Univ...|  11.93646|[{'name': 'Imagin...|[{'iso_3166_1': '...|  2001-12-11|  135.0|         7.7|      3087|$170.7M-313542341|[Nash's character...|    $170.7M|\n",
            "|       A Better Life|               Drama|         Chris Weitz|False| 10000000|               en|A gardener in Eas...|  3.033797|[{'name': 'Summit...|[{'iso_3166_1': '...|  2011-06-24|   98.0|         7.0|        54|    $1.8M-1759252|[It&#8217;s hard ...|      $1.8M|\n",
            "|  A Cinderella Story|     Romance, Comedy|         Mark Rosman|False| 19000000|               en|Sam Montgomery is...|  8.385361|[{'name': 'Gaylor...|[{'iso_3166_1': '...|  2004-07-10|   95.0|         6.1|       737|  $51.4M-70067909|[Jennifer Coolidg...|     $51.4M|\n",
            "|     A Dog's Purpose|Comedy, Drama, Fa...|     Lasse Hallström|False| 22000000|               en|A dog goes on que...|  9.863789|[{'name': 'Univer...|[{'iso_3166_1': '...|  2017-01-19|  100.0|         6.6|       657| $64.3M-194647323|[The problem with...|     $64.3M|\n",
            "|         A Guy Thing|     Romance, Comedy|          Chris Koch|False| 20000000|               en|Paul Morse is a g...|  4.444724|[{'name': 'Metro-...|[{'iso_3166_1': '...|  2003-01-17|  101.0|         5.3|        85|  $15.4M-17432163|[...forgettable y...|     $15.4M|\n",
            "|A History of Viol...|Drama, Mystery & ...|    David Cronenberg|False| 32000000|               en|An average family...| 11.119707|[{'name': 'New Li...|[{'iso_3166_1': '...|  2005-09-23|   96.0|         6.9|       850|  $31.5M-60740827|[The cast is exce...|     $31.5M|\n",
            "+--------------------+--------------------+--------------------+-----+---------+-----------------+--------------------+----------+--------------------+--------------------+------------+-------+------------+----------+-----------------+--------------------+-----------+\n",
            "only showing top 20 rows\n",
            "\n"
          ]
        }
      ]
    },
    {
      "cell_type": "code",
      "source": [
        "# Converting M=million to 1000000 and K= thaosands to 1000\n",
        "df5 = df5.withColumn(\"total_revenue\", regexp_replace(col(\"total_revenue\"), \"M\", \"1000000\"))\n",
        "df5 = df5.withColumn(\"total_revenue\", regexp_replace(col(\"total_revenue\"), \"K\", \"1000\"))\n",
        "\n",
        "df5.show()"
      ],
      "metadata": {
        "colab": {
          "base_uri": "https://localhost:8080/"
        },
        "id": "Wxj0tXsd8ljs",
        "outputId": "e4c7fe7f-619b-495a-c350-cd36e384006c"
      },
      "execution_count": 45,
      "outputs": [
        {
          "output_type": "stream",
          "name": "stdout",
          "text": [
            "+--------------------+--------------------+--------------------+-----+---------+-----------------+--------------------+----------+--------------------+--------------------+------------+-------+------------+----------+--------------------+--------------------+-----------+\n",
            "|               title|               genre|            director|adult|   budget|original_language|            overview|popularity|production_companies|production_countries|release_date|runtime|vote_average|vote_count|       total_revenue|             reviews|before_dash|\n",
            "+--------------------+--------------------+--------------------+-----+---------+-----------------+--------------------+----------+--------------------+--------------------+------------+-------+------------+----------+--------------------+--------------------+-----------+\n",
            "|    12 Years a Slave|History, Drama, B...|       Steve McQueen|False| 20000000|               en|In the pre-Civil ...| 30.316249|[{'name': 'Plan B...|[{'iso_3166_1': '...|  2013-10-18|  134.0|         7.9|      3787|$56.71000000-1870...|[Piercing and hea...|     $56.7M|\n",
            "|          13 Minutes|History, Drama, B...| Oliver Hirschbiegel|False|        0|               de|The breath-taking...|  4.969851|[{'name': 'Lucky ...|[{'iso_3166_1': '...|  2015-04-09|  114.0|         7.0|        63|   $161.21000-147315|[Elser is an ocea...|    $161.2K|\n",
            "|                1408|Horror, Mystery &...|     Mikael Håfström|False| 25000000|               en|A man who special...|  9.196884|[{'name': 'The We...|[{'iso_3166_1': '...|  2007-07-12|  104.0|         6.5|      1372|$72.01000000-9467...|[Directed in a st...|     $72.0M|\n",
            "|    2 Fast 2 Furious|              Action|      John Singleton|False| 76000000|               en|\"It's a major dou...|   2.32462|[{'name': 'Mikona...|[{'iso_3166_1': '...|  2003-06-05|  107.0|         6.2|      2087|$127.11000000-236...|[2 Fast 2 Furious...|    $127.1M|\n",
            "|24 Hour Party People|       Comedy, Drama|Michael Winterbottom|False|        0|               en|In 1976, Tony Wil...| 12.655728|[{'name': 'United...|[{'iso_3166_1': '...|  2002-02-13|  117.0|         6.8|       109|       $1.11000000-0|[\"Tony Wilson's a...|      $1.1M|\n",
            "|          27 Dresses|     Romance, Comedy|       Anne Fletcher|False| 30000000|               en|Altruistic Jane f...| 10.342202|[{'name': 'Spygla...|[{'iso_3166_1': '...|  2008-01-10|  111.0|         6.1|      1013|$76.81000000-1602...|[Lacks the wicked...|     $76.8M|\n",
            "|      28 Weeks Later|Horror, Mystery &...|Juan Carlos Fresn...|False| 15000000|               en|In this chilling ...| 12.884191|[{'name': 'DNA Fi...|[{'iso_3166_1': '...|  2007-04-26|  100.0|         6.5|      1225|$28.61000000-6423...|[The story moves ...|     $28.6M|\n",
            "|       3 Generations|Comedy, Drama, Lg...|         Gaby Dellal|False|  5000000|               en|A teenager transi...|  4.626438|[{'name': 'IM Glo...|[{'iso_3166_1': '...|  2016-02-11|   87.0|         6.1|        75|    $66.41000-443962|[In the hands of ...|     $66.4K|\n",
            "|  30 Minutes or Less|      Comedy, Action|     Ruben Fleischer|False| 28000000|               en|Two fledgling cri...|  9.763493|[{'name': 'Columb...|[{'iso_3166_1': '...|  2011-08-11|   83.0|         5.6|       537|$37.11000000-4054...|[The comedy reach...|     $37.1M|\n",
            "|40 Days and 40 Ni...|     Romance, Comedy|     Michael Lehmann|False| 17000000|               en|Matt Sullivan's l...|  8.628928|[{'name': 'Mirama...|[{'iso_3166_1': '...|  2002-03-01|   94.0|         5.2|       306|      $37.91000000-0|[Fairly gimmicky ...|     $37.9M|\n",
            "|                  42|Biography, Histor...|     Brian Helgeland|False| 40000000|               en|The powerful stor...| 11.637224|[{'name': 'Warner...|[{'iso_3166_1': '...|  2013-04-12|  128.0|         6.8|       795|$95.11000000-9502...|[While it&#8217;s...|     $95.1M|\n",
            "|            47 Ronin|Adventure, Action...|         Carl Rinsch|False|175000000|               en|Based on the orig...|  14.88937|[{'name': 'Mid At...|[{'iso_3166_1': '...|  2013-12-06|  119.0|         5.9|      1357|$38.31000000-1509...|[Nothing short of...|     $38.3M|\n",
            "|      50 First Dates|     Romance, Comedy|         Peter Segal|False| 75000000|               en|Henry is a player...| 11.134888|[{'name': 'Columb...|[{'iso_3166_1': '...|  2004-02-13|   99.0|         6.6|      2161|$120.81000000-196...|[Effective combin...|    $120.8M|\n",
            "|          88 Minutes|Mystery & thrille...|           Jon Avnet|False| 30000000|               en|\"\"\"88 Minutes\"\" f...|  8.552967|[{'name': 'TriSta...|[{'iso_3166_1': '...|  2007-02-14|  108.0|         5.7|       323|$16.91000000-1693...|[A film so stuffe...|     $16.9M|\n",
            "|    A Beautiful Mind|    Biography, Drama|          Ron Howard|False| 60000000|               en|At Princeton Univ...|  11.93646|[{'name': 'Imagin...|[{'iso_3166_1': '...|  2001-12-11|  135.0|         7.7|      3087|$170.71000000-313...|[Nash's character...|    $170.7M|\n",
            "|       A Better Life|               Drama|         Chris Weitz|False| 10000000|               en|A gardener in Eas...|  3.033797|[{'name': 'Summit...|[{'iso_3166_1': '...|  2011-06-24|   98.0|         7.0|        54| $1.81000000-1759252|[It&#8217;s hard ...|      $1.8M|\n",
            "|  A Cinderella Story|     Romance, Comedy|         Mark Rosman|False| 19000000|               en|Sam Montgomery is...|  8.385361|[{'name': 'Gaylor...|[{'iso_3166_1': '...|  2004-07-10|   95.0|         6.1|       737|$51.41000000-7006...|[Jennifer Coolidg...|     $51.4M|\n",
            "|     A Dog's Purpose|Comedy, Drama, Fa...|     Lasse Hallström|False| 22000000|               en|A dog goes on que...|  9.863789|[{'name': 'Univer...|[{'iso_3166_1': '...|  2017-01-19|  100.0|         6.6|       657|$64.31000000-1946...|[The problem with...|     $64.3M|\n",
            "|         A Guy Thing|     Romance, Comedy|          Chris Koch|False| 20000000|               en|Paul Morse is a g...|  4.444724|[{'name': 'Metro-...|[{'iso_3166_1': '...|  2003-01-17|  101.0|         5.3|        85|$15.41000000-1743...|[...forgettable y...|     $15.4M|\n",
            "|A History of Viol...|Drama, Mystery & ...|    David Cronenberg|False| 32000000|               en|An average family...| 11.119707|[{'name': 'New Li...|[{'iso_3166_1': '...|  2005-09-23|   96.0|         6.9|       850|$31.51000000-6074...|[The cast is exce...|     $31.5M|\n",
            "+--------------------+--------------------+--------------------+-----+---------+-----------------+--------------------+----------+--------------------+--------------------+------------+-------+------------+----------+--------------------+--------------------+-----------+\n",
            "only showing top 20 rows\n",
            "\n"
          ]
        }
      ]
    },
    {
      "cell_type": "code",
      "source": [
        "# Printing the values of columns \"genre\"\n",
        "from pyspark.sql.functions import explode\n",
        "\n",
        "# Create a copy of the DataFrame\n",
        "df5_copy = df5\n",
        "\n",
        "# Explode the 'genres' column to create multiple rows\n",
        "df5_copy = df5_copy.withColumn(\"genre\", explode(split(col(\"genre\"), \", \")))\n",
        "\n",
        "# Get the unique genres\n",
        "unique_genres = df5_copy.select(\"genre\").distinct()\n",
        "\n",
        "# Show the unique genres\n",
        "unique_genres.show()\n"
      ],
      "metadata": {
        "colab": {
          "base_uri": "https://localhost:8080/"
        },
        "id": "NYnLzZgj8yi3",
        "outputId": "52a8c6d3-2304-4e77-bd29-da6f1c1b30cc"
      },
      "execution_count": 46,
      "outputs": [
        {
          "output_type": "stream",
          "name": "stdout",
          "text": [
            "+------------------+\n",
            "|             genre|\n",
            "+------------------+\n",
            "|             Crime|\n",
            "|           Romance|\n",
            "|     Kids & family|\n",
            "|         Adventure|\n",
            "|             Drama|\n",
            "|               War|\n",
            "|       Documentary|\n",
            "|           Fantasy|\n",
            "|           Holiday|\n",
            "|            Lgbtq+|\n",
            "|           History|\n",
            "|             Anime|\n",
            "|           Musical|\n",
            "|         Animation|\n",
            "|Mystery & thriller|\n",
            "|             Music|\n",
            "|            Sci-fi|\n",
            "|            Horror|\n",
            "|           Western|\n",
            "|         Biography|\n",
            "+------------------+\n",
            "only showing top 20 rows\n",
            "\n"
          ]
        }
      ]
    },
    {
      "cell_type": "code",
      "source": [
        "# Make a columns of each genre \n",
        "from pyspark.sql.functions import col, when\n",
        "# List of unique genres\n",
        "unique_genres = ['Crime', 'Romance', 'Kids & family', 'Adventure','Drama','War','Documentary','Fantasy','Holiday','Lgbtq+','History','Anime','Musical','Animation','Mystery & thriller','Music','Sci-fi','Horror','Western','Biography']\n",
        "\n",
        "# Add columns for each genre\n",
        "for genre in unique_genres:\n",
        "    df5_copy = df5_copy.withColumn(genre, when(col(\"genre\").contains(genre), 1).otherwise(0))\n",
        "\n",
        "# Show the modified DataFrame\n",
        "df5_copy.show()\n"
      ],
      "metadata": {
        "colab": {
          "base_uri": "https://localhost:8080/"
        },
        "id": "WFf6dt8zAaWC",
        "outputId": "b7cd04a0-e485-405b-8376-929b4a554fe6"
      },
      "execution_count": 47,
      "outputs": [
        {
          "output_type": "stream",
          "name": "stdout",
          "text": [
            "+--------------------+------------------+--------------------+-----+--------+-----------------+--------------------+----------+--------------------+--------------------+------------+-------+------------+----------+--------------------+--------------------+-----------+-----+-------+-------------+---------+-----+---+-----------+-------+-------+------+-------+-----+-------+---------+------------------+-----+------+------+-------+---------+\n",
            "|               title|             genre|            director|adult|  budget|original_language|            overview|popularity|production_companies|production_countries|release_date|runtime|vote_average|vote_count|       total_revenue|             reviews|before_dash|Crime|Romance|Kids & family|Adventure|Drama|War|Documentary|Fantasy|Holiday|Lgbtq+|History|Anime|Musical|Animation|Mystery & thriller|Music|Sci-fi|Horror|Western|Biography|\n",
            "+--------------------+------------------+--------------------+-----+--------+-----------------+--------------------+----------+--------------------+--------------------+------------+-------+------------+----------+--------------------+--------------------+-----------+-----+-------+-------------+---------+-----+---+-----------+-------+-------+------+-------+-----+-------+---------+------------------+-----+------+------+-------+---------+\n",
            "|    12 Years a Slave|           History|       Steve McQueen|False|20000000|               en|In the pre-Civil ...| 30.316249|[{'name': 'Plan B...|[{'iso_3166_1': '...|  2013-10-18|  134.0|         7.9|      3787|$56.71000000-1870...|[Piercing and hea...|     $56.7M|    0|      0|            0|        0|    0|  0|          0|      0|      0|     0|      1|    0|      0|        0|                 0|    0|     0|     0|      0|        0|\n",
            "|    12 Years a Slave|             Drama|       Steve McQueen|False|20000000|               en|In the pre-Civil ...| 30.316249|[{'name': 'Plan B...|[{'iso_3166_1': '...|  2013-10-18|  134.0|         7.9|      3787|$56.71000000-1870...|[Piercing and hea...|     $56.7M|    0|      0|            0|        0|    1|  0|          0|      0|      0|     0|      0|    0|      0|        0|                 0|    0|     0|     0|      0|        0|\n",
            "|    12 Years a Slave|         Biography|       Steve McQueen|False|20000000|               en|In the pre-Civil ...| 30.316249|[{'name': 'Plan B...|[{'iso_3166_1': '...|  2013-10-18|  134.0|         7.9|      3787|$56.71000000-1870...|[Piercing and hea...|     $56.7M|    0|      0|            0|        0|    0|  0|          0|      0|      0|     0|      0|    0|      0|        0|                 0|    0|     0|     0|      0|        1|\n",
            "|          13 Minutes|           History| Oliver Hirschbiegel|False|       0|               de|The breath-taking...|  4.969851|[{'name': 'Lucky ...|[{'iso_3166_1': '...|  2015-04-09|  114.0|         7.0|        63|   $161.21000-147315|[Elser is an ocea...|    $161.2K|    0|      0|            0|        0|    0|  0|          0|      0|      0|     0|      1|    0|      0|        0|                 0|    0|     0|     0|      0|        0|\n",
            "|          13 Minutes|             Drama| Oliver Hirschbiegel|False|       0|               de|The breath-taking...|  4.969851|[{'name': 'Lucky ...|[{'iso_3166_1': '...|  2015-04-09|  114.0|         7.0|        63|   $161.21000-147315|[Elser is an ocea...|    $161.2K|    0|      0|            0|        0|    1|  0|          0|      0|      0|     0|      0|    0|      0|        0|                 0|    0|     0|     0|      0|        0|\n",
            "|          13 Minutes|         Biography| Oliver Hirschbiegel|False|       0|               de|The breath-taking...|  4.969851|[{'name': 'Lucky ...|[{'iso_3166_1': '...|  2015-04-09|  114.0|         7.0|        63|   $161.21000-147315|[Elser is an ocea...|    $161.2K|    0|      0|            0|        0|    0|  0|          0|      0|      0|     0|      0|    0|      0|        0|                 0|    0|     0|     0|      0|        1|\n",
            "|                1408|            Horror|     Mikael Håfström|False|25000000|               en|A man who special...|  9.196884|[{'name': 'The We...|[{'iso_3166_1': '...|  2007-07-12|  104.0|         6.5|      1372|$72.01000000-9467...|[Directed in a st...|     $72.0M|    0|      0|            0|        0|    0|  0|          0|      0|      0|     0|      0|    0|      0|        0|                 0|    0|     0|     1|      0|        0|\n",
            "|                1408|Mystery & thriller|     Mikael Håfström|False|25000000|               en|A man who special...|  9.196884|[{'name': 'The We...|[{'iso_3166_1': '...|  2007-07-12|  104.0|         6.5|      1372|$72.01000000-9467...|[Directed in a st...|     $72.0M|    0|      0|            0|        0|    0|  0|          0|      0|      0|     0|      0|    0|      0|        0|                 1|    0|     0|     0|      0|        0|\n",
            "|    2 Fast 2 Furious|            Action|      John Singleton|False|76000000|               en|\"It's a major dou...|   2.32462|[{'name': 'Mikona...|[{'iso_3166_1': '...|  2003-06-05|  107.0|         6.2|      2087|$127.11000000-236...|[2 Fast 2 Furious...|    $127.1M|    0|      0|            0|        0|    0|  0|          0|      0|      0|     0|      0|    0|      0|        0|                 0|    0|     0|     0|      0|        0|\n",
            "|24 Hour Party People|            Comedy|Michael Winterbottom|False|       0|               en|In 1976, Tony Wil...| 12.655728|[{'name': 'United...|[{'iso_3166_1': '...|  2002-02-13|  117.0|         6.8|       109|       $1.11000000-0|[\"Tony Wilson's a...|      $1.1M|    0|      0|            0|        0|    0|  0|          0|      0|      0|     0|      0|    0|      0|        0|                 0|    0|     0|     0|      0|        0|\n",
            "|24 Hour Party People|             Drama|Michael Winterbottom|False|       0|               en|In 1976, Tony Wil...| 12.655728|[{'name': 'United...|[{'iso_3166_1': '...|  2002-02-13|  117.0|         6.8|       109|       $1.11000000-0|[\"Tony Wilson's a...|      $1.1M|    0|      0|            0|        0|    1|  0|          0|      0|      0|     0|      0|    0|      0|        0|                 0|    0|     0|     0|      0|        0|\n",
            "|          27 Dresses|           Romance|       Anne Fletcher|False|30000000|               en|Altruistic Jane f...| 10.342202|[{'name': 'Spygla...|[{'iso_3166_1': '...|  2008-01-10|  111.0|         6.1|      1013|$76.81000000-1602...|[Lacks the wicked...|     $76.8M|    0|      1|            0|        0|    0|  0|          0|      0|      0|     0|      0|    0|      0|        0|                 0|    0|     0|     0|      0|        0|\n",
            "|          27 Dresses|            Comedy|       Anne Fletcher|False|30000000|               en|Altruistic Jane f...| 10.342202|[{'name': 'Spygla...|[{'iso_3166_1': '...|  2008-01-10|  111.0|         6.1|      1013|$76.81000000-1602...|[Lacks the wicked...|     $76.8M|    0|      0|            0|        0|    0|  0|          0|      0|      0|     0|      0|    0|      0|        0|                 0|    0|     0|     0|      0|        0|\n",
            "|      28 Weeks Later|            Horror|Juan Carlos Fresn...|False|15000000|               en|In this chilling ...| 12.884191|[{'name': 'DNA Fi...|[{'iso_3166_1': '...|  2007-04-26|  100.0|         6.5|      1225|$28.61000000-6423...|[The story moves ...|     $28.6M|    0|      0|            0|        0|    0|  0|          0|      0|      0|     0|      0|    0|      0|        0|                 0|    0|     0|     1|      0|        0|\n",
            "|      28 Weeks Later|Mystery & thriller|Juan Carlos Fresn...|False|15000000|               en|In this chilling ...| 12.884191|[{'name': 'DNA Fi...|[{'iso_3166_1': '...|  2007-04-26|  100.0|         6.5|      1225|$28.61000000-6423...|[The story moves ...|     $28.6M|    0|      0|            0|        0|    0|  0|          0|      0|      0|     0|      0|    0|      0|        0|                 1|    0|     0|     0|      0|        0|\n",
            "|       3 Generations|            Comedy|         Gaby Dellal|False| 5000000|               en|A teenager transi...|  4.626438|[{'name': 'IM Glo...|[{'iso_3166_1': '...|  2016-02-11|   87.0|         6.1|        75|    $66.41000-443962|[In the hands of ...|     $66.4K|    0|      0|            0|        0|    0|  0|          0|      0|      0|     0|      0|    0|      0|        0|                 0|    0|     0|     0|      0|        0|\n",
            "|       3 Generations|             Drama|         Gaby Dellal|False| 5000000|               en|A teenager transi...|  4.626438|[{'name': 'IM Glo...|[{'iso_3166_1': '...|  2016-02-11|   87.0|         6.1|        75|    $66.41000-443962|[In the hands of ...|     $66.4K|    0|      0|            0|        0|    1|  0|          0|      0|      0|     0|      0|    0|      0|        0|                 0|    0|     0|     0|      0|        0|\n",
            "|       3 Generations|            Lgbtq+|         Gaby Dellal|False| 5000000|               en|A teenager transi...|  4.626438|[{'name': 'IM Glo...|[{'iso_3166_1': '...|  2016-02-11|   87.0|         6.1|        75|    $66.41000-443962|[In the hands of ...|     $66.4K|    0|      0|            0|        0|    0|  0|          0|      0|      0|     1|      0|    0|      0|        0|                 0|    0|     0|     0|      0|        0|\n",
            "|  30 Minutes or Less|            Comedy|     Ruben Fleischer|False|28000000|               en|Two fledgling cri...|  9.763493|[{'name': 'Columb...|[{'iso_3166_1': '...|  2011-08-11|   83.0|         5.6|       537|$37.11000000-4054...|[The comedy reach...|     $37.1M|    0|      0|            0|        0|    0|  0|          0|      0|      0|     0|      0|    0|      0|        0|                 0|    0|     0|     0|      0|        0|\n",
            "|  30 Minutes or Less|            Action|     Ruben Fleischer|False|28000000|               en|Two fledgling cri...|  9.763493|[{'name': 'Columb...|[{'iso_3166_1': '...|  2011-08-11|   83.0|         5.6|       537|$37.11000000-4054...|[The comedy reach...|     $37.1M|    0|      0|            0|        0|    0|  0|          0|      0|      0|     0|      0|    0|      0|        0|                 0|    0|     0|     0|      0|        0|\n",
            "+--------------------+------------------+--------------------+-----+--------+-----------------+--------------------+----------+--------------------+--------------------+------------+-------+------------+----------+--------------------+--------------------+-----------+-----+-------+-------------+---------+-----+---+-----------+-------+-------+------+-------+-----+-------+---------+------------------+-----+------+------+-------+---------+\n",
            "only showing top 20 rows\n",
            "\n"
          ]
        }
      ]
    },
    {
      "cell_type": "code",
      "source": [
        "# Getting the categorical data \n",
        "categorical_features = [column for column, dtype in df5_copy.dtypes if dtype == \"string\"]\n",
        "\n",
        "# Print the categorical features\n",
        "print(categorical_features)"
      ],
      "metadata": {
        "colab": {
          "base_uri": "https://localhost:8080/"
        },
        "id": "5bETMBcMBui7",
        "outputId": "2e9a69f3-512f-4595-afae-11cfe0395e93"
      },
      "execution_count": 48,
      "outputs": [
        {
          "output_type": "stream",
          "name": "stdout",
          "text": [
            "['title', 'genre', 'director', 'adult', 'budget', 'original_language', 'overview', 'popularity', 'production_companies', 'production_countries', 'release_date', 'runtime', 'vote_average', 'vote_count', 'total_revenue', 'before_dash']\n"
          ]
        }
      ]
    },
    {
      "cell_type": "code",
      "source": [
        "# Converting the categorical data into numeric \n",
        "from pyspark.ml.feature import StringIndexer\n",
        "from pyspark.ml import Pipeline\n",
        "\n",
        "indexers = [StringIndexer(inputCol=column, outputCol=column+\"_INDEX\").fit(df5) for column in categorical_features]\n",
        "pipeline = Pipeline(stages=indexers)\n",
        "df5 = pipeline.fit(df5).transform(df5)\n",
        "df5.toPandas().head(10)"
      ],
      "metadata": {
        "id": "ZYLLhsl5Gtbo",
        "colab": {
          "base_uri": "https://localhost:8080/",
          "height": 1000
        },
        "outputId": "1da4d231-3bec-4c2a-946a-aac392ca3184"
      },
      "execution_count": 49,
      "outputs": [
        {
          "output_type": "execute_result",
          "data": {
            "text/plain": [
              "                   title                       genre                 director  \\\n",
              "0       12 Years a Slave   History, Drama, Biography            Steve McQueen   \n",
              "1             13 Minutes   History, Drama, Biography      Oliver Hirschbiegel   \n",
              "2                   1408  Horror, Mystery & thriller          Mikael Håfström   \n",
              "3       2 Fast 2 Furious                      Action           John Singleton   \n",
              "4   24 Hour Party People               Comedy, Drama     Michael Winterbottom   \n",
              "5             27 Dresses             Romance, Comedy            Anne Fletcher   \n",
              "6         28 Weeks Later  Horror, Mystery & thriller  Juan Carlos Fresnadillo   \n",
              "7          3 Generations       Comedy, Drama, Lgbtq+              Gaby Dellal   \n",
              "8     30 Minutes or Less              Comedy, Action          Ruben Fleischer   \n",
              "9  40 Days and 40 Nights             Romance, Comedy          Michael Lehmann   \n",
              "\n",
              "   adult    budget original_language  \\\n",
              "0  False  20000000                en   \n",
              "1  False         0                de   \n",
              "2  False  25000000                en   \n",
              "3  False  76000000                en   \n",
              "4  False         0                en   \n",
              "5  False  30000000                en   \n",
              "6  False  15000000                en   \n",
              "7  False   5000000                en   \n",
              "8  False  28000000                en   \n",
              "9  False  17000000                en   \n",
              "\n",
              "                                            overview popularity  \\\n",
              "0  In the pre-Civil War United States, Solomon No...  30.316249   \n",
              "1  The breath-taking story of a man who nearly wo...   4.969851   \n",
              "2  A man who specializes in debunking paranormal ...   9.196884   \n",
              "3  \"It's a major double-cross when former police ...    2.32462   \n",
              "4  In 1976, Tony Wilson sets up Factory Records a...  12.655728   \n",
              "5  Altruistic Jane finds herself facing her worst...  10.342202   \n",
              "6  In this chilling sequel to 28 Days Later, the ...  12.884191   \n",
              "7  A teenager transitions from female to male, an...   4.626438   \n",
              "8  Two fledgling criminals kidnap a pizza deliver...   9.763493   \n",
              "9  Matt Sullivan's last big relationship ended in...   8.628928   \n",
              "\n",
              "                                production_companies  \\\n",
              "0  [{'name': 'Plan B Entertainment', 'id': 81}, {...   \n",
              "1  [{'name': 'Lucky Bird Pictures', 'id': 50449},...   \n",
              "2  [{'name': 'The Weinstein Company', 'id': 308},...   \n",
              "3  [{'name': 'Mikona Productions GmbH & Co. KG', ...   \n",
              "4  [{'name': 'United Artists', 'id': 60}, {'name'...   \n",
              "5  [{'name': 'Spyglass Entertainment', 'id': 158}...   \n",
              "6  [{'name': 'DNA Films', 'id': 284}, {'name': 'F...   \n",
              "7  [{'name': 'IM Global', 'id': 7437}, {'name': '...   \n",
              "8           [{'name': 'Columbia Pictures', 'id': 5}]   \n",
              "9  [{'name': 'Miramax Films', 'id': 14}, {'name':...   \n",
              "\n",
              "                                production_countries  ... overview_INDEX  \\\n",
              "0  [{'iso_3166_1': 'US', 'name': 'United States o...  ...         1321.0   \n",
              "1          [{'iso_3166_1': 'DE', 'name': 'Germany'}]  ...         1867.0   \n",
              "2  [{'iso_3166_1': 'US', 'name': 'United States o...  ...          281.0   \n",
              "3  [{'iso_3166_1': 'US', 'name': 'United States o...  ...           25.0   \n",
              "4   [{'iso_3166_1': 'GB', 'name': 'United Kingdom'}]  ...         1237.0   \n",
              "5  [{'iso_3166_1': 'US', 'name': 'United States o...  ...          654.0   \n",
              "6  [{'iso_3166_1': 'ES', 'name': 'Spain'}, {'iso_...  ...         1342.0   \n",
              "7  [{'iso_3166_1': 'US', 'name': 'United States o...  ...          428.0   \n",
              "8  [{'iso_3166_1': 'US', 'name': 'United States o...  ...         2109.0   \n",
              "9  [{'iso_3166_1': 'US', 'name': 'United States o...  ...         1503.0   \n",
              "\n",
              "  popularity_INDEX production_companies_INDEX production_countries_INDEX  \\\n",
              "0           1298.0                     1296.0                       20.0   \n",
              "1           1423.0                      940.0                       17.0   \n",
              "2           2226.0                     1534.0                        0.0   \n",
              "3           1024.0                      979.0                        0.0   \n",
              "4            633.0                     1674.0                        3.0   \n",
              "5            328.0                     1462.0                        0.0   \n",
              "6            653.0                      445.0                       53.0   \n",
              "7           1381.0                      745.0                        0.0   \n",
              "8           2327.0                        3.0                      267.0   \n",
              "9           2136.0                     1022.0                       81.0   \n",
              "\n",
              "  release_date_INDEX runtime_INDEX vote_average_INDEX  vote_count_INDEX  \\\n",
              "0              397.0          46.0               33.0             833.0   \n",
              "1              415.0          30.0                9.0              27.0   \n",
              "2             1223.0          10.0                2.0             502.0   \n",
              "3              972.0          15.0                7.0             632.0   \n",
              "4              887.0          27.0               11.0              57.0   \n",
              "5             1267.0          25.0                1.0             399.0   \n",
              "6             1214.0           6.0                2.0             226.0   \n",
              "7             1687.0          34.0                1.0              69.0   \n",
              "8             1430.0          44.0               13.0             947.0   \n",
              "9              211.0          12.0               23.0              83.0   \n",
              "\n",
              "   total_revenue_INDEX  before_dash_INDEX  \n",
              "0               1720.0              394.0  \n",
              "1                531.0              635.0  \n",
              "2               1963.0              429.0  \n",
              "3                338.0              553.0  \n",
              "4                  0.0                0.0  \n",
              "5               2011.0             1236.0  \n",
              "6                994.0              178.0  \n",
              "7               1873.0             1160.0  \n",
              "8               1279.0              343.0  \n",
              "9               1297.0               20.0  \n",
              "\n",
              "[10 rows x 33 columns]"
            ],
            "text/html": [
              "\n",
              "  <div id=\"df-9e001f6c-577d-45bf-8a7d-912832ba9c40\">\n",
              "    <div class=\"colab-df-container\">\n",
              "      <div>\n",
              "<style scoped>\n",
              "    .dataframe tbody tr th:only-of-type {\n",
              "        vertical-align: middle;\n",
              "    }\n",
              "\n",
              "    .dataframe tbody tr th {\n",
              "        vertical-align: top;\n",
              "    }\n",
              "\n",
              "    .dataframe thead th {\n",
              "        text-align: right;\n",
              "    }\n",
              "</style>\n",
              "<table border=\"1\" class=\"dataframe\">\n",
              "  <thead>\n",
              "    <tr style=\"text-align: right;\">\n",
              "      <th></th>\n",
              "      <th>title</th>\n",
              "      <th>genre</th>\n",
              "      <th>director</th>\n",
              "      <th>adult</th>\n",
              "      <th>budget</th>\n",
              "      <th>original_language</th>\n",
              "      <th>overview</th>\n",
              "      <th>popularity</th>\n",
              "      <th>production_companies</th>\n",
              "      <th>production_countries</th>\n",
              "      <th>...</th>\n",
              "      <th>overview_INDEX</th>\n",
              "      <th>popularity_INDEX</th>\n",
              "      <th>production_companies_INDEX</th>\n",
              "      <th>production_countries_INDEX</th>\n",
              "      <th>release_date_INDEX</th>\n",
              "      <th>runtime_INDEX</th>\n",
              "      <th>vote_average_INDEX</th>\n",
              "      <th>vote_count_INDEX</th>\n",
              "      <th>total_revenue_INDEX</th>\n",
              "      <th>before_dash_INDEX</th>\n",
              "    </tr>\n",
              "  </thead>\n",
              "  <tbody>\n",
              "    <tr>\n",
              "      <th>0</th>\n",
              "      <td>12 Years a Slave</td>\n",
              "      <td>History, Drama, Biography</td>\n",
              "      <td>Steve McQueen</td>\n",
              "      <td>False</td>\n",
              "      <td>20000000</td>\n",
              "      <td>en</td>\n",
              "      <td>In the pre-Civil War United States, Solomon No...</td>\n",
              "      <td>30.316249</td>\n",
              "      <td>[{'name': 'Plan B Entertainment', 'id': 81}, {...</td>\n",
              "      <td>[{'iso_3166_1': 'US', 'name': 'United States o...</td>\n",
              "      <td>...</td>\n",
              "      <td>1321.0</td>\n",
              "      <td>1298.0</td>\n",
              "      <td>1296.0</td>\n",
              "      <td>20.0</td>\n",
              "      <td>397.0</td>\n",
              "      <td>46.0</td>\n",
              "      <td>33.0</td>\n",
              "      <td>833.0</td>\n",
              "      <td>1720.0</td>\n",
              "      <td>394.0</td>\n",
              "    </tr>\n",
              "    <tr>\n",
              "      <th>1</th>\n",
              "      <td>13 Minutes</td>\n",
              "      <td>History, Drama, Biography</td>\n",
              "      <td>Oliver Hirschbiegel</td>\n",
              "      <td>False</td>\n",
              "      <td>0</td>\n",
              "      <td>de</td>\n",
              "      <td>The breath-taking story of a man who nearly wo...</td>\n",
              "      <td>4.969851</td>\n",
              "      <td>[{'name': 'Lucky Bird Pictures', 'id': 50449},...</td>\n",
              "      <td>[{'iso_3166_1': 'DE', 'name': 'Germany'}]</td>\n",
              "      <td>...</td>\n",
              "      <td>1867.0</td>\n",
              "      <td>1423.0</td>\n",
              "      <td>940.0</td>\n",
              "      <td>17.0</td>\n",
              "      <td>415.0</td>\n",
              "      <td>30.0</td>\n",
              "      <td>9.0</td>\n",
              "      <td>27.0</td>\n",
              "      <td>531.0</td>\n",
              "      <td>635.0</td>\n",
              "    </tr>\n",
              "    <tr>\n",
              "      <th>2</th>\n",
              "      <td>1408</td>\n",
              "      <td>Horror, Mystery &amp; thriller</td>\n",
              "      <td>Mikael Håfström</td>\n",
              "      <td>False</td>\n",
              "      <td>25000000</td>\n",
              "      <td>en</td>\n",
              "      <td>A man who specializes in debunking paranormal ...</td>\n",
              "      <td>9.196884</td>\n",
              "      <td>[{'name': 'The Weinstein Company', 'id': 308},...</td>\n",
              "      <td>[{'iso_3166_1': 'US', 'name': 'United States o...</td>\n",
              "      <td>...</td>\n",
              "      <td>281.0</td>\n",
              "      <td>2226.0</td>\n",
              "      <td>1534.0</td>\n",
              "      <td>0.0</td>\n",
              "      <td>1223.0</td>\n",
              "      <td>10.0</td>\n",
              "      <td>2.0</td>\n",
              "      <td>502.0</td>\n",
              "      <td>1963.0</td>\n",
              "      <td>429.0</td>\n",
              "    </tr>\n",
              "    <tr>\n",
              "      <th>3</th>\n",
              "      <td>2 Fast 2 Furious</td>\n",
              "      <td>Action</td>\n",
              "      <td>John Singleton</td>\n",
              "      <td>False</td>\n",
              "      <td>76000000</td>\n",
              "      <td>en</td>\n",
              "      <td>\"It's a major double-cross when former police ...</td>\n",
              "      <td>2.32462</td>\n",
              "      <td>[{'name': 'Mikona Productions GmbH &amp; Co. KG', ...</td>\n",
              "      <td>[{'iso_3166_1': 'US', 'name': 'United States o...</td>\n",
              "      <td>...</td>\n",
              "      <td>25.0</td>\n",
              "      <td>1024.0</td>\n",
              "      <td>979.0</td>\n",
              "      <td>0.0</td>\n",
              "      <td>972.0</td>\n",
              "      <td>15.0</td>\n",
              "      <td>7.0</td>\n",
              "      <td>632.0</td>\n",
              "      <td>338.0</td>\n",
              "      <td>553.0</td>\n",
              "    </tr>\n",
              "    <tr>\n",
              "      <th>4</th>\n",
              "      <td>24 Hour Party People</td>\n",
              "      <td>Comedy, Drama</td>\n",
              "      <td>Michael Winterbottom</td>\n",
              "      <td>False</td>\n",
              "      <td>0</td>\n",
              "      <td>en</td>\n",
              "      <td>In 1976, Tony Wilson sets up Factory Records a...</td>\n",
              "      <td>12.655728</td>\n",
              "      <td>[{'name': 'United Artists', 'id': 60}, {'name'...</td>\n",
              "      <td>[{'iso_3166_1': 'GB', 'name': 'United Kingdom'}]</td>\n",
              "      <td>...</td>\n",
              "      <td>1237.0</td>\n",
              "      <td>633.0</td>\n",
              "      <td>1674.0</td>\n",
              "      <td>3.0</td>\n",
              "      <td>887.0</td>\n",
              "      <td>27.0</td>\n",
              "      <td>11.0</td>\n",
              "      <td>57.0</td>\n",
              "      <td>0.0</td>\n",
              "      <td>0.0</td>\n",
              "    </tr>\n",
              "    <tr>\n",
              "      <th>5</th>\n",
              "      <td>27 Dresses</td>\n",
              "      <td>Romance, Comedy</td>\n",
              "      <td>Anne Fletcher</td>\n",
              "      <td>False</td>\n",
              "      <td>30000000</td>\n",
              "      <td>en</td>\n",
              "      <td>Altruistic Jane finds herself facing her worst...</td>\n",
              "      <td>10.342202</td>\n",
              "      <td>[{'name': 'Spyglass Entertainment', 'id': 158}...</td>\n",
              "      <td>[{'iso_3166_1': 'US', 'name': 'United States o...</td>\n",
              "      <td>...</td>\n",
              "      <td>654.0</td>\n",
              "      <td>328.0</td>\n",
              "      <td>1462.0</td>\n",
              "      <td>0.0</td>\n",
              "      <td>1267.0</td>\n",
              "      <td>25.0</td>\n",
              "      <td>1.0</td>\n",
              "      <td>399.0</td>\n",
              "      <td>2011.0</td>\n",
              "      <td>1236.0</td>\n",
              "    </tr>\n",
              "    <tr>\n",
              "      <th>6</th>\n",
              "      <td>28 Weeks Later</td>\n",
              "      <td>Horror, Mystery &amp; thriller</td>\n",
              "      <td>Juan Carlos Fresnadillo</td>\n",
              "      <td>False</td>\n",
              "      <td>15000000</td>\n",
              "      <td>en</td>\n",
              "      <td>In this chilling sequel to 28 Days Later, the ...</td>\n",
              "      <td>12.884191</td>\n",
              "      <td>[{'name': 'DNA Films', 'id': 284}, {'name': 'F...</td>\n",
              "      <td>[{'iso_3166_1': 'ES', 'name': 'Spain'}, {'iso_...</td>\n",
              "      <td>...</td>\n",
              "      <td>1342.0</td>\n",
              "      <td>653.0</td>\n",
              "      <td>445.0</td>\n",
              "      <td>53.0</td>\n",
              "      <td>1214.0</td>\n",
              "      <td>6.0</td>\n",
              "      <td>2.0</td>\n",
              "      <td>226.0</td>\n",
              "      <td>994.0</td>\n",
              "      <td>178.0</td>\n",
              "    </tr>\n",
              "    <tr>\n",
              "      <th>7</th>\n",
              "      <td>3 Generations</td>\n",
              "      <td>Comedy, Drama, Lgbtq+</td>\n",
              "      <td>Gaby Dellal</td>\n",
              "      <td>False</td>\n",
              "      <td>5000000</td>\n",
              "      <td>en</td>\n",
              "      <td>A teenager transitions from female to male, an...</td>\n",
              "      <td>4.626438</td>\n",
              "      <td>[{'name': 'IM Global', 'id': 7437}, {'name': '...</td>\n",
              "      <td>[{'iso_3166_1': 'US', 'name': 'United States o...</td>\n",
              "      <td>...</td>\n",
              "      <td>428.0</td>\n",
              "      <td>1381.0</td>\n",
              "      <td>745.0</td>\n",
              "      <td>0.0</td>\n",
              "      <td>1687.0</td>\n",
              "      <td>34.0</td>\n",
              "      <td>1.0</td>\n",
              "      <td>69.0</td>\n",
              "      <td>1873.0</td>\n",
              "      <td>1160.0</td>\n",
              "    </tr>\n",
              "    <tr>\n",
              "      <th>8</th>\n",
              "      <td>30 Minutes or Less</td>\n",
              "      <td>Comedy, Action</td>\n",
              "      <td>Ruben Fleischer</td>\n",
              "      <td>False</td>\n",
              "      <td>28000000</td>\n",
              "      <td>en</td>\n",
              "      <td>Two fledgling criminals kidnap a pizza deliver...</td>\n",
              "      <td>9.763493</td>\n",
              "      <td>[{'name': 'Columbia Pictures', 'id': 5}]</td>\n",
              "      <td>[{'iso_3166_1': 'US', 'name': 'United States o...</td>\n",
              "      <td>...</td>\n",
              "      <td>2109.0</td>\n",
              "      <td>2327.0</td>\n",
              "      <td>3.0</td>\n",
              "      <td>267.0</td>\n",
              "      <td>1430.0</td>\n",
              "      <td>44.0</td>\n",
              "      <td>13.0</td>\n",
              "      <td>947.0</td>\n",
              "      <td>1279.0</td>\n",
              "      <td>343.0</td>\n",
              "    </tr>\n",
              "    <tr>\n",
              "      <th>9</th>\n",
              "      <td>40 Days and 40 Nights</td>\n",
              "      <td>Romance, Comedy</td>\n",
              "      <td>Michael Lehmann</td>\n",
              "      <td>False</td>\n",
              "      <td>17000000</td>\n",
              "      <td>en</td>\n",
              "      <td>Matt Sullivan's last big relationship ended in...</td>\n",
              "      <td>8.628928</td>\n",
              "      <td>[{'name': 'Miramax Films', 'id': 14}, {'name':...</td>\n",
              "      <td>[{'iso_3166_1': 'US', 'name': 'United States o...</td>\n",
              "      <td>...</td>\n",
              "      <td>1503.0</td>\n",
              "      <td>2136.0</td>\n",
              "      <td>1022.0</td>\n",
              "      <td>81.0</td>\n",
              "      <td>211.0</td>\n",
              "      <td>12.0</td>\n",
              "      <td>23.0</td>\n",
              "      <td>83.0</td>\n",
              "      <td>1297.0</td>\n",
              "      <td>20.0</td>\n",
              "    </tr>\n",
              "  </tbody>\n",
              "</table>\n",
              "<p>10 rows × 33 columns</p>\n",
              "</div>\n",
              "      <button class=\"colab-df-convert\" onclick=\"convertToInteractive('df-9e001f6c-577d-45bf-8a7d-912832ba9c40')\"\n",
              "              title=\"Convert this dataframe to an interactive table.\"\n",
              "              style=\"display:none;\">\n",
              "        \n",
              "  <svg xmlns=\"http://www.w3.org/2000/svg\" height=\"24px\"viewBox=\"0 0 24 24\"\n",
              "       width=\"24px\">\n",
              "    <path d=\"M0 0h24v24H0V0z\" fill=\"none\"/>\n",
              "    <path d=\"M18.56 5.44l.94 2.06.94-2.06 2.06-.94-2.06-.94-.94-2.06-.94 2.06-2.06.94zm-11 1L8.5 8.5l.94-2.06 2.06-.94-2.06-.94L8.5 2.5l-.94 2.06-2.06.94zm10 10l.94 2.06.94-2.06 2.06-.94-2.06-.94-.94-2.06-.94 2.06-2.06.94z\"/><path d=\"M17.41 7.96l-1.37-1.37c-.4-.4-.92-.59-1.43-.59-.52 0-1.04.2-1.43.59L10.3 9.45l-7.72 7.72c-.78.78-.78 2.05 0 2.83L4 21.41c.39.39.9.59 1.41.59.51 0 1.02-.2 1.41-.59l7.78-7.78 2.81-2.81c.8-.78.8-2.07 0-2.86zM5.41 20L4 18.59l7.72-7.72 1.47 1.35L5.41 20z\"/>\n",
              "  </svg>\n",
              "      </button>\n",
              "      \n",
              "  <style>\n",
              "    .colab-df-container {\n",
              "      display:flex;\n",
              "      flex-wrap:wrap;\n",
              "      gap: 12px;\n",
              "    }\n",
              "\n",
              "    .colab-df-convert {\n",
              "      background-color: #E8F0FE;\n",
              "      border: none;\n",
              "      border-radius: 50%;\n",
              "      cursor: pointer;\n",
              "      display: none;\n",
              "      fill: #1967D2;\n",
              "      height: 32px;\n",
              "      padding: 0 0 0 0;\n",
              "      width: 32px;\n",
              "    }\n",
              "\n",
              "    .colab-df-convert:hover {\n",
              "      background-color: #E2EBFA;\n",
              "      box-shadow: 0px 1px 2px rgba(60, 64, 67, 0.3), 0px 1px 3px 1px rgba(60, 64, 67, 0.15);\n",
              "      fill: #174EA6;\n",
              "    }\n",
              "\n",
              "    [theme=dark] .colab-df-convert {\n",
              "      background-color: #3B4455;\n",
              "      fill: #D2E3FC;\n",
              "    }\n",
              "\n",
              "    [theme=dark] .colab-df-convert:hover {\n",
              "      background-color: #434B5C;\n",
              "      box-shadow: 0px 1px 3px 1px rgba(0, 0, 0, 0.15);\n",
              "      filter: drop-shadow(0px 1px 2px rgba(0, 0, 0, 0.3));\n",
              "      fill: #FFFFFF;\n",
              "    }\n",
              "  </style>\n",
              "\n",
              "      <script>\n",
              "        const buttonEl =\n",
              "          document.querySelector('#df-9e001f6c-577d-45bf-8a7d-912832ba9c40 button.colab-df-convert');\n",
              "        buttonEl.style.display =\n",
              "          google.colab.kernel.accessAllowed ? 'block' : 'none';\n",
              "\n",
              "        async function convertToInteractive(key) {\n",
              "          const element = document.querySelector('#df-9e001f6c-577d-45bf-8a7d-912832ba9c40');\n",
              "          const dataTable =\n",
              "            await google.colab.kernel.invokeFunction('convertToInteractive',\n",
              "                                                     [key], {});\n",
              "          if (!dataTable) return;\n",
              "\n",
              "          const docLinkHtml = 'Like what you see? Visit the ' +\n",
              "            '<a target=\"_blank\" href=https://colab.research.google.com/notebooks/data_table.ipynb>data table notebook</a>'\n",
              "            + ' to learn more about interactive tables.';\n",
              "          element.innerHTML = '';\n",
              "          dataTable['output_type'] = 'display_data';\n",
              "          await google.colab.output.renderOutput(dataTable, element);\n",
              "          const docLink = document.createElement('div');\n",
              "          docLink.innerHTML = docLinkHtml;\n",
              "          element.appendChild(docLink);\n",
              "        }\n",
              "      </script>\n",
              "    </div>\n",
              "  </div>\n",
              "  "
            ]
          },
          "metadata": {},
          "execution_count": 49
        }
      ]
    },
    {
      "cell_type": "code",
      "source": [
        "\n",
        "list_=df5.columns\n",
        "lis=[]\n",
        "for i in list_:\n",
        "  if '_INDEX' in i :\n",
        "    lis.append(i)"
      ],
      "metadata": {
        "id": "tIlYjtvBVahA"
      },
      "execution_count": 50,
      "outputs": []
    },
    {
      "cell_type": "code",
      "source": [
        "lis.remove('total_revenue_INDEX')"
      ],
      "metadata": {
        "id": "KXytLvcMW_th"
      },
      "execution_count": 51,
      "outputs": []
    },
    {
      "cell_type": "code",
      "source": [
        "df6=df5[lis]\n",
        "df6.show()"
      ],
      "metadata": {
        "colab": {
          "base_uri": "https://localhost:8080/"
        },
        "id": "xS5INLqHXlfo",
        "outputId": "dd440047-7828-4e42-94f5-b211a833fe4b"
      },
      "execution_count": 52,
      "outputs": [
        {
          "output_type": "stream",
          "name": "stdout",
          "text": [
            "+-----------+-----------+--------------+-----------+------------+-----------------------+--------------+----------------+--------------------------+--------------------------+------------------+-------------+------------------+----------------+-----------------+\n",
            "|title_INDEX|genre_INDEX|director_INDEX|adult_INDEX|budget_INDEX|original_language_INDEX|overview_INDEX|popularity_INDEX|production_companies_INDEX|production_countries_INDEX|release_date_INDEX|runtime_INDEX|vote_average_INDEX|vote_count_INDEX|before_dash_INDEX|\n",
            "+-----------+-----------+--------------+-----------+------------+-----------------------+--------------+----------------+--------------------------+--------------------------+------------------+-------------+------------------+----------------+-----------------+\n",
            "|        0.0|       42.0|         466.0|        0.0|         2.0|                    0.0|        1321.0|          1298.0|                    1296.0|                      20.0|             397.0|         46.0|              33.0|           833.0|            394.0|\n",
            "|        4.0|       42.0|         213.0|        0.0|         0.0|                    3.0|        1867.0|          1423.0|                     940.0|                      17.0|             415.0|         30.0|               9.0|            27.0|            635.0|\n",
            "|        5.0|        4.0|          64.0|        0.0|         5.0|                    0.0|         281.0|          2226.0|                    1534.0|                       0.0|            1223.0|         10.0|               2.0|           502.0|            429.0|\n",
            "|        6.0|        8.0|          58.0|        0.0|       102.0|                    0.0|          25.0|          1024.0|                     979.0|                       0.0|             972.0|         15.0|               7.0|           632.0|            553.0|\n",
            "|       11.0|        2.0|         114.0|        0.0|         0.0|                    0.0|        1237.0|           633.0|                    1674.0|                       3.0|             887.0|         27.0|              11.0|            57.0|              0.0|\n",
            "|       13.0|        3.0|         144.0|        0.0|         1.0|                    0.0|         654.0|           328.0|                    1462.0|                       0.0|            1267.0|         25.0|               1.0|           399.0|           1236.0|\n",
            "|       16.0|        4.0|         929.0|        0.0|         7.0|                    0.0|        1342.0|           653.0|                     445.0|                      53.0|            1214.0|          6.0|               2.0|           226.0|            178.0|\n",
            "|       18.0|       35.0|         759.0|        0.0|        10.0|                    0.0|         428.0|          1381.0|                     745.0|                       0.0|            1687.0|         34.0|               1.0|            69.0|           1160.0|\n",
            "|       21.0|       15.0|         128.0|        0.0|        16.0|                    0.0|        2109.0|          2327.0|                       3.0|                     267.0|            1430.0|         44.0|              13.0|           947.0|            343.0|\n",
            "|       24.0|        3.0|         201.0|        0.0|        42.0|                    0.0|        1503.0|          2136.0|                    1022.0|                      81.0|             211.0|         12.0|              23.0|            83.0|             20.0|\n",
            "|       25.0|       34.0|         151.0|        0.0|         3.0|                    0.0|        1931.0|           524.0|                      12.0|                       0.0|            1516.0|         49.0|              11.0|           204.0|           1332.0|\n",
            "|       26.0|       23.0|         593.0|        0.0|        67.0|                    0.0|         802.0|           822.0|                     977.0|                       0.0|            1554.0|         29.0|               8.0|           499.0|            196.0|\n",
            "|       27.0|        3.0|          67.0|        0.0|        15.0|                    0.0|        1193.0|           452.0|                     331.0|                       0.0|            1015.0|         11.0|               6.0|           645.0|            535.0|\n",
            "|       30.0|       11.0|         895.0|        0.0|         1.0|                    0.0|           0.0|          2122.0|                    1581.0|                       0.0|             100.0|         13.0|              12.0|           292.0|             15.0|\n",
            "|       32.0|       27.0|           5.0|        0.0|         6.0|                    0.0|         770.0|           558.0|                     759.0|                       0.0|              56.0|         52.0|              27.0|           770.0|            276.0|\n",
            "|       33.0|        0.0|         281.0|        0.0|         9.0|                    0.0|         200.0|          1196.0|                    1510.0|                       0.0|            1422.0|          2.0|               9.0|           128.0|              5.0|\n",
            "|       34.0|        3.0|         403.0|        0.0|        40.0|                    0.0|        1691.0|          2091.0|                     691.0|                       5.0|            1045.0|          4.0|               1.0|          1050.0|            217.0|\n",
            "|       37.0|      120.0|           2.0|        0.0|        25.0|                    0.0|         163.0|          2347.0|                    1681.0|                       0.0|            1739.0|          6.0|               6.0|          1008.0|            128.0|\n",
            "|       41.0|        3.0|         279.0|        0.0|         2.0|                    0.0|        1617.0|          1362.0|                     967.0|                       0.0|              71.0|         14.0|              17.0|           208.0|            154.0|\n",
            "|       42.0|       19.0|          92.0|        0.0|        37.0|                    0.0|         689.0|           448.0|                    1068.0|                      80.0|             297.0|          9.0|              15.0|          1098.0|            183.0|\n",
            "+-----------+-----------+--------------+-----------+------------+-----------------------+--------------+----------------+--------------------------+--------------------------+------------------+-------------+------------------+----------------+-----------------+\n",
            "only showing top 20 rows\n",
            "\n"
          ]
        }
      ]
    },
    {
      "cell_type": "code",
      "source": [
        "column_names = df5.columns\n",
        "\n",
        "for column in column_names:\n",
        "    print(column)"
      ],
      "metadata": {
        "colab": {
          "base_uri": "https://localhost:8080/"
        },
        "id": "_XMVD5HQ2TDV",
        "outputId": "c6ea93ae-04fd-4c9a-9e9c-deb2dc06204d"
      },
      "execution_count": 53,
      "outputs": [
        {
          "output_type": "stream",
          "name": "stdout",
          "text": [
            "title\n",
            "genre\n",
            "director\n",
            "adult\n",
            "budget\n",
            "original_language\n",
            "overview\n",
            "popularity\n",
            "production_companies\n",
            "production_countries\n",
            "release_date\n",
            "runtime\n",
            "vote_average\n",
            "vote_count\n",
            "total_revenue\n",
            "reviews\n",
            "before_dash\n",
            "title_INDEX\n",
            "genre_INDEX\n",
            "director_INDEX\n",
            "adult_INDEX\n",
            "budget_INDEX\n",
            "original_language_INDEX\n",
            "overview_INDEX\n",
            "popularity_INDEX\n",
            "production_companies_INDEX\n",
            "production_countries_INDEX\n",
            "release_date_INDEX\n",
            "runtime_INDEX\n",
            "vote_average_INDEX\n",
            "vote_count_INDEX\n",
            "total_revenue_INDEX\n",
            "before_dash_INDEX\n"
          ]
        }
      ]
    },
    {
      "cell_type": "markdown",
      "source": [
        "**Linear Regression**"
      ],
      "metadata": {
        "id": "uhB5NV-eD0hF"
      }
    },
    {
      "cell_type": "code",
      "source": [
        "X = df5[[\"director\", \"original_language\",\"overview\", \"popularity\", \"production_companies\", \"production_countries\",\"release_date\", \"runtime\", \"vote_average\", \"vote_count\"]]\n",
        "Y = df5[['total_revenue']]"
      ],
      "metadata": {
        "id": "Rv8wkIMV1k7s"
      },
      "execution_count": 54,
      "outputs": []
    },
    {
      "cell_type": "code",
      "source": [
        "X.show()"
      ],
      "metadata": {
        "colab": {
          "base_uri": "https://localhost:8080/"
        },
        "id": "eBGChyChSN9I",
        "outputId": "289b2863-3b4b-47cf-c598-038160a57263"
      },
      "execution_count": 55,
      "outputs": [
        {
          "output_type": "stream",
          "name": "stdout",
          "text": [
            "+--------------------+-----------------+--------------------+----------+--------------------+--------------------+------------+-------+------------+----------+\n",
            "|            director|original_language|            overview|popularity|production_companies|production_countries|release_date|runtime|vote_average|vote_count|\n",
            "+--------------------+-----------------+--------------------+----------+--------------------+--------------------+------------+-------+------------+----------+\n",
            "|       Steve McQueen|               en|In the pre-Civil ...| 30.316249|[{'name': 'Plan B...|[{'iso_3166_1': '...|  2013-10-18|  134.0|         7.9|      3787|\n",
            "| Oliver Hirschbiegel|               de|The breath-taking...|  4.969851|[{'name': 'Lucky ...|[{'iso_3166_1': '...|  2015-04-09|  114.0|         7.0|        63|\n",
            "|     Mikael Håfström|               en|A man who special...|  9.196884|[{'name': 'The We...|[{'iso_3166_1': '...|  2007-07-12|  104.0|         6.5|      1372|\n",
            "|      John Singleton|               en|\"It's a major dou...|   2.32462|[{'name': 'Mikona...|[{'iso_3166_1': '...|  2003-06-05|  107.0|         6.2|      2087|\n",
            "|Michael Winterbottom|               en|In 1976, Tony Wil...| 12.655728|[{'name': 'United...|[{'iso_3166_1': '...|  2002-02-13|  117.0|         6.8|       109|\n",
            "|       Anne Fletcher|               en|Altruistic Jane f...| 10.342202|[{'name': 'Spygla...|[{'iso_3166_1': '...|  2008-01-10|  111.0|         6.1|      1013|\n",
            "|Juan Carlos Fresn...|               en|In this chilling ...| 12.884191|[{'name': 'DNA Fi...|[{'iso_3166_1': '...|  2007-04-26|  100.0|         6.5|      1225|\n",
            "|         Gaby Dellal|               en|A teenager transi...|  4.626438|[{'name': 'IM Glo...|[{'iso_3166_1': '...|  2016-02-11|   87.0|         6.1|        75|\n",
            "|     Ruben Fleischer|               en|Two fledgling cri...|  9.763493|[{'name': 'Columb...|[{'iso_3166_1': '...|  2011-08-11|   83.0|         5.6|       537|\n",
            "|     Michael Lehmann|               en|Matt Sullivan's l...|  8.628928|[{'name': 'Mirama...|[{'iso_3166_1': '...|  2002-03-01|   94.0|         5.2|       306|\n",
            "|     Brian Helgeland|               en|The powerful stor...| 11.637224|[{'name': 'Warner...|[{'iso_3166_1': '...|  2013-04-12|  128.0|         6.8|       795|\n",
            "|         Carl Rinsch|               en|Based on the orig...|  14.88937|[{'name': 'Mid At...|[{'iso_3166_1': '...|  2013-12-06|  119.0|         5.9|      1357|\n",
            "|         Peter Segal|               en|Henry is a player...| 11.134888|[{'name': 'Columb...|[{'iso_3166_1': '...|  2004-02-13|   99.0|         6.6|      2161|\n",
            "|           Jon Avnet|               en|\"\"\"88 Minutes\"\" f...|  8.552967|[{'name': 'TriSta...|[{'iso_3166_1': '...|  2007-02-14|  108.0|         5.7|       323|\n",
            "|          Ron Howard|               en|At Princeton Univ...|  11.93646|[{'name': 'Imagin...|[{'iso_3166_1': '...|  2001-12-11|  135.0|         7.7|      3087|\n",
            "|         Chris Weitz|               en|A gardener in Eas...|  3.033797|[{'name': 'Summit...|[{'iso_3166_1': '...|  2011-06-24|   98.0|         7.0|        54|\n",
            "|         Mark Rosman|               en|Sam Montgomery is...|  8.385361|[{'name': 'Gaylor...|[{'iso_3166_1': '...|  2004-07-10|   95.0|         6.1|       737|\n",
            "|     Lasse Hallström|               en|A dog goes on que...|  9.863789|[{'name': 'Univer...|[{'iso_3166_1': '...|  2017-01-19|  100.0|         6.6|       657|\n",
            "|          Chris Koch|               en|Paul Morse is a g...|  4.444724|[{'name': 'Metro-...|[{'iso_3166_1': '...|  2003-01-17|  101.0|         5.3|        85|\n",
            "|    David Cronenberg|               en|An average family...| 11.119707|[{'name': 'New Li...|[{'iso_3166_1': '...|  2005-09-23|   96.0|         6.9|       850|\n",
            "+--------------------+-----------------+--------------------+----------+--------------------+--------------------+------------+-------+------------+----------+\n",
            "only showing top 20 rows\n",
            "\n"
          ]
        }
      ]
    },
    {
      "cell_type": "code",
      "source": [
        "Y.show()"
      ],
      "metadata": {
        "colab": {
          "base_uri": "https://localhost:8080/"
        },
        "id": "MztalQrDSmo5",
        "outputId": "64d6c972-2d98-4b28-a32c-b9edd613d6e3"
      },
      "execution_count": 56,
      "outputs": [
        {
          "output_type": "stream",
          "name": "stdout",
          "text": [
            "+--------------------+\n",
            "|       total_revenue|\n",
            "+--------------------+\n",
            "|$56.71000000-1870...|\n",
            "|   $161.21000-147315|\n",
            "|$72.01000000-9467...|\n",
            "|$127.11000000-236...|\n",
            "|       $1.11000000-0|\n",
            "|$76.81000000-1602...|\n",
            "|$28.61000000-6423...|\n",
            "|    $66.41000-443962|\n",
            "|$37.11000000-4054...|\n",
            "|      $37.91000000-0|\n",
            "|$95.11000000-9502...|\n",
            "|$38.31000000-1509...|\n",
            "|$120.81000000-196...|\n",
            "|$16.91000000-1693...|\n",
            "|$170.71000000-313...|\n",
            "| $1.81000000-1759252|\n",
            "|$51.41000000-7006...|\n",
            "|$64.31000000-1946...|\n",
            "|$15.41000000-1743...|\n",
            "|$31.51000000-6074...|\n",
            "+--------------------+\n",
            "only showing top 20 rows\n",
            "\n"
          ]
        }
      ]
    },
    {
      "cell_type": "code",
      "source": [
        "X.columns"
      ],
      "metadata": {
        "colab": {
          "base_uri": "https://localhost:8080/"
        },
        "id": "ie9qa7IXTOCU",
        "outputId": "73b3701c-9d71-44e2-cb5e-e193d488951e"
      },
      "execution_count": 57,
      "outputs": [
        {
          "output_type": "execute_result",
          "data": {
            "text/plain": [
              "['director',\n",
              " 'original_language',\n",
              " 'overview',\n",
              " 'popularity',\n",
              " 'production_companies',\n",
              " 'production_countries',\n",
              " 'release_date',\n",
              " 'runtime',\n",
              " 'vote_average',\n",
              " 'vote_count']"
            ]
          },
          "metadata": {},
          "execution_count": 57
        }
      ]
    },
    {
      "cell_type": "code",
      "source": [
        "df5.show()"
      ],
      "metadata": {
        "colab": {
          "base_uri": "https://localhost:8080/"
        },
        "id": "DAdoKUCgTWRn",
        "outputId": "d6f2607e-9572-4d49-d355-fc90b82c287b"
      },
      "execution_count": 58,
      "outputs": [
        {
          "output_type": "stream",
          "name": "stdout",
          "text": [
            "+--------------------+--------------------+--------------------+-----+---------+-----------------+--------------------+----------+--------------------+--------------------+------------+-------+------------+----------+--------------------+--------------------+-----------+-----------+-----------+--------------+-----------+------------+-----------------------+--------------+----------------+--------------------------+--------------------------+------------------+-------------+------------------+----------------+-------------------+-----------------+\n",
            "|               title|               genre|            director|adult|   budget|original_language|            overview|popularity|production_companies|production_countries|release_date|runtime|vote_average|vote_count|       total_revenue|             reviews|before_dash|title_INDEX|genre_INDEX|director_INDEX|adult_INDEX|budget_INDEX|original_language_INDEX|overview_INDEX|popularity_INDEX|production_companies_INDEX|production_countries_INDEX|release_date_INDEX|runtime_INDEX|vote_average_INDEX|vote_count_INDEX|total_revenue_INDEX|before_dash_INDEX|\n",
            "+--------------------+--------------------+--------------------+-----+---------+-----------------+--------------------+----------+--------------------+--------------------+------------+-------+------------+----------+--------------------+--------------------+-----------+-----------+-----------+--------------+-----------+------------+-----------------------+--------------+----------------+--------------------------+--------------------------+------------------+-------------+------------------+----------------+-------------------+-----------------+\n",
            "|    12 Years a Slave|History, Drama, B...|       Steve McQueen|False| 20000000|               en|In the pre-Civil ...| 30.316249|[{'name': 'Plan B...|[{'iso_3166_1': '...|  2013-10-18|  134.0|         7.9|      3787|$56.71000000-1870...|[Piercing and hea...|     $56.7M|        0.0|       42.0|         466.0|        0.0|         2.0|                    0.0|        1321.0|          1298.0|                    1296.0|                      20.0|             397.0|         46.0|              33.0|           833.0|             1720.0|            394.0|\n",
            "|          13 Minutes|History, Drama, B...| Oliver Hirschbiegel|False|        0|               de|The breath-taking...|  4.969851|[{'name': 'Lucky ...|[{'iso_3166_1': '...|  2015-04-09|  114.0|         7.0|        63|   $161.21000-147315|[Elser is an ocea...|    $161.2K|        4.0|       42.0|         213.0|        0.0|         0.0|                    3.0|        1867.0|          1423.0|                     940.0|                      17.0|             415.0|         30.0|               9.0|            27.0|              531.0|            635.0|\n",
            "|                1408|Horror, Mystery &...|     Mikael Håfström|False| 25000000|               en|A man who special...|  9.196884|[{'name': 'The We...|[{'iso_3166_1': '...|  2007-07-12|  104.0|         6.5|      1372|$72.01000000-9467...|[Directed in a st...|     $72.0M|        5.0|        4.0|          64.0|        0.0|         5.0|                    0.0|         281.0|          2226.0|                    1534.0|                       0.0|            1223.0|         10.0|               2.0|           502.0|             1963.0|            429.0|\n",
            "|    2 Fast 2 Furious|              Action|      John Singleton|False| 76000000|               en|\"It's a major dou...|   2.32462|[{'name': 'Mikona...|[{'iso_3166_1': '...|  2003-06-05|  107.0|         6.2|      2087|$127.11000000-236...|[2 Fast 2 Furious...|    $127.1M|        6.0|        8.0|          58.0|        0.0|       102.0|                    0.0|          25.0|          1024.0|                     979.0|                       0.0|             972.0|         15.0|               7.0|           632.0|              338.0|            553.0|\n",
            "|24 Hour Party People|       Comedy, Drama|Michael Winterbottom|False|        0|               en|In 1976, Tony Wil...| 12.655728|[{'name': 'United...|[{'iso_3166_1': '...|  2002-02-13|  117.0|         6.8|       109|       $1.11000000-0|[\"Tony Wilson's a...|      $1.1M|       11.0|        2.0|         114.0|        0.0|         0.0|                    0.0|        1237.0|           633.0|                    1674.0|                       3.0|             887.0|         27.0|              11.0|            57.0|                0.0|              0.0|\n",
            "|          27 Dresses|     Romance, Comedy|       Anne Fletcher|False| 30000000|               en|Altruistic Jane f...| 10.342202|[{'name': 'Spygla...|[{'iso_3166_1': '...|  2008-01-10|  111.0|         6.1|      1013|$76.81000000-1602...|[Lacks the wicked...|     $76.8M|       13.0|        3.0|         144.0|        0.0|         1.0|                    0.0|         654.0|           328.0|                    1462.0|                       0.0|            1267.0|         25.0|               1.0|           399.0|             2011.0|           1236.0|\n",
            "|      28 Weeks Later|Horror, Mystery &...|Juan Carlos Fresn...|False| 15000000|               en|In this chilling ...| 12.884191|[{'name': 'DNA Fi...|[{'iso_3166_1': '...|  2007-04-26|  100.0|         6.5|      1225|$28.61000000-6423...|[The story moves ...|     $28.6M|       16.0|        4.0|         929.0|        0.0|         7.0|                    0.0|        1342.0|           653.0|                     445.0|                      53.0|            1214.0|          6.0|               2.0|           226.0|              994.0|            178.0|\n",
            "|       3 Generations|Comedy, Drama, Lg...|         Gaby Dellal|False|  5000000|               en|A teenager transi...|  4.626438|[{'name': 'IM Glo...|[{'iso_3166_1': '...|  2016-02-11|   87.0|         6.1|        75|    $66.41000-443962|[In the hands of ...|     $66.4K|       18.0|       35.0|         759.0|        0.0|        10.0|                    0.0|         428.0|          1381.0|                     745.0|                       0.0|            1687.0|         34.0|               1.0|            69.0|             1873.0|           1160.0|\n",
            "|  30 Minutes or Less|      Comedy, Action|     Ruben Fleischer|False| 28000000|               en|Two fledgling cri...|  9.763493|[{'name': 'Columb...|[{'iso_3166_1': '...|  2011-08-11|   83.0|         5.6|       537|$37.11000000-4054...|[The comedy reach...|     $37.1M|       21.0|       15.0|         128.0|        0.0|        16.0|                    0.0|        2109.0|          2327.0|                       3.0|                     267.0|            1430.0|         44.0|              13.0|           947.0|             1279.0|            343.0|\n",
            "|40 Days and 40 Ni...|     Romance, Comedy|     Michael Lehmann|False| 17000000|               en|Matt Sullivan's l...|  8.628928|[{'name': 'Mirama...|[{'iso_3166_1': '...|  2002-03-01|   94.0|         5.2|       306|      $37.91000000-0|[Fairly gimmicky ...|     $37.9M|       24.0|        3.0|         201.0|        0.0|        42.0|                    0.0|        1503.0|          2136.0|                    1022.0|                      81.0|             211.0|         12.0|              23.0|            83.0|             1297.0|             20.0|\n",
            "|                  42|Biography, Histor...|     Brian Helgeland|False| 40000000|               en|The powerful stor...| 11.637224|[{'name': 'Warner...|[{'iso_3166_1': '...|  2013-04-12|  128.0|         6.8|       795|$95.11000000-9502...|[While it&#8217;s...|     $95.1M|       25.0|       34.0|         151.0|        0.0|         3.0|                    0.0|        1931.0|           524.0|                      12.0|                       0.0|            1516.0|         49.0|              11.0|           204.0|             2189.0|           1332.0|\n",
            "|            47 Ronin|Adventure, Action...|         Carl Rinsch|False|175000000|               en|Based on the orig...|  14.88937|[{'name': 'Mid At...|[{'iso_3166_1': '...|  2013-12-06|  119.0|         5.9|      1357|$38.31000000-1509...|[Nothing short of...|     $38.3M|       26.0|       23.0|         593.0|        0.0|        67.0|                    0.0|         802.0|           822.0|                     977.0|                       0.0|            1554.0|         29.0|               8.0|           499.0|             1320.0|            196.0|\n",
            "|      50 First Dates|     Romance, Comedy|         Peter Segal|False| 75000000|               en|Henry is a player...| 11.134888|[{'name': 'Columb...|[{'iso_3166_1': '...|  2004-02-13|   99.0|         6.6|      2161|$120.81000000-196...|[Effective combin...|    $120.8M|       27.0|        3.0|          67.0|        0.0|        15.0|                    0.0|        1193.0|           452.0|                     331.0|                       0.0|            1015.0|         11.0|               6.0|           645.0|              316.0|            535.0|\n",
            "|          88 Minutes|Mystery & thrille...|           Jon Avnet|False| 30000000|               en|\"\"\"88 Minutes\"\" f...|  8.552967|[{'name': 'TriSta...|[{'iso_3166_1': '...|  2007-02-14|  108.0|         5.7|       323|$16.91000000-1693...|[A film so stuffe...|     $16.9M|       30.0|       11.0|         895.0|        0.0|         1.0|                    0.0|           0.0|          2122.0|                    1581.0|                       0.0|             100.0|         13.0|              12.0|           292.0|              523.0|             15.0|\n",
            "|    A Beautiful Mind|    Biography, Drama|          Ron Howard|False| 60000000|               en|At Princeton Univ...|  11.93646|[{'name': 'Imagin...|[{'iso_3166_1': '...|  2001-12-11|  135.0|         7.7|      3087|$170.71000000-313...|[Nash's character...|    $170.7M|       32.0|       27.0|           5.0|        0.0|         6.0|                    0.0|         770.0|           558.0|                     759.0|                       0.0|              56.0|         52.0|              27.0|           770.0|              584.0|            276.0|\n",
            "|       A Better Life|               Drama|         Chris Weitz|False| 10000000|               en|A gardener in Eas...|  3.033797|[{'name': 'Summit...|[{'iso_3166_1': '...|  2011-06-24|   98.0|         7.0|        54| $1.81000000-1759252|[It&#8217;s hard ...|      $1.8M|       33.0|        0.0|         281.0|        0.0|         9.0|                    0.0|         200.0|          1196.0|                    1510.0|                       0.0|            1422.0|          2.0|               9.0|           128.0|              130.0|              5.0|\n",
            "|  A Cinderella Story|     Romance, Comedy|         Mark Rosman|False| 19000000|               en|Sam Montgomery is...|  8.385361|[{'name': 'Gaylor...|[{'iso_3166_1': '...|  2004-07-10|   95.0|         6.1|       737|$51.41000000-7006...|[Jennifer Coolidg...|     $51.4M|       34.0|        3.0|         403.0|        0.0|        40.0|                    0.0|        1691.0|          2091.0|                     691.0|                       5.0|            1045.0|          4.0|               1.0|          1050.0|             1635.0|            217.0|\n",
            "|     A Dog's Purpose|Comedy, Drama, Fa...|     Lasse Hallström|False| 22000000|               en|A dog goes on que...|  9.863789|[{'name': 'Univer...|[{'iso_3166_1': '...|  2017-01-19|  100.0|         6.6|       657|$64.31000000-1946...|[The problem with...|     $64.3M|       37.0|      120.0|           2.0|        0.0|        25.0|                    0.0|         163.0|          2347.0|                    1681.0|                       0.0|            1739.0|          6.0|               6.0|          1008.0|             1852.0|            128.0|\n",
            "|         A Guy Thing|     Romance, Comedy|          Chris Koch|False| 20000000|               en|Paul Morse is a g...|  4.444724|[{'name': 'Metro-...|[{'iso_3166_1': '...|  2003-01-17|  101.0|         5.3|        85|$15.41000000-1743...|[...forgettable y...|     $15.4M|       41.0|        3.0|         279.0|        0.0|         2.0|                    0.0|        1617.0|          1362.0|                     967.0|                       0.0|              71.0|         14.0|              17.0|           208.0|              472.0|            154.0|\n",
            "|A History of Viol...|Drama, Mystery & ...|    David Cronenberg|False| 32000000|               en|An average family...| 11.119707|[{'name': 'New Li...|[{'iso_3166_1': '...|  2005-09-23|   96.0|         6.9|       850|$31.51000000-6074...|[The cast is exce...|     $31.5M|       42.0|       19.0|          92.0|        0.0|        37.0|                    0.0|         689.0|           448.0|                    1068.0|                      80.0|             297.0|          9.0|              15.0|          1098.0|             1122.0|            183.0|\n",
            "+--------------------+--------------------+--------------------+-----+---------+-----------------+--------------------+----------+--------------------+--------------------+------------+-------+------------+----------+--------------------+--------------------+-----------+-----------+-----------+--------------+-----------+------------+-----------------------+--------------+----------------+--------------------------+--------------------------+------------------+-------------+------------------+----------------+-------------------+-----------------+\n",
            "only showing top 20 rows\n",
            "\n"
          ]
        }
      ]
    },
    {
      "cell_type": "code",
      "source": [
        "from pyspark.ml.feature import VectorAssembler\n",
        "from pyspark.ml.tuning import ParamGridBuilder, TrainValidationSplit\n",
        "\n",
        "# Combine features into a single vector column\n",
        "assembler = VectorAssembler(inputCols=lis, outputCol=\"features\")\n",
        "assembled_data = assembler.transform(df5)\n"
      ],
      "metadata": {
        "id": "8s54KkQr5Q9q"
      },
      "execution_count": 59,
      "outputs": []
    },
    {
      "cell_type": "code",
      "source": [
        "assembled_data.show()"
      ],
      "metadata": {
        "colab": {
          "base_uri": "https://localhost:8080/"
        },
        "id": "NjCfF6hUcSmm",
        "outputId": "a8d23a48-1381-4245-cf13-411a90d961c6"
      },
      "execution_count": 61,
      "outputs": [
        {
          "output_type": "stream",
          "name": "stdout",
          "text": [
            "+--------------------+--------------------+--------------------+-----+---------+-----------------+--------------------+----------+--------------------+--------------------+------------+-------+------------+----------+--------------------+--------------------+-----------+-----------+-----------+--------------+-----------+------------+-----------------------+--------------+----------------+--------------------------+--------------------------+------------------+-------------+------------------+----------------+-------------------+-----------------+--------------------+\n",
            "|               title|               genre|            director|adult|   budget|original_language|            overview|popularity|production_companies|production_countries|release_date|runtime|vote_average|vote_count|       total_revenue|             reviews|before_dash|title_INDEX|genre_INDEX|director_INDEX|adult_INDEX|budget_INDEX|original_language_INDEX|overview_INDEX|popularity_INDEX|production_companies_INDEX|production_countries_INDEX|release_date_INDEX|runtime_INDEX|vote_average_INDEX|vote_count_INDEX|total_revenue_INDEX|before_dash_INDEX|            features|\n",
            "+--------------------+--------------------+--------------------+-----+---------+-----------------+--------------------+----------+--------------------+--------------------+------------+-------+------------+----------+--------------------+--------------------+-----------+-----------+-----------+--------------+-----------+------------+-----------------------+--------------+----------------+--------------------------+--------------------------+------------------+-------------+------------------+----------------+-------------------+-----------------+--------------------+\n",
            "|    12 Years a Slave|History, Drama, B...|       Steve McQueen|False| 20000000|               en|In the pre-Civil ...| 30.316249|[{'name': 'Plan B...|[{'iso_3166_1': '...|  2013-10-18|  134.0|         7.9|      3787|$56.71000000-1870...|[Piercing and hea...|     $56.7M|        0.0|       42.0|         466.0|        0.0|         2.0|                    0.0|        1321.0|          1298.0|                    1296.0|                      20.0|             397.0|         46.0|              33.0|           833.0|             1720.0|            394.0|[0.0,42.0,466.0,0...|\n",
            "|          13 Minutes|History, Drama, B...| Oliver Hirschbiegel|False|        0|               de|The breath-taking...|  4.969851|[{'name': 'Lucky ...|[{'iso_3166_1': '...|  2015-04-09|  114.0|         7.0|        63|   $161.21000-147315|[Elser is an ocea...|    $161.2K|        4.0|       42.0|         213.0|        0.0|         0.0|                    3.0|        1867.0|          1423.0|                     940.0|                      17.0|             415.0|         30.0|               9.0|            27.0|              531.0|            635.0|[4.0,42.0,213.0,0...|\n",
            "|                1408|Horror, Mystery &...|     Mikael Håfström|False| 25000000|               en|A man who special...|  9.196884|[{'name': 'The We...|[{'iso_3166_1': '...|  2007-07-12|  104.0|         6.5|      1372|$72.01000000-9467...|[Directed in a st...|     $72.0M|        5.0|        4.0|          64.0|        0.0|         5.0|                    0.0|         281.0|          2226.0|                    1534.0|                       0.0|            1223.0|         10.0|               2.0|           502.0|             1963.0|            429.0|[5.0,4.0,64.0,0.0...|\n",
            "|    2 Fast 2 Furious|              Action|      John Singleton|False| 76000000|               en|\"It's a major dou...|   2.32462|[{'name': 'Mikona...|[{'iso_3166_1': '...|  2003-06-05|  107.0|         6.2|      2087|$127.11000000-236...|[2 Fast 2 Furious...|    $127.1M|        6.0|        8.0|          58.0|        0.0|       102.0|                    0.0|          25.0|          1024.0|                     979.0|                       0.0|             972.0|         15.0|               7.0|           632.0|              338.0|            553.0|[6.0,8.0,58.0,0.0...|\n",
            "|24 Hour Party People|       Comedy, Drama|Michael Winterbottom|False|        0|               en|In 1976, Tony Wil...| 12.655728|[{'name': 'United...|[{'iso_3166_1': '...|  2002-02-13|  117.0|         6.8|       109|       $1.11000000-0|[\"Tony Wilson's a...|      $1.1M|       11.0|        2.0|         114.0|        0.0|         0.0|                    0.0|        1237.0|           633.0|                    1674.0|                       3.0|             887.0|         27.0|              11.0|            57.0|                0.0|              0.0|[11.0,2.0,114.0,0...|\n",
            "|          27 Dresses|     Romance, Comedy|       Anne Fletcher|False| 30000000|               en|Altruistic Jane f...| 10.342202|[{'name': 'Spygla...|[{'iso_3166_1': '...|  2008-01-10|  111.0|         6.1|      1013|$76.81000000-1602...|[Lacks the wicked...|     $76.8M|       13.0|        3.0|         144.0|        0.0|         1.0|                    0.0|         654.0|           328.0|                    1462.0|                       0.0|            1267.0|         25.0|               1.0|           399.0|             2011.0|           1236.0|[13.0,3.0,144.0,0...|\n",
            "|      28 Weeks Later|Horror, Mystery &...|Juan Carlos Fresn...|False| 15000000|               en|In this chilling ...| 12.884191|[{'name': 'DNA Fi...|[{'iso_3166_1': '...|  2007-04-26|  100.0|         6.5|      1225|$28.61000000-6423...|[The story moves ...|     $28.6M|       16.0|        4.0|         929.0|        0.0|         7.0|                    0.0|        1342.0|           653.0|                     445.0|                      53.0|            1214.0|          6.0|               2.0|           226.0|              994.0|            178.0|[16.0,4.0,929.0,0...|\n",
            "|       3 Generations|Comedy, Drama, Lg...|         Gaby Dellal|False|  5000000|               en|A teenager transi...|  4.626438|[{'name': 'IM Glo...|[{'iso_3166_1': '...|  2016-02-11|   87.0|         6.1|        75|    $66.41000-443962|[In the hands of ...|     $66.4K|       18.0|       35.0|         759.0|        0.0|        10.0|                    0.0|         428.0|          1381.0|                     745.0|                       0.0|            1687.0|         34.0|               1.0|            69.0|             1873.0|           1160.0|[18.0,35.0,759.0,...|\n",
            "|  30 Minutes or Less|      Comedy, Action|     Ruben Fleischer|False| 28000000|               en|Two fledgling cri...|  9.763493|[{'name': 'Columb...|[{'iso_3166_1': '...|  2011-08-11|   83.0|         5.6|       537|$37.11000000-4054...|[The comedy reach...|     $37.1M|       21.0|       15.0|         128.0|        0.0|        16.0|                    0.0|        2109.0|          2327.0|                       3.0|                     267.0|            1430.0|         44.0|              13.0|           947.0|             1279.0|            343.0|[21.0,15.0,128.0,...|\n",
            "|40 Days and 40 Ni...|     Romance, Comedy|     Michael Lehmann|False| 17000000|               en|Matt Sullivan's l...|  8.628928|[{'name': 'Mirama...|[{'iso_3166_1': '...|  2002-03-01|   94.0|         5.2|       306|      $37.91000000-0|[Fairly gimmicky ...|     $37.9M|       24.0|        3.0|         201.0|        0.0|        42.0|                    0.0|        1503.0|          2136.0|                    1022.0|                      81.0|             211.0|         12.0|              23.0|            83.0|             1297.0|             20.0|[24.0,3.0,201.0,0...|\n",
            "|                  42|Biography, Histor...|     Brian Helgeland|False| 40000000|               en|The powerful stor...| 11.637224|[{'name': 'Warner...|[{'iso_3166_1': '...|  2013-04-12|  128.0|         6.8|       795|$95.11000000-9502...|[While it&#8217;s...|     $95.1M|       25.0|       34.0|         151.0|        0.0|         3.0|                    0.0|        1931.0|           524.0|                      12.0|                       0.0|            1516.0|         49.0|              11.0|           204.0|             2189.0|           1332.0|[25.0,34.0,151.0,...|\n",
            "|            47 Ronin|Adventure, Action...|         Carl Rinsch|False|175000000|               en|Based on the orig...|  14.88937|[{'name': 'Mid At...|[{'iso_3166_1': '...|  2013-12-06|  119.0|         5.9|      1357|$38.31000000-1509...|[Nothing short of...|     $38.3M|       26.0|       23.0|         593.0|        0.0|        67.0|                    0.0|         802.0|           822.0|                     977.0|                       0.0|            1554.0|         29.0|               8.0|           499.0|             1320.0|            196.0|[26.0,23.0,593.0,...|\n",
            "|      50 First Dates|     Romance, Comedy|         Peter Segal|False| 75000000|               en|Henry is a player...| 11.134888|[{'name': 'Columb...|[{'iso_3166_1': '...|  2004-02-13|   99.0|         6.6|      2161|$120.81000000-196...|[Effective combin...|    $120.8M|       27.0|        3.0|          67.0|        0.0|        15.0|                    0.0|        1193.0|           452.0|                     331.0|                       0.0|            1015.0|         11.0|               6.0|           645.0|              316.0|            535.0|[27.0,3.0,67.0,0....|\n",
            "|          88 Minutes|Mystery & thrille...|           Jon Avnet|False| 30000000|               en|\"\"\"88 Minutes\"\" f...|  8.552967|[{'name': 'TriSta...|[{'iso_3166_1': '...|  2007-02-14|  108.0|         5.7|       323|$16.91000000-1693...|[A film so stuffe...|     $16.9M|       30.0|       11.0|         895.0|        0.0|         1.0|                    0.0|           0.0|          2122.0|                    1581.0|                       0.0|             100.0|         13.0|              12.0|           292.0|              523.0|             15.0|[30.0,11.0,895.0,...|\n",
            "|    A Beautiful Mind|    Biography, Drama|          Ron Howard|False| 60000000|               en|At Princeton Univ...|  11.93646|[{'name': 'Imagin...|[{'iso_3166_1': '...|  2001-12-11|  135.0|         7.7|      3087|$170.71000000-313...|[Nash's character...|    $170.7M|       32.0|       27.0|           5.0|        0.0|         6.0|                    0.0|         770.0|           558.0|                     759.0|                       0.0|              56.0|         52.0|              27.0|           770.0|              584.0|            276.0|[32.0,27.0,5.0,0....|\n",
            "|       A Better Life|               Drama|         Chris Weitz|False| 10000000|               en|A gardener in Eas...|  3.033797|[{'name': 'Summit...|[{'iso_3166_1': '...|  2011-06-24|   98.0|         7.0|        54| $1.81000000-1759252|[It&#8217;s hard ...|      $1.8M|       33.0|        0.0|         281.0|        0.0|         9.0|                    0.0|         200.0|          1196.0|                    1510.0|                       0.0|            1422.0|          2.0|               9.0|           128.0|              130.0|              5.0|[33.0,0.0,281.0,0...|\n",
            "|  A Cinderella Story|     Romance, Comedy|         Mark Rosman|False| 19000000|               en|Sam Montgomery is...|  8.385361|[{'name': 'Gaylor...|[{'iso_3166_1': '...|  2004-07-10|   95.0|         6.1|       737|$51.41000000-7006...|[Jennifer Coolidg...|     $51.4M|       34.0|        3.0|         403.0|        0.0|        40.0|                    0.0|        1691.0|          2091.0|                     691.0|                       5.0|            1045.0|          4.0|               1.0|          1050.0|             1635.0|            217.0|[34.0,3.0,403.0,0...|\n",
            "|     A Dog's Purpose|Comedy, Drama, Fa...|     Lasse Hallström|False| 22000000|               en|A dog goes on que...|  9.863789|[{'name': 'Univer...|[{'iso_3166_1': '...|  2017-01-19|  100.0|         6.6|       657|$64.31000000-1946...|[The problem with...|     $64.3M|       37.0|      120.0|           2.0|        0.0|        25.0|                    0.0|         163.0|          2347.0|                    1681.0|                       0.0|            1739.0|          6.0|               6.0|          1008.0|             1852.0|            128.0|[37.0,120.0,2.0,0...|\n",
            "|         A Guy Thing|     Romance, Comedy|          Chris Koch|False| 20000000|               en|Paul Morse is a g...|  4.444724|[{'name': 'Metro-...|[{'iso_3166_1': '...|  2003-01-17|  101.0|         5.3|        85|$15.41000000-1743...|[...forgettable y...|     $15.4M|       41.0|        3.0|         279.0|        0.0|         2.0|                    0.0|        1617.0|          1362.0|                     967.0|                       0.0|              71.0|         14.0|              17.0|           208.0|              472.0|            154.0|[41.0,3.0,279.0,0...|\n",
            "|A History of Viol...|Drama, Mystery & ...|    David Cronenberg|False| 32000000|               en|An average family...| 11.119707|[{'name': 'New Li...|[{'iso_3166_1': '...|  2005-09-23|   96.0|         6.9|       850|$31.51000000-6074...|[The cast is exce...|     $31.5M|       42.0|       19.0|          92.0|        0.0|        37.0|                    0.0|         689.0|           448.0|                    1068.0|                      80.0|             297.0|          9.0|              15.0|          1098.0|             1122.0|            183.0|[42.0,19.0,92.0,0...|\n",
            "+--------------------+--------------------+--------------------+-----+---------+-----------------+--------------------+----------+--------------------+--------------------+------------+-------+------------+----------+--------------------+--------------------+-----------+-----------+-----------+--------------+-----------+------------+-----------------------+--------------+----------------+--------------------------+--------------------------+------------------+-------------+------------------+----------------+-------------------+-----------------+--------------------+\n",
            "only showing top 20 rows\n",
            "\n"
          ]
        }
      ]
    },
    {
      "cell_type": "code",
      "source": [
        "assembled_data=assembled_data[['features','total_revenue_INDEX']]"
      ],
      "metadata": {
        "id": "t-xl7ANkcbtS"
      },
      "execution_count": 62,
      "outputs": []
    },
    {
      "cell_type": "code",
      "source": [
        "assembled_data.show()"
      ],
      "metadata": {
        "colab": {
          "base_uri": "https://localhost:8080/"
        },
        "id": "1lI_NxX0cpd4",
        "outputId": "a037243f-95bb-4f15-c567-7e4ccda67da8"
      },
      "execution_count": 63,
      "outputs": [
        {
          "output_type": "stream",
          "name": "stdout",
          "text": [
            "+--------------------+-------------------+\n",
            "|            features|total_revenue_INDEX|\n",
            "+--------------------+-------------------+\n",
            "|[0.0,42.0,466.0,0...|             1720.0|\n",
            "|[4.0,42.0,213.0,0...|              531.0|\n",
            "|[5.0,4.0,64.0,0.0...|             1963.0|\n",
            "|[6.0,8.0,58.0,0.0...|              338.0|\n",
            "|[11.0,2.0,114.0,0...|                0.0|\n",
            "|[13.0,3.0,144.0,0...|             2011.0|\n",
            "|[16.0,4.0,929.0,0...|              994.0|\n",
            "|[18.0,35.0,759.0,...|             1873.0|\n",
            "|[21.0,15.0,128.0,...|             1279.0|\n",
            "|[24.0,3.0,201.0,0...|             1297.0|\n",
            "|[25.0,34.0,151.0,...|             2189.0|\n",
            "|[26.0,23.0,593.0,...|             1320.0|\n",
            "|[27.0,3.0,67.0,0....|              316.0|\n",
            "|[30.0,11.0,895.0,...|              523.0|\n",
            "|[32.0,27.0,5.0,0....|              584.0|\n",
            "|[33.0,0.0,281.0,0...|              130.0|\n",
            "|[34.0,3.0,403.0,0...|             1635.0|\n",
            "|[37.0,120.0,2.0,0...|             1852.0|\n",
            "|[41.0,3.0,279.0,0...|              472.0|\n",
            "|[42.0,19.0,92.0,0...|             1122.0|\n",
            "+--------------------+-------------------+\n",
            "only showing top 20 rows\n",
            "\n"
          ]
        }
      ]
    },
    {
      "cell_type": "code",
      "source": [
        "split_ratio = 0.7\n",
        "seed = 0\n",
        "train_data, test_data = assembled_data.randomSplit([split_ratio, 1 - split_ratio], seed)"
      ],
      "metadata": {
        "id": "spHbx1qKZ1i3"
      },
      "execution_count": 64,
      "outputs": []
    },
    {
      "cell_type": "code",
      "source": [
        "train_data.show()"
      ],
      "metadata": {
        "colab": {
          "base_uri": "https://localhost:8080/"
        },
        "id": "pHcynBUYYGue",
        "outputId": "509d05fa-8712-40d1-c666-b4c17a76c4d3"
      },
      "execution_count": 65,
      "outputs": [
        {
          "output_type": "stream",
          "name": "stdout",
          "text": [
            "+--------------------+-------------------+\n",
            "|            features|total_revenue_INDEX|\n",
            "+--------------------+-------------------+\n",
            "|[0.0,42.0,466.0,0...|             1720.0|\n",
            "|[4.0,42.0,213.0,0...|              531.0|\n",
            "|[5.0,4.0,64.0,0.0...|             1963.0|\n",
            "|[11.0,2.0,114.0,0...|                0.0|\n",
            "|[13.0,3.0,144.0,0...|             2011.0|\n",
            "|[16.0,4.0,929.0,0...|              994.0|\n",
            "|[21.0,15.0,128.0,...|             1279.0|\n",
            "|[24.0,3.0,201.0,0...|             1297.0|\n",
            "|[25.0,34.0,151.0,...|             2189.0|\n",
            "|[26.0,23.0,593.0,...|             1320.0|\n",
            "|[27.0,3.0,67.0,0....|              316.0|\n",
            "|[30.0,11.0,895.0,...|              523.0|\n",
            "|[32.0,27.0,5.0,0....|              584.0|\n",
            "|[33.0,0.0,281.0,0...|              130.0|\n",
            "|[34.0,3.0,403.0,0...|             1635.0|\n",
            "|[37.0,120.0,2.0,0...|             1852.0|\n",
            "|[41.0,3.0,279.0,0...|              472.0|\n",
            "|[47.0,0.0,1212.0,...|              498.0|\n",
            "|[48.0,26.0,195.0,...|             1012.0|\n",
            "|[50.0,238.0,453.0...|             1444.0|\n",
            "+--------------------+-------------------+\n",
            "only showing top 20 rows\n",
            "\n"
          ]
        }
      ]
    },
    {
      "cell_type": "code",
      "source": [
        "lr = LinearRegression(featuresCol=\"features\", labelCol=\"total_revenue_INDEX\")\n",
        "lr_model = lr.fit(train_data)\n",
        "predictions = lr_model.transform(test_data)"
      ],
      "metadata": {
        "id": "FK3wD0QRc8VC"
      },
      "execution_count": 66,
      "outputs": []
    },
    {
      "cell_type": "code",
      "source": [
        "predictions.show()"
      ],
      "metadata": {
        "colab": {
          "base_uri": "https://localhost:8080/"
        },
        "id": "HMWoXtLpdOuU",
        "outputId": "00f17d57-d9c1-417e-e76f-bd0cd7848179"
      },
      "execution_count": 67,
      "outputs": [
        {
          "output_type": "stream",
          "name": "stdout",
          "text": [
            "+--------------------+-------------------+------------------+\n",
            "|            features|total_revenue_INDEX|        prediction|\n",
            "+--------------------+-------------------+------------------+\n",
            "|(15,[0,2,6,7,10,1...|             2110.0|1654.7081020648507|\n",
            "|[6.0,8.0,58.0,0.0...|              338.0|1212.7618590894078|\n",
            "|[18.0,35.0,759.0,...|             1873.0|1591.1282155115027|\n",
            "|[42.0,19.0,92.0,0...|             1122.0|  987.076565191641|\n",
            "|[44.0,11.0,536.0,...|              683.0|1266.8309736792548|\n",
            "|[61.0,1.0,13.0,0....|              615.0|1043.6415083267475|\n",
            "|[63.0,40.0,384.0,...|             1014.0|1068.6199613841998|\n",
            "|[64.0,25.0,22.0,0...|             1421.0| 985.3668752865528|\n",
            "|[74.0,183.0,1262....|             1287.0| 972.6628087702672|\n",
            "|[83.0,66.0,754.0,...|              242.0| 804.6760656860031|\n",
            "|[85.0,6.0,69.0,0....|              917.0| 771.6308543099167|\n",
            "|[90.0,106.0,0.0,0...|             1984.0| 1235.190069229613|\n",
            "|[93.0,88.0,560.0,...|             1484.0|  927.252053361918|\n",
            "|[103.0,296.0,246....|             1577.0| 774.6882294079894|\n",
            "|[104.0,3.0,882.0,...|             2120.0|1734.8934405897414|\n",
            "|[113.0,93.0,0.0,0...|              379.0| 789.3515048064514|\n",
            "|[124.0,0.0,1318.0...|             2112.0|1804.6752701793419|\n",
            "|[126.0,0.0,2.0,0....|             2045.0|1128.1389497375492|\n",
            "|[128.0,1.0,101.0,...|             1145.0|1000.8116066640943|\n",
            "|[146.0,86.0,200.0...|             1624.0| 976.3956421652703|\n",
            "+--------------------+-------------------+------------------+\n",
            "only showing top 20 rows\n",
            "\n"
          ]
        }
      ]
    },
    {
      "cell_type": "code",
      "source": [
        "\n",
        "evaluator = RegressionEvaluator(labelCol=\"total_revenue_INDEX\", predictionCol=\"prediction\")\n",
        "rmse = evaluator.evaluate(predictions, {evaluator.metricName: \"rmse\"})\n",
        "r2 = evaluator.evaluate(predictions, {evaluator.metricName: \"r2\"})\n",
        "\n",
        "print(\"Root Mean Squared Error (RMSE):\", rmse)\n",
        "print(\"R-squared (R2):\", r2)\n"
      ],
      "metadata": {
        "colab": {
          "base_uri": "https://localhost:8080/"
        },
        "id": "13INvlgGdHet",
        "outputId": "ef8b2d5b-88fa-4535-df40-6fc421e931a5"
      },
      "execution_count": 68,
      "outputs": [
        {
          "output_type": "stream",
          "name": "stdout",
          "text": [
            "Root Mean Squared Error (RMSE): 560.31055991896\n",
            "R-squared (R2): 0.31761584163018575\n"
          ]
        }
      ]
    },
    {
      "cell_type": "markdown",
      "source": [
        "**Sentiment analysis**"
      ],
      "metadata": {
        "id": "_b6F4RytHowc"
      }
    },
    {
      "cell_type": "code",
      "source": [
        "df5.show(5)"
      ],
      "metadata": {
        "id": "SjD36EUQHm74",
        "colab": {
          "base_uri": "https://localhost:8080/"
        },
        "outputId": "6128f3ae-009c-44ae-82a9-a7926f5270a5"
      },
      "execution_count": 70,
      "outputs": [
        {
          "output_type": "stream",
          "name": "stdout",
          "text": [
            "+--------------------+--------------------+--------------------+-----+--------+-----------------+--------------------+----------+--------------------+--------------------+------------+-------+------------+----------+--------------------+--------------------+-----------+-----------+-----------+--------------+-----------+------------+-----------------------+--------------+----------------+--------------------------+--------------------------+------------------+-------------+------------------+----------------+-------------------+-----------------+\n",
            "|               title|               genre|            director|adult|  budget|original_language|            overview|popularity|production_companies|production_countries|release_date|runtime|vote_average|vote_count|       total_revenue|             reviews|before_dash|title_INDEX|genre_INDEX|director_INDEX|adult_INDEX|budget_INDEX|original_language_INDEX|overview_INDEX|popularity_INDEX|production_companies_INDEX|production_countries_INDEX|release_date_INDEX|runtime_INDEX|vote_average_INDEX|vote_count_INDEX|total_revenue_INDEX|before_dash_INDEX|\n",
            "+--------------------+--------------------+--------------------+-----+--------+-----------------+--------------------+----------+--------------------+--------------------+------------+-------+------------+----------+--------------------+--------------------+-----------+-----------+-----------+--------------+-----------+------------+-----------------------+--------------+----------------+--------------------------+--------------------------+------------------+-------------+------------------+----------------+-------------------+-----------------+\n",
            "|    12 Years a Slave|History, Drama, B...|       Steve McQueen|False|20000000|               en|In the pre-Civil ...| 30.316249|[{'name': 'Plan B...|[{'iso_3166_1': '...|  2013-10-18|  134.0|         7.9|      3787|$56.71000000-1870...|[Piercing and hea...|     $56.7M|        0.0|       42.0|         466.0|        0.0|         2.0|                    0.0|        1321.0|          1298.0|                    1296.0|                      20.0|             397.0|         46.0|              33.0|           833.0|             1720.0|            394.0|\n",
            "|          13 Minutes|History, Drama, B...| Oliver Hirschbiegel|False|       0|               de|The breath-taking...|  4.969851|[{'name': 'Lucky ...|[{'iso_3166_1': '...|  2015-04-09|  114.0|         7.0|        63|   $161.21000-147315|[Elser is an ocea...|    $161.2K|        4.0|       42.0|         213.0|        0.0|         0.0|                    3.0|        1867.0|          1423.0|                     940.0|                      17.0|             415.0|         30.0|               9.0|            27.0|              531.0|            635.0|\n",
            "|                1408|Horror, Mystery &...|     Mikael Håfström|False|25000000|               en|A man who special...|  9.196884|[{'name': 'The We...|[{'iso_3166_1': '...|  2007-07-12|  104.0|         6.5|      1372|$72.01000000-9467...|[Directed in a st...|     $72.0M|        5.0|        4.0|          64.0|        0.0|         5.0|                    0.0|         281.0|          2226.0|                    1534.0|                       0.0|            1223.0|         10.0|               2.0|           502.0|             1963.0|            429.0|\n",
            "|    2 Fast 2 Furious|              Action|      John Singleton|False|76000000|               en|\"It's a major dou...|   2.32462|[{'name': 'Mikona...|[{'iso_3166_1': '...|  2003-06-05|  107.0|         6.2|      2087|$127.11000000-236...|[2 Fast 2 Furious...|    $127.1M|        6.0|        8.0|          58.0|        0.0|       102.0|                    0.0|          25.0|          1024.0|                     979.0|                       0.0|             972.0|         15.0|               7.0|           632.0|              338.0|            553.0|\n",
            "|24 Hour Party People|       Comedy, Drama|Michael Winterbottom|False|       0|               en|In 1976, Tony Wil...| 12.655728|[{'name': 'United...|[{'iso_3166_1': '...|  2002-02-13|  117.0|         6.8|       109|       $1.11000000-0|[\"Tony Wilson's a...|      $1.1M|       11.0|        2.0|         114.0|        0.0|         0.0|                    0.0|        1237.0|           633.0|                    1674.0|                       3.0|             887.0|         27.0|              11.0|            57.0|                0.0|              0.0|\n",
            "+--------------------+--------------------+--------------------+-----+--------+-----------------+--------------------+----------+--------------------+--------------------+------------+-------+------------+----------+--------------------+--------------------+-----------+-----------+-----------+--------------+-----------+------------+-----------------------+--------------+----------------+--------------------------+--------------------------+------------------+-------------+------------------+----------------+-------------------+-----------------+\n",
            "only showing top 5 rows\n",
            "\n"
          ]
        }
      ]
    },
    {
      "cell_type": "code",
      "source": [
        "#Pinting the reviews columns \n",
        "df5.select(\"reviews\").show()"
      ],
      "metadata": {
        "colab": {
          "base_uri": "https://localhost:8080/"
        },
        "id": "FAD9yo09GM9p",
        "outputId": "c28d36b5-b271-4308-8ce6-fd323d574b0b"
      },
      "execution_count": 71,
      "outputs": [
        {
          "output_type": "stream",
          "name": "stdout",
          "text": [
            "+--------------------+\n",
            "|             reviews|\n",
            "+--------------------+\n",
            "|[Piercing and hea...|\n",
            "|[Elser is an ocea...|\n",
            "|[Directed in a st...|\n",
            "|[2 Fast 2 Furious...|\n",
            "|[\"Tony Wilson's a...|\n",
            "|[Lacks the wicked...|\n",
            "|[The story moves ...|\n",
            "|[In the hands of ...|\n",
            "|[The comedy reach...|\n",
            "|[Fairly gimmicky ...|\n",
            "|[While it&#8217;s...|\n",
            "|[Nothing short of...|\n",
            "|[Effective combin...|\n",
            "|[A film so stuffe...|\n",
            "|[Nash's character...|\n",
            "|[It&#8217;s hard ...|\n",
            "|[Jennifer Coolidg...|\n",
            "|[The problem with...|\n",
            "|[...forgettable y...|\n",
            "|[The cast is exce...|\n",
            "+--------------------+\n",
            "only showing top 20 rows\n",
            "\n"
          ]
        }
      ]
    },
    {
      "cell_type": "code",
      "source": [
        "# Checking duplicates\n",
        "duplicate_rows = df5.groupBy(df5.reviews).count().filter(col('count') > 1)\n",
        "duplicate_rows.show()"
      ],
      "metadata": {
        "colab": {
          "base_uri": "https://localhost:8080/"
        },
        "id": "QsfmprffGPju",
        "outputId": "c9d7d2a5-271b-4e4e-a81e-02b885fb0b9f"
      },
      "execution_count": 72,
      "outputs": [
        {
          "output_type": "stream",
          "name": "stdout",
          "text": [
            "+-------+-----+\n",
            "|reviews|count|\n",
            "+-------+-----+\n",
            "+-------+-----+\n",
            "\n"
          ]
        }
      ]
    },
    {
      "cell_type": "code",
      "source": [
        "pip install sparknlp"
      ],
      "metadata": {
        "colab": {
          "base_uri": "https://localhost:8080/"
        },
        "id": "eN3DA2BFGRwD",
        "outputId": "56fe0fac-e4f5-453d-fb85-e2ee55d40328"
      },
      "execution_count": 73,
      "outputs": [
        {
          "output_type": "stream",
          "name": "stdout",
          "text": [
            "Looking in indexes: https://pypi.org/simple, https://us-python.pkg.dev/colab-wheels/public/simple/\n",
            "Collecting sparknlp\n",
            "  Downloading sparknlp-1.0.0-py3-none-any.whl (1.4 kB)\n",
            "Collecting spark-nlp (from sparknlp)\n",
            "  Downloading spark_nlp-4.4.2-py2.py3-none-any.whl (489 kB)\n",
            "\u001b[2K     \u001b[90m━━━━━━━━━━━━━━━━━━━━━━━━━━━━━━━━━━━━━━\u001b[0m \u001b[32m489.4/489.4 kB\u001b[0m \u001b[31m19.2 MB/s\u001b[0m eta \u001b[36m0:00:00\u001b[0m\n",
            "\u001b[?25hRequirement already satisfied: numpy in /usr/local/lib/python3.10/dist-packages (from sparknlp) (1.22.4)\n",
            "Installing collected packages: spark-nlp, sparknlp\n",
            "Successfully installed spark-nlp-4.4.2 sparknlp-1.0.0\n"
          ]
        }
      ]
    },
    {
      "cell_type": "code",
      "source": [
        "pip install vaderSentiment"
      ],
      "metadata": {
        "colab": {
          "base_uri": "https://localhost:8080/"
        },
        "id": "2gENQ0YCGVb7",
        "outputId": "7c2717d2-f904-4207-8165-85879825ab2f"
      },
      "execution_count": 74,
      "outputs": [
        {
          "output_type": "stream",
          "name": "stdout",
          "text": [
            "Looking in indexes: https://pypi.org/simple, https://us-python.pkg.dev/colab-wheels/public/simple/\n",
            "Collecting vaderSentiment\n",
            "  Downloading vaderSentiment-3.3.2-py2.py3-none-any.whl (125 kB)\n",
            "\u001b[2K     \u001b[90m━━━━━━━━━━━━━━━━━━━━━━━━━━━━━━━━━━━━━━━\u001b[0m \u001b[32m126.0/126.0 kB\u001b[0m \u001b[31m7.4 MB/s\u001b[0m eta \u001b[36m0:00:00\u001b[0m\n",
            "\u001b[?25hRequirement already satisfied: requests in /usr/local/lib/python3.10/dist-packages (from vaderSentiment) (2.27.1)\n",
            "Requirement already satisfied: urllib3<1.27,>=1.21.1 in /usr/local/lib/python3.10/dist-packages (from requests->vaderSentiment) (1.26.15)\n",
            "Requirement already satisfied: certifi>=2017.4.17 in /usr/local/lib/python3.10/dist-packages (from requests->vaderSentiment) (2022.12.7)\n",
            "Requirement already satisfied: charset-normalizer~=2.0.0 in /usr/local/lib/python3.10/dist-packages (from requests->vaderSentiment) (2.0.12)\n",
            "Requirement already satisfied: idna<4,>=2.5 in /usr/local/lib/python3.10/dist-packages (from requests->vaderSentiment) (3.4)\n",
            "Installing collected packages: vaderSentiment\n",
            "Successfully installed vaderSentiment-3.3.2\n"
          ]
        }
      ]
    },
    {
      "cell_type": "code",
      "source": [
        "import nltk\n",
        "nltk.download('vader_lexicon')\n"
      ],
      "metadata": {
        "colab": {
          "base_uri": "https://localhost:8080/"
        },
        "id": "ITbomWXJGXkI",
        "outputId": "c35ca343-eb51-4a99-cfe9-29dadbd35f40"
      },
      "execution_count": 75,
      "outputs": [
        {
          "output_type": "stream",
          "name": "stderr",
          "text": [
            "[nltk_data] Downloading package vader_lexicon to /root/nltk_data...\n"
          ]
        },
        {
          "output_type": "execute_result",
          "data": {
            "text/plain": [
              "True"
            ]
          },
          "metadata": {},
          "execution_count": 75
        }
      ]
    },
    {
      "cell_type": "code",
      "source": [
        "analyzer = SentimentIntensityAnalyzer()\n",
        "\n",
        "# Define the sentiment analysis function\n",
        "def analyze_sentiment(text):\n",
        "    sentiment_scores = analyzer.polarity_scores(text)\n",
        "    compound_score = sentiment_scores['compound']\n",
        "    if compound_score >= 0.05:\n",
        "        sentiment = 'Positive'\n",
        "    elif compound_score <= -0.05:\n",
        "        sentiment = 'Negative'\n",
        "    else:\n",
        "        sentiment = 'Neutral'\n",
        "    return sentiment\n",
        "\n",
        "# Register the sentiment analysis UDF\n",
        "analyze_sentiment_udf = udf(analyze_sentiment, StringType())\n",
        "\n",
        "# Apply the UDF to the \"review\" column in df5\n",
        "df5 = df5.withColumn(\"sentiment\", analyze_sentiment_udf(df5[\"reviews\"]))\n"
      ],
      "metadata": {
        "id": "h5gGcnvBGaQt"
      },
      "execution_count": 77,
      "outputs": []
    },
    {
      "cell_type": "code",
      "source": [
        "df5.show(10)"
      ],
      "metadata": {
        "id": "9htm4X1HGdra",
        "colab": {
          "base_uri": "https://localhost:8080/"
        },
        "outputId": "7a9729a7-18f1-4b2d-c760-10debc77faa4"
      },
      "execution_count": 78,
      "outputs": [
        {
          "output_type": "stream",
          "name": "stdout",
          "text": [
            "+--------------------+--------------------+--------------------+-----+--------+-----------------+--------------------+----------+--------------------+--------------------+------------+-------+------------+----------+--------------------+--------------------+-----------+-----------+-----------+--------------+-----------+------------+-----------------------+--------------+----------------+--------------------------+--------------------------+------------------+-------------+------------------+----------------+-------------------+-----------------+---------+\n",
            "|               title|               genre|            director|adult|  budget|original_language|            overview|popularity|production_companies|production_countries|release_date|runtime|vote_average|vote_count|       total_revenue|             reviews|before_dash|title_INDEX|genre_INDEX|director_INDEX|adult_INDEX|budget_INDEX|original_language_INDEX|overview_INDEX|popularity_INDEX|production_companies_INDEX|production_countries_INDEX|release_date_INDEX|runtime_INDEX|vote_average_INDEX|vote_count_INDEX|total_revenue_INDEX|before_dash_INDEX|sentiment|\n",
            "+--------------------+--------------------+--------------------+-----+--------+-----------------+--------------------+----------+--------------------+--------------------+------------+-------+------------+----------+--------------------+--------------------+-----------+-----------+-----------+--------------+-----------+------------+-----------------------+--------------+----------------+--------------------------+--------------------------+------------------+-------------+------------------+----------------+-------------------+-----------------+---------+\n",
            "|    12 Years a Slave|History, Drama, B...|       Steve McQueen|False|20000000|               en|In the pre-Civil ...| 30.316249|[{'name': 'Plan B...|[{'iso_3166_1': '...|  2013-10-18|  134.0|         7.9|      3787|$56.71000000-1870...|[Piercing and hea...|     $56.7M|        0.0|       42.0|         466.0|        0.0|         2.0|                    0.0|        1321.0|          1298.0|                    1296.0|                      20.0|             397.0|         46.0|              33.0|           833.0|             1720.0|            394.0| Negative|\n",
            "|          13 Minutes|History, Drama, B...| Oliver Hirschbiegel|False|       0|               de|The breath-taking...|  4.969851|[{'name': 'Lucky ...|[{'iso_3166_1': '...|  2015-04-09|  114.0|         7.0|        63|   $161.21000-147315|[Elser is an ocea...|    $161.2K|        4.0|       42.0|         213.0|        0.0|         0.0|                    3.0|        1867.0|          1423.0|                     940.0|                      17.0|             415.0|         30.0|               9.0|            27.0|              531.0|            635.0| Positive|\n",
            "|                1408|Horror, Mystery &...|     Mikael Håfström|False|25000000|               en|A man who special...|  9.196884|[{'name': 'The We...|[{'iso_3166_1': '...|  2007-07-12|  104.0|         6.5|      1372|$72.01000000-9467...|[Directed in a st...|     $72.0M|        5.0|        4.0|          64.0|        0.0|         5.0|                    0.0|         281.0|          2226.0|                    1534.0|                       0.0|            1223.0|         10.0|               2.0|           502.0|             1963.0|            429.0| Positive|\n",
            "|    2 Fast 2 Furious|              Action|      John Singleton|False|76000000|               en|\"It's a major dou...|   2.32462|[{'name': 'Mikona...|[{'iso_3166_1': '...|  2003-06-05|  107.0|         6.2|      2087|$127.11000000-236...|[2 Fast 2 Furious...|    $127.1M|        6.0|        8.0|          58.0|        0.0|       102.0|                    0.0|          25.0|          1024.0|                     979.0|                       0.0|             972.0|         15.0|               7.0|           632.0|              338.0|            553.0| Positive|\n",
            "|24 Hour Party People|       Comedy, Drama|Michael Winterbottom|False|       0|               en|In 1976, Tony Wil...| 12.655728|[{'name': 'United...|[{'iso_3166_1': '...|  2002-02-13|  117.0|         6.8|       109|       $1.11000000-0|[\"Tony Wilson's a...|      $1.1M|       11.0|        2.0|         114.0|        0.0|         0.0|                    0.0|        1237.0|           633.0|                    1674.0|                       3.0|             887.0|         27.0|              11.0|            57.0|                0.0|              0.0| Positive|\n",
            "|          27 Dresses|     Romance, Comedy|       Anne Fletcher|False|30000000|               en|Altruistic Jane f...| 10.342202|[{'name': 'Spygla...|[{'iso_3166_1': '...|  2008-01-10|  111.0|         6.1|      1013|$76.81000000-1602...|[Lacks the wicked...|     $76.8M|       13.0|        3.0|         144.0|        0.0|         1.0|                    0.0|         654.0|           328.0|                    1462.0|                       0.0|            1267.0|         25.0|               1.0|           399.0|             2011.0|           1236.0| Positive|\n",
            "|      28 Weeks Later|Horror, Mystery &...|Juan Carlos Fresn...|False|15000000|               en|In this chilling ...| 12.884191|[{'name': 'DNA Fi...|[{'iso_3166_1': '...|  2007-04-26|  100.0|         6.5|      1225|$28.61000000-6423...|[The story moves ...|     $28.6M|       16.0|        4.0|         929.0|        0.0|         7.0|                    0.0|        1342.0|           653.0|                     445.0|                      53.0|            1214.0|          6.0|               2.0|           226.0|              994.0|            178.0| Negative|\n",
            "|       3 Generations|Comedy, Drama, Lg...|         Gaby Dellal|False| 5000000|               en|A teenager transi...|  4.626438|[{'name': 'IM Glo...|[{'iso_3166_1': '...|  2016-02-11|   87.0|         6.1|        75|    $66.41000-443962|[In the hands of ...|     $66.4K|       18.0|       35.0|         759.0|        0.0|        10.0|                    0.0|         428.0|          1381.0|                     745.0|                       0.0|            1687.0|         34.0|               1.0|            69.0|             1873.0|           1160.0| Positive|\n",
            "|  30 Minutes or Less|      Comedy, Action|     Ruben Fleischer|False|28000000|               en|Two fledgling cri...|  9.763493|[{'name': 'Columb...|[{'iso_3166_1': '...|  2011-08-11|   83.0|         5.6|       537|$37.11000000-4054...|[The comedy reach...|     $37.1M|       21.0|       15.0|         128.0|        0.0|        16.0|                    0.0|        2109.0|          2327.0|                       3.0|                     267.0|            1430.0|         44.0|              13.0|           947.0|             1279.0|            343.0| Positive|\n",
            "|40 Days and 40 Ni...|     Romance, Comedy|     Michael Lehmann|False|17000000|               en|Matt Sullivan's l...|  8.628928|[{'name': 'Mirama...|[{'iso_3166_1': '...|  2002-03-01|   94.0|         5.2|       306|      $37.91000000-0|[Fairly gimmicky ...|     $37.9M|       24.0|        3.0|         201.0|        0.0|        42.0|                    0.0|        1503.0|          2136.0|                    1022.0|                      81.0|             211.0|         12.0|              23.0|            83.0|             1297.0|             20.0| Positive|\n",
            "+--------------------+--------------------+--------------------+-----+--------+-----------------+--------------------+----------+--------------------+--------------------+------------+-------+------------+----------+--------------------+--------------------+-----------+-----------+-----------+--------------+-----------+------------+-----------------------+--------------+----------------+--------------------------+--------------------------+------------------+-------------+------------------+----------------+-------------------+-----------------+---------+\n",
            "only showing top 10 rows\n",
            "\n"
          ]
        }
      ]
    },
    {
      "cell_type": "code",
      "source": [
        "# Assuming you have a DataFrame 'df' with 'sentiment' column\n",
        "sentiment_counts = df5.groupby('sentiment').count().toPandas()\n",
        "\n",
        "# Plotting the bar graph\n",
        "plt.bar(sentiment_counts['sentiment'], sentiment_counts['count'])\n",
        "plt.xlabel('Sentiment')\n",
        "plt.ylabel('Count')\n",
        "plt.title('Sentiment Analysis')\n",
        "plt.show()"
      ],
      "metadata": {
        "id": "7-rHhqe1GgIp",
        "colab": {
          "base_uri": "https://localhost:8080/",
          "height": 472
        },
        "outputId": "ed77a6b4-5cb3-4c6d-9ac9-3d663a10a8fc"
      },
      "execution_count": 79,
      "outputs": [
        {
          "output_type": "display_data",
          "data": {
            "text/plain": [
              "<Figure size 640x480 with 1 Axes>"
            ],
            "image/png": "[encoded data removed]"
          },
          "metadata": {}
        }
      ]
    },
    {
      "cell_type": "markdown",
      "source": [
        "\n",
        "\n",
        "**Movie Recommendation**"
      ],
      "metadata": {
        "id": "defdJbRBGmXm"
      }
    },
    {
      "cell_type": "code",
      "source": [
        "from pyspark.sql.functions import regexp_replace\n",
        "\n",
        "df5 = df5.withColumn(\"genre\", regexp_replace(df5[\"genre\"], \"Adventure,\", \"Adventure \")\n",
        "                    .cast(\"string\"))\n",
        "df5 = df5.withColumn(\"genre\", regexp_replace(df5[\"genre\"], \"Comedy,\", \"Comedy \")\n",
        "                    .cast(\"string\"))\n",
        "df5 = df5.withColumn(\"genre\", regexp_replace(df5[\"genre\"], \"Mystery & thriller,\", \"Mystery thriller \")\n",
        "                    .cast(\"string\"))\n",
        "df5 = df5.withColumn(\"genre\", regexp_replace(df5[\"genre\"], \"Horror,\", \"Horror \")\n",
        "                    .cast(\"string\"))\n",
        "df5 = df5.withColumn(\"genre\", regexp_replace(df5[\"genre\"], \"Kids & family,\", \"Kids & family \")\n",
        "                    .cast(\"string\"))\n",
        "df5 = df5.withColumn(\"genre\", regexp_replace(df5[\"genre\"], \"Sci-fi,\", \"Sci-fi \")\n",
        "                    .cast(\"string\"))\n",
        "df5 = df5.withColumn(\"genre\", regexp_replace(df5[\"genre\"], \"Romance,\", \"Romance \")\n",
        "                    .cast(\"string\"))\n",
        "df5 = df5.withColumn(\"genre\", regexp_replace(df5[\"genre\"], \"Action,\", \"Action \")\n",
        "                    .cast(\"string\"))\n",
        "df5 = df5.withColumn(\"genre\", regexp_replace(df5[\"genre\"], \"Western,\", \"Western \")\n",
        "                    .cast(\"string\"))\n",
        "df5 = df5.withColumn(\"genre\", regexp_replace(df5[\"genre\"], \"Drama,\", \"Drama \")\n",
        "                    .cast(\"string\"))\n",
        "df5 = df5.withColumn(\"genre\", regexp_replace(df5[\"genre\"], \"Kids & family\", \"Kids family \")\n",
        "                    .cast(\"string\"))\n",
        "df5 = df5.withColumn(\"genre\", regexp_replace(df5[\"genre\"], \"Mystery & thriller\", \"Mystery thriller \")\n",
        "                    .cast(\"string\"))\n",
        "df5 = df5.withColumn(\"genre\", regexp_replace(df5[\"genre\"], \"Fantasy,\", \"Fantasy \")\n",
        "                    .cast(\"string\"))\n",
        "df5 = df5.withColumn(\"genre\", regexp_replace(df5[\"genre\"], \"Musical,\", \"Musical \")\n",
        "                    .cast(\"string\"))\n",
        "df5 = df5.withColumn(\"genre\", regexp_replace(df5[\"genre\"], \"Holiday,\", \"Holiday \")\n",
        "                    .cast(\"string\"))\n",
        "df5 = df5.withColumn(\"genre\", regexp_replace(df5[\"genre\"], \"Crime,\", \"Crime \")\n",
        "                    .cast(\"string\"))\n",
        "df5 = df5.withColumn(\"genre\", regexp_replace(df5[\"genre\"], \"War,\", \"War \")\n",
        "                    .cast(\"string\"))\n",
        "df5 = df5.withColumn(\"genre\", regexp_replace(df5[\"genre\"], \"Lgbtq+,\", \"Lgbtq+ \")\n",
        "                    .cast(\"string\"))\n",
        "df5 = df5.withColumn(\"genre\", regexp_replace(df5[\"genre\"], \"Biography,\", \"Biography \")\n",
        "                    .cast(\"string\"))\n",
        "df5 = df5.withColumn(\"genre\", regexp_replace(df5[\"genre\"], \"History,\", \"History \")\n",
        "                    .cast(\"string\"))\n",
        "df5 = df5.withColumn(\"genre\", regexp_replace(df5[\"genre\"], \"Gay & lesbian,\", \"Gay & lesbian \")\n",
        "                    .cast(\"string\"))\n",
        "df5 = df5.withColumn(\"genre\", regexp_replace(df5[\"genre\"], \"Gay & lesbian\", \"Gay lesbian \")\n",
        "                    .cast(\"string\"))"
      ],
      "metadata": {
        "id": "4Bj9JJ84FI80"
      },
      "execution_count": 80,
      "outputs": []
    },
    {
      "cell_type": "code",
      "source": [
        "from pyspark.sql import SparkSession\n",
        "from pyspark.ml.feature import Tokenizer, RegexTokenizer, StopWordsRemover, CountVectorizer, IDF\n",
        "from pyspark.ml.linalg import DenseVector\n",
        "from pyspark.ml.feature import StringIndexer\n",
        "from pyspark.ml.feature import VectorAssembler\n",
        "from pyspark.ml.feature import Normalizer\n",
        "from pyspark.ml.linalg import Vectors\n",
        "from pyspark.ml.feature import VectorAssembler\n",
        "from pyspark.ml.feature import MinMaxScaler\n",
        "from pyspark.ml import Pipeline\n",
        "from pyspark.ml.feature import Normalizer\n",
        "from pyspark.sql.functions import col\n",
        "\n",
        "df5 = df5.withColumn(\"index\", monotonically_increasing_id()).drop(\"index\")\n",
        "\n",
        "df5 = df5.withColumn(\"combined_features\", concat(col(\"overview\"), lit(\" \"), col(\"genre\")))\n",
        "\n",
        "# Create the pipeline\n",
        "tokenizer = RegexTokenizer(inputCol=\"combined_features\", outputCol=\"words\", pattern=\"\\\\W\")\n",
        "remover = StopWordsRemover(inputCol=\"words\", outputCol=\"filtered_words\")\n",
        "countVectorizer = CountVectorizer(inputCol=\"filtered_words\", outputCol=\"rawFeatures\")\n",
        "idf = IDF(inputCol=\"rawFeatures\", outputCol=\"features\")\n",
        "assembler = VectorAssembler(inputCols=[\"features\"], outputCol=\"feature_vector\")\n",
        "normalizer = Normalizer(inputCol=\"feature_vector\", outputCol=\"normalized_features\")\n",
        "pipeline = Pipeline(stages=[tokenizer, remover, countVectorizer, idf, assembler, normalizer])\n",
        "\n",
        "# Fit the pipeline to the data\n",
        "pipeline_model = pipeline.fit(df5)\n",
        "df_transformed = pipeline_model.transform(df5)\n",
        "\n",
        "# Define a UDF for cosine similarity\n",
        "def cosine_similarity(v1, v2):\n",
        "    return float(v1.dot(v2) / (v1.norm(2) * v2.norm(2)))\n",
        "\n",
        "cosine_similarity_udf = udf(cosine_similarity)\n",
        "\n",
        "\n",
        "df_similarity = df_transformed.alias(\"df1\").crossJoin(df_transformed.alias(\"df2\"))\n",
        "df_similarity = df_similarity.withColumn(\"similarity\", cosine_similarity_udf(col(\"df1.normalized_features\"), col(\"df2.normalized_features\")))\n",
        "\n",
        "movie_name = input('Enter your favourite movie name: ')\n",
        "df_selected = df_similarity.filter(col(\"df1.title\") == movie_name)\n",
        "\n",
        "df_selected = df_selected.orderBy(col(\"similarity\").desc())\n",
        "\n",
        "recommended_movies = df_selected.select(\"df2.title\").limit(10)\n",
        "\n",
        "print('Movies suggested for you:\\n')\n",
        "recommended_movies.show(truncate=False)"
      ],
      "metadata": {
        "colab": {
          "base_uri": "https://localhost:8080/"
        },
        "id": "zDtRM6qLFI5h",
        "outputId": "d53afa31-d86b-46db-d398-aa6d9a0c635d"
      },
      "execution_count": 81,
      "outputs": [
        {
          "output_type": "stream",
          "name": "stdout",
          "text": [
            "Enter your favourite movie name: 13 Minutes\n",
            "Movies suggested for you:\n",
            "\n",
            "+---------------------------+\n",
            "|title                      |\n",
            "+---------------------------+\n",
            "|Parker                     |\n",
            "|Salmon Fishing in the Yemen|\n",
            "|Of Gods and Men            |\n",
            "|Love Liza                  |\n",
            "|Dreamgirls                 |\n",
            "|Inside I'm Dancing         |\n",
            "|The Descendants            |\n",
            "|Parasite                   |\n",
            "|Jackpot                    |\n",
            "|The Merchant of Venice     |\n",
            "+---------------------------+\n",
            "\n"
          ]
        }
      ]
    },
    {
      "cell_type": "markdown",
      "source": [
        "**###############################################################################**"
      ],
      "metadata": {
        "id": "kCNfFTrCFdbT"
      }
    },
    {
      "cell_type": "markdown",
      "source": [
        "### **Seperate Second Dataset** "
      ],
      "metadata": {
        "id": "nuzpoxTzE4ll"
      }
    },
    {
      "cell_type": "markdown",
      "source": [
        "**Reading the dataset**"
      ],
      "metadata": {
        "id": "eN-Z1GA7NFun"
      }
    },
    {
      "cell_type": "code",
      "source": [
        "df20= spark.read.csv(\"/content/drive/MyDrive/BigData/mubi_movie_data.csv\", header=True, inferSchema=True)\n",
        "df20.take(5)"
      ],
      "metadata": {
        "colab": {
          "base_uri": "https://localhost:8080/"
        },
        "id": "VdLeqQC_MrLt",
        "outputId": "c27257ae-ea35-4603-a53d-86934143108f"
      },
      "execution_count": 82,
      "outputs": [
        {
          "output_type": "execute_result",
          "data": {
            "text/plain": [
              "[Row(movie_id=1, movie_title='La Antena', movie_release_year='2007.0', movie_url='http://mubi.com/films/la-antena', movie_title_language='en', movie_popularity='105', movie_image_url='https://images.mubicdn.net/images/film/1/cache-7927-1581389497/image-w1280.jpg', director_id='131', director_name='Esteban Sapir', director_url='http://mubi.com/cast/esteban-sapir'),\n",
              " Row(movie_id=2, movie_title='Elementary Particles', movie_release_year='2006.0', movie_url='http://mubi.com/films/elementary-particles', movie_title_language='en', movie_popularity='23', movie_image_url='https://images.mubicdn.net/images/film/2/cache-512179-1581389841/image-w1280.jpg', director_id='73', director_name='Oskar Roehler', director_url='http://mubi.com/cast/oskar-roehler'),\n",
              " Row(movie_id=3, movie_title=\"It's Winter\", movie_release_year='2006.0', movie_url='http://mubi.com/films/its-winter', movie_title_language='en', movie_popularity='21', movie_image_url='https://images.mubicdn.net/images/film/3/cache-7929-1481539519/image-w1280.jpg', director_id='82', director_name='Rafi Pitts', director_url='http://mubi.com/cast/rafi-pitts'),\n",
              " Row(movie_id=4, movie_title='Kirikou and the Wild Beasts', movie_release_year='2005.0', movie_url='http://mubi.com/films/kirikou-and-the-wild-beasts', movie_title_language='en', movie_popularity='46', movie_image_url='https://images.mubicdn.net/images/film/4/cache-7930-1568880017/image-w1280.jpg', director_id='89, 90', director_name='Michel Ocelot, Bénédicte Galup', director_url='http://mubi.com/cast/michel-ocelot, http://mubi.com/cast/benedicte-galup'),\n",
              " Row(movie_id=5, movie_title='Padre Nuestro', movie_release_year='2007.0', movie_url='http://mubi.com/films/padre-nuestro', movie_title_language='en', movie_popularity='7', movie_image_url='https://images.mubicdn.net/images/film/5/cache-7931-1581390636/image-w1280.jpg', director_id='92', director_name='Christopher Zalla', director_url='http://mubi.com/cast/christopher-zalla')]"
            ]
          },
          "metadata": {},
          "execution_count": 82
        }
      ]
    },
    {
      "cell_type": "code",
      "source": [
        "num_rows = 10\n",
        "df1.show(num_rows)"
      ],
      "metadata": {
        "colab": {
          "base_uri": "https://localhost:8080/"
        },
        "id": "SGA5mzOHM8um",
        "outputId": "26e6966d-3fa1-48ce-b7f2-6a2e71e2adf8"
      },
      "execution_count": 83,
      "outputs": [
        {
          "output_type": "stream",
          "name": "stdout",
          "text": [
            "+--------------------+--------------------+-------------+-----------+------+--------------------+--------------------+--------------+--------------------+----------------+----------------+--------------------+---------+--------------------+--------------------+\n",
            "|                  id|               title|audienceScore|tomatoMeter|rating|      ratingContents|releaseDateStreaming|runtimeMinutes|               genre|originalLanguage|        director|              writer|boxOffice|         distributor|            soundMix|\n",
            "+--------------------+--------------------+-------------+-----------+------+--------------------+--------------------+--------------+--------------------+----------------+----------------+--------------------+---------+--------------------+--------------------+\n",
            "|     monsoon_wedding|     Monsoon Wedding|           87|         95|     R|['Some Sex Relate...|          2002-09-24|           100|       Comedy, Drama|         English|       Mira Nair|      Sabrina Dhawan|   $13.9M|           USA Films|Dolby Stereo, Dol...|\n",
            "|     robin_hood_2018|          Robin Hood|           40|         15| PG-13|['Extended Sequen...|          2019-02-19|           118|   Action, Adventure|         English|   Otto Bathurst|Ben Chandler,Davi...|   $30.8M|     Lionsgate Films|         Dolby Atmos|\n",
            "|            my_giant|            My Giant|           25|         21|    PG|['Violence', 'Lan...|          1998-09-29|           103|       Comedy, Drama|         English| Michael Lehmann|Billy Crystal,Dav...|    $8.0M|   Columbia Pictures|SDDS, Dolby SR, D...|\n",
            "|west_side_story_2021|     West Side Story|           93|         91| PG-13|['Some Strong Vio...|          2022-03-02|           156|    Musical, Romance|         English|Steven Spielberg|        Tony Kushner|   $38.5M|20th Century Studios|Dolby Digital, Do...|\n",
            "|          youth_2015|               Youth|           69|         71|     R|['Language', 'Gra...|          2016-03-01|           118|               Drama|         English|Paolo Sorrentino|    Paolo Sorrentino|    $2.7M|     Fox Searchlight|         Dolby Atmos|\n",
            "|intimate_stranger...|  Intimate Strangers|           69|         86|     R| ['Sexual Dialogue']|          2004-12-28|           103|               Drama| French (Canada)| Patrice Leconte|     Jérôme Tonnerre|    $2.1M|  Paramount Pictures| Surround, Dolby SRD|\n",
            "|jurassic_world_do...|Jurassic World Do...|           77|         29| PG-13|['Language', 'Int...|          2022-09-02|           147|Action, Adventure...|         English| Colin Trevorrow|Emily Carmichael,...|  $376.0M|  Universal Pictures|Dolby Digital, Do...|\n",
            "|hansel_and_gretel...|Hansel & Gretel: ...|           53|         16|     R|['Fantasy Horror ...|          2013-06-11|            88|Fantasy, Horror, ...|         English|   Tommy Wirkola|       Tommy Wirkola|   $55.7M|Paramount Picture...|SDDS, Datasat, Do...|\n",
            "|                juno|                Juno|           88|         94| PG-13|['Mature Thematic...|          2008-04-15|            96|       Comedy, Drama|         English|   Jason Reitman|         Diablo Cody|  $143.5M|                 Fox|SDDS, Dolby Digit...|\n",
            "|    peaceful_warrior|    Peaceful Warrior|           76|         25| PG-13|['Sensuality', 'A...|          2006-12-19|           121|               Drama|         English|    Victor Salva|     Kevin Bernhardt|    $1.1M|     Lionsgate Films|       Dolby Digital|\n",
            "+--------------------+--------------------+-------------+-----------+------+--------------------+--------------------+--------------+--------------------+----------------+----------------+--------------------+---------+--------------------+--------------------+\n",
            "only showing top 10 rows\n",
            "\n"
          ]
        }
      ]
    },
    {
      "cell_type": "code",
      "source": [
        "df21 = spark.read.csv(\"/content/drive/MyDrive/BigData/mubi_ratings_data.csv\",header=True, inferSchema=True)\n",
        "df21.take(5)"
      ],
      "metadata": {
        "colab": {
          "base_uri": "https://localhost:8080/"
        },
        "id": "TsEOmAG_NAG4",
        "outputId": "790d97f6-172d-4f44-f724-2ba0c2430dfa"
      },
      "execution_count": 84,
      "outputs": [
        {
          "output_type": "execute_result",
          "data": {
            "text/plain": [
              "[Row(movie_id='1066', rating_id='15610495', rating_url='http://mubi.com/films/pavee-lackeen-the-traveller-girl/ratings/15610495', rating_score='3.0', rating_timestamp_utc='2017-06-10 12:38:33', critic=None, critic_likes='0', critic_comments='0', user_id='41579158', user_trialist='False', user_subscriber='False', user_eligible_for_trial='True', user_has_payment_method='False'),\n",
              " Row(movie_id='1066', rating_id='10704606', rating_url='http://mubi.com/films/pavee-lackeen-the-traveller-girl/ratings/10704606', rating_score='2.0', rating_timestamp_utc='2014-08-15 23:42:31', critic=None, critic_likes='0', critic_comments='0', user_id='85981819', user_trialist='True', user_subscriber='True', user_eligible_for_trial='False', user_has_payment_method='True'),\n",
              " Row(movie_id='1066', rating_id='10177114', rating_url='http://mubi.com/films/pavee-lackeen-the-traveller-girl/ratings/10177114', rating_score='2.0', rating_timestamp_utc='2014-01-30 13:21:57', critic=None, critic_likes='0', critic_comments='0', user_id='4208563', user_trialist='False', user_subscriber='False', user_eligible_for_trial='True', user_has_payment_method='True'),\n",
              " Row(movie_id='1066', rating_id='10130280', rating_url='http://mubi.com/films/pavee-lackeen-the-traveller-girl/ratings/10130280', rating_score='3.0', rating_timestamp_utc='2014-01-19 01:04:23', critic=\"I am a bit disappointed by this documentary film I've been wanting to watch for years as it is way less informative than I had imagined and rather cheaply made technically speaking. Otherwise it is O.K. and rather interesting.\", critic_likes='0', critic_comments='0', user_id='9820140', user_trialist='False', user_subscriber='False', user_eligible_for_trial='True', user_has_payment_method='False'),\n",
              " Row(movie_id='1066', rating_id='8357049', rating_url='http://mubi.com/films/pavee-lackeen-the-traveller-girl/ratings/8357049', rating_score='4.0', rating_timestamp_utc='2012-10-02 18:28:47', critic=None, critic_likes='0', critic_comments='0', user_id='68654088', user_trialist='False', user_subscriber='False', user_eligible_for_trial='True', user_has_payment_method='True')]"
            ]
          },
          "metadata": {},
          "execution_count": 84
        }
      ]
    },
    {
      "cell_type": "code",
      "source": [
        "num_rows = 10\n",
        "df21.show(num_rows)"
      ],
      "metadata": {
        "colab": {
          "base_uri": "https://localhost:8080/"
        },
        "id": "0AfMKXVjNQrs",
        "outputId": "00671ad2-f965-4848-c90a-5e7107d66ae1"
      },
      "execution_count": 85,
      "outputs": [
        {
          "output_type": "stream",
          "name": "stdout",
          "text": [
            "+--------+---------+--------------------+------------+--------------------+--------------------+------------+---------------+--------+-------------+---------------+-----------------------+-----------------------+\n",
            "|movie_id|rating_id|          rating_url|rating_score|rating_timestamp_utc|              critic|critic_likes|critic_comments| user_id|user_trialist|user_subscriber|user_eligible_for_trial|user_has_payment_method|\n",
            "+--------+---------+--------------------+------------+--------------------+--------------------+------------+---------------+--------+-------------+---------------+-----------------------+-----------------------+\n",
            "|    1066| 15610495|http://mubi.com/f...|         3.0| 2017-06-10 12:38:33|                null|           0|              0|41579158|        False|          False|                   True|                  False|\n",
            "|    1066| 10704606|http://mubi.com/f...|         2.0| 2014-08-15 23:42:31|                null|           0|              0|85981819|         True|           True|                  False|                   True|\n",
            "|    1066| 10177114|http://mubi.com/f...|         2.0| 2014-01-30 13:21:57|                null|           0|              0| 4208563|        False|          False|                   True|                   True|\n",
            "|    1066| 10130280|http://mubi.com/f...|         3.0| 2014-01-19 01:04:23|I am a bit disapp...|           0|              0| 9820140|        False|          False|                   True|                  False|\n",
            "|    1066|  8357049|http://mubi.com/f...|         4.0| 2012-10-02 18:28:47|                null|           0|              0|68654088|        False|          False|                   True|                   True|\n",
            "|    1066|  6220019|http://mubi.com/f...|         4.0| 2011-08-19 01:53:53|                null|           0|              0|97262846|        False|          False|                   True|                  False|\n",
            "|    1066|  5255936|http://mubi.com/f...|         4.0| 2011-04-04 19:04:05|                null|           0|              0|52128819|        False|          False|                  False|                   True|\n",
            "|    1066|  5192128|http://mubi.com/f...|         3.0| 2011-03-27 02:06:34|                null|           0|              0|57756708|        False|          False|                   True|                   True|\n",
            "|    1066|  5008733|http://mubi.com/f...|         4.0| 2011-03-07 15:30:03|                null|           0|              0|58420503|        False|          False|                   True|                   True|\n",
            "|    1066|  4519384|http://mubi.com/f...|         3.0| 2011-01-18 13:10:29|                null|           0|              0|78114925|        False|          False|                   True|                  False|\n",
            "+--------+---------+--------------------+------------+--------------------+--------------------+------------+---------------+--------+-------------+---------------+-----------------------+-----------------------+\n",
            "only showing top 10 rows\n",
            "\n"
          ]
        }
      ]
    },
    {
      "cell_type": "markdown",
      "source": [
        "**Cleaning (Nulls, Duplicates, Unwanted Columns)**"
      ],
      "metadata": {
        "id": "7ygcW8qrNX24"
      }
    },
    {
      "cell_type": "code",
      "source": [
        "#Checking null values\n",
        "for column in df20.columns:\n",
        "   null_count = df20.filter(col(column).isNull() | isnan(col(column))).count()\n",
        "   if null_count > 0:\n",
        "    print(f\"Column '{column}' has {null_count} null value(s).\")"
      ],
      "metadata": {
        "colab": {
          "base_uri": "https://localhost:8080/"
        },
        "id": "KGW9i6mmNaHb",
        "outputId": "9704f6c9-4feb-4d3e-bb29-33e7cc9bad64"
      },
      "execution_count": 86,
      "outputs": [
        {
          "output_type": "stream",
          "name": "stdout",
          "text": [
            "Column 'movie_release_year' has 5 null value(s).\n",
            "Column 'movie_image_url' has 17418 null value(s).\n",
            "Column 'director_name' has 3 null value(s).\n"
          ]
        }
      ]
    },
    {
      "cell_type": "code",
      "source": [
        "#Dropping null values\n",
        "df20= df20.na.drop()"
      ],
      "metadata": {
        "id": "BJbLg3E6NhMX"
      },
      "execution_count": 87,
      "outputs": []
    },
    {
      "cell_type": "code",
      "source": [
        "for column in df20.columns:\n",
        "  null_count = df20.filter(col(column).isNull() | isnan(col(column))).count()\n",
        "  if null_count > 0:\n",
        "    print(f\"Column '{column}' has {null_count} null value(s).\")\n",
        "if null_count == 0:\n",
        "  print(\"Done\")"
      ],
      "metadata": {
        "colab": {
          "base_uri": "https://localhost:8080/"
        },
        "id": "Lxz-mx8TNhG7",
        "outputId": "de52bf79-d99c-45e1-caf6-66311532c626"
      },
      "execution_count": 88,
      "outputs": [
        {
          "output_type": "stream",
          "name": "stdout",
          "text": [
            "Done\n"
          ]
        }
      ]
    },
    {
      "cell_type": "code",
      "source": [
        "#Checking duplicates\n",
        "duplicate_rows = df20.groupBy(df20.columns).count().filter(col('count') > 1)\n",
        "duplicate_rows.show()"
      ],
      "metadata": {
        "colab": {
          "base_uri": "https://localhost:8080/"
        },
        "id": "xlTJ2fAgNhBy",
        "outputId": "f0a1473f-76f9-4d51-d2ca-78c5d1e37a25"
      },
      "execution_count": 89,
      "outputs": [
        {
          "output_type": "stream",
          "name": "stdout",
          "text": [
            "+--------+-----------+------------------+---------+--------------------+----------------+---------------+-----------+-------------+------------+-----+\n",
            "|movie_id|movie_title|movie_release_year|movie_url|movie_title_language|movie_popularity|movie_image_url|director_id|director_name|director_url|count|\n",
            "+--------+-----------+------------------+---------+--------------------+----------------+---------------+-----------+-------------+------------+-----+\n",
            "+--------+-----------+------------------+---------+--------------------+----------------+---------------+-----------+-------------+------------+-----+\n",
            "\n"
          ]
        }
      ]
    },
    {
      "cell_type": "code",
      "source": [
        "# Drop unwanted columns\n",
        "columns_to_drop = ['movie_image_url', 'director_url', 'movie_url']\n",
        "\n",
        "df20= df20.drop(*columns_to_drop)\n",
        "\n",
        "df20.show()\n"
      ],
      "metadata": {
        "colab": {
          "base_uri": "https://localhost:8080/"
        },
        "id": "kpneWlHNNg_C",
        "outputId": "79487a21-7b8b-428c-fdad-6fd39b6b0f39"
      },
      "execution_count": 90,
      "outputs": [
        {
          "output_type": "stream",
          "name": "stdout",
          "text": [
            "+--------+--------------------+------------------+--------------------+----------------+-----------+--------------------+\n",
            "|movie_id|         movie_title|movie_release_year|movie_title_language|movie_popularity|director_id|       director_name|\n",
            "+--------+--------------------+------------------+--------------------+----------------+-----------+--------------------+\n",
            "|       1|           La Antena|            2007.0|                  en|             105|        131|       Esteban Sapir|\n",
            "|       2|Elementary Particles|            2006.0|                  en|              23|         73|       Oskar Roehler|\n",
            "|       3|         It's Winter|            2006.0|                  en|              21|         82|          Rafi Pitts|\n",
            "|       4|Kirikou and the W...|            2005.0|                  en|              46|     89, 90|Michel Ocelot, Bé...|\n",
            "|       5|       Padre Nuestro|            2007.0|                  en|               7|         92|   Christopher Zalla|\n",
            "|       6|The Perfume of th...|            2005.0|                  en|               6|        102|     Bruno Podalydès|\n",
            "|       7|             Riviera|            2005.0|                  en|               5|        109|     Anne Villacèque|\n",
            "|       8|Someone Else's Ha...|            2005.0|                  en|               8|        118|          Fien Troch|\n",
            "|       9|        Young Yakuza|            2007.0|                  en|              17|        127| Jean-Pierre Limosin|\n",
            "|      10|          The Return|            2003.0|                  en|            1236|         27|  Andrey Zvyagintsev|\n",
            "|      11|            Il grido|            1957.0|                  en|             178|         36|Michelangelo Anto...|\n",
            "|      12|         The General|            1926.0|                  en|            3124|     46, 47|Buster Keaton, Cl...|\n",
            "|      13|          L'Age d'Or|            1930.0|                  en|             898|         56|         Luis Buñuel|\n",
            "|      14|   Les bonnes femmes|            1960.0|                  en|             167|         62|      Claude Chabrol|\n",
            "|      15|                Cops|            1922.0|                  en|             237|  46, 23290|Buster Keaton, Ed...|\n",
            "|      16|          Tokyo Eyes|            1998.0|                  en|              23|        127| Jean-Pierre Limosin|\n",
            "|      17|      Dead in 3 Days|            2006.0|                  en|              12|        153|   Andreas Prochaska|\n",
            "|      18|The Wind of the N...|            1999.0|                  en|              88|        145|     Philippe Garrel|\n",
            "|      20|       Chicken Heart|            2002.0|                  en|              15|     595895|     Hiroshi Shimizu|\n",
            "|      21|          After Life|            1998.0|                  en|             649|        178|   Hirokazu Kore-eda|\n",
            "+--------+--------------------+------------------+--------------------+----------------+-----------+--------------------+\n",
            "only showing top 20 rows\n",
            "\n"
          ]
        }
      ]
    },
    {
      "cell_type": "code",
      "source": [
        "for column in df21.columns:\n",
        "   null_count = df21.filter(col(column).isNull() | isnan(col(column))).count()\n",
        "   if null_count > 0:\n",
        "    print(f\"Column '{column}' has {null_count} null value(s).\")"
      ],
      "metadata": {
        "colab": {
          "base_uri": "https://localhost:8080/"
        },
        "id": "wrtA3K2XNg7s",
        "outputId": "8f9d96d1-0e17-4e51-de1f-789e568fa509"
      },
      "execution_count": 91,
      "outputs": [
        {
          "output_type": "stream",
          "name": "stdout",
          "text": [
            "Column 'movie_id' has 10 null value(s).\n",
            "Column 'rating_id' has 25574 null value(s).\n",
            "Column 'rating_url' has 29041 null value(s).\n",
            "Column 'rating_score' has 57128 null value(s).\n",
            "Column 'rating_timestamp_utc' has 30918 null value(s).\n",
            "Column 'critic' has 14802249 null value(s).\n",
            "Column 'critic_likes' has 74444 null value(s).\n",
            "Column 'critic_comments' has 75595 null value(s).\n",
            "Column 'user_id' has 98376 null value(s).\n",
            "Column 'user_trialist' has 104951 null value(s).\n",
            "Column 'user_subscriber' has 107502 null value(s).\n",
            "Column 'user_eligible_for_trial' has 108619 null value(s).\n",
            "Column 'user_has_payment_method' has 109127 null value(s).\n"
          ]
        }
      ]
    },
    {
      "cell_type": "code",
      "source": [
        "df21 = df21.na.drop()"
      ],
      "metadata": {
        "id": "SxJC2UwJOHL7"
      },
      "execution_count": 92,
      "outputs": []
    },
    {
      "cell_type": "code",
      "source": [
        "for column in df21.columns:\n",
        "  null_count = df21.filter(col(column).isNull() | isnan(col(column))).count()\n",
        "  if null_count > 0:\n",
        "    print(f\"Column '{column}' has {null_count} null value(s).\")\n",
        "if null_count == 0:\n",
        "  print(\"Done\")"
      ],
      "metadata": {
        "colab": {
          "base_uri": "https://localhost:8080/"
        },
        "id": "Uu0aYHRHOK1Q",
        "outputId": "71d17312-fe7b-4178-a2e4-7df2803e5bab"
      },
      "execution_count": 93,
      "outputs": [
        {
          "output_type": "stream",
          "name": "stdout",
          "text": [
            "Done\n"
          ]
        }
      ]
    },
    {
      "cell_type": "code",
      "source": [
        "duplicate_rows = df21.groupBy(df21.columns).count().filter(col('count') > 1)\n",
        "duplicate_rows.show()"
      ],
      "metadata": {
        "colab": {
          "base_uri": "https://localhost:8080/"
        },
        "id": "J1uDOh8eOOLF",
        "outputId": "ccca2667-15ec-4fa8-f21a-3e22139e8a3a"
      },
      "execution_count": 94,
      "outputs": [
        {
          "output_type": "stream",
          "name": "stdout",
          "text": [
            "+--------------------+---------+----------+------------+--------------------+------------------+------------+---------------+--------+-------------+---------------+-----------------------+-----------------------+-----+\n",
            "|            movie_id|rating_id|rating_url|rating_score|rating_timestamp_utc|            critic|critic_likes|critic_comments| user_id|user_trialist|user_subscriber|user_eligible_for_trial|user_has_payment_method|count|\n",
            "+--------------------+---------+----------+------------+--------------------+------------------+------------+---------------+--------+-------------+---------------+-----------------------+-----------------------+-----+\n",
            "|Just watching thi...|   Acting| Directing| Photography| Sound.. Instant ...| All time Top 10.\"|           0|              0|85577313|        False|          False|                   True|                   True|    2|\n",
            "+--------------------+---------+----------+------------+--------------------+------------------+------------+---------------+--------+-------------+---------------+-----------------------+-----------------------+-----+\n",
            "\n"
          ]
        }
      ]
    },
    {
      "cell_type": "code",
      "source": [
        "columns_to_drop = [\"critic\", \"user_trialist\",\"user_subscriber\",\"user_eligible_for_trial\",\"user_has_payment_method\",\"user_id\",\"rating_url\",\"rating_timestamp_utc\",\"rating_id\"]"
      ],
      "metadata": {
        "id": "N9LhhyhFOSYB"
      },
      "execution_count": 95,
      "outputs": []
    },
    {
      "cell_type": "code",
      "source": [
        "df21 = df21.drop(*columns_to_drop)"
      ],
      "metadata": {
        "id": "RrwvZgLcOUa8"
      },
      "execution_count": 96,
      "outputs": []
    },
    {
      "cell_type": "code",
      "source": [
        "df21.show()"
      ],
      "metadata": {
        "colab": {
          "base_uri": "https://localhost:8080/"
        },
        "id": "850YWArLOYoa",
        "outputId": "077ff6ac-1763-4d55-93bf-cf62079710a6"
      },
      "execution_count": 97,
      "outputs": [
        {
          "output_type": "stream",
          "name": "stdout",
          "text": [
            "+--------+------------+--------------------+--------------------+\n",
            "|movie_id|rating_score|        critic_likes|     critic_comments|\n",
            "+--------+------------+--------------------+--------------------+\n",
            "|    1066|         3.0|                   0|                   0|\n",
            "|    1067|         5.0|                   0|                   0|\n",
            "|    1068|         2.0|                   0|                   0|\n",
            "|    1068|         1.0|                   0|                   0|\n",
            "|    1068|         1.0|                   0|                   0|\n",
            "|    1068|         2.0|                   1|                   0|\n",
            "|    1068|         1.0|                   1|                   2|\n",
            "|    1068|         2.0|                   0|                   0|\n",
            "|    1069|         1.0|                   0|                   0|\n",
            "|    1069|         4.0|                   0|                   0|\n",
            "|    1069|         2.0|                   0|                   0|\n",
            "|    1069|         2.0|                   0|                   0|\n",
            "|    1069|         5.0|                   1|                   0|\n",
            "|    1069|         4.0|                   1|                   0|\n",
            "|    1069|         4.0|                   1|                   0|\n",
            "|    1069|         5.0|                   1|                   0|\n",
            "|    1069|         4.0|  floating cinema...| subjects wigglin...|\n",
            "|    1069|         4.0|                   1|                   0|\n",
            "|    1069|         3.0|                   0|                   0|\n",
            "|    1069|         2.0| though you may b...|                   0|\n",
            "+--------+------------+--------------------+--------------------+\n",
            "only showing top 20 rows\n",
            "\n"
          ]
        }
      ]
    },
    {
      "cell_type": "markdown",
      "source": [
        "**Integration**"
      ],
      "metadata": {
        "id": "dWRTHwtFOjUQ"
      }
    },
    {
      "cell_type": "code",
      "source": [
        "join_column = \"movie_id\"\n",
        "df23 = df20.join(df21, join_column , \"inner\")\n",
        "df23.show()"
      ],
      "metadata": {
        "colab": {
          "base_uri": "https://localhost:8080/"
        },
        "id": "BfEnFKfmOlKX",
        "outputId": "891c6b85-61b0-4993-c9c8-8852411728a8"
      },
      "execution_count": 98,
      "outputs": [
        {
          "output_type": "stream",
          "name": "stdout",
          "text": [
            "+--------+-----------+------------------+--------------------+----------------+-----------+-------------+------------+--------------------+--------------------+\n",
            "|movie_id|movie_title|movie_release_year|movie_title_language|movie_popularity|director_id|director_name|rating_score|        critic_likes|     critic_comments|\n",
            "+--------+-----------+------------------+--------------------+----------------+-----------+-------------+------------+--------------------+--------------------+\n",
            "|       1|  La Antena|            2007.0|                  en|             105|        131|Esteban Sapir|         5.0|                   0|                   0|\n",
            "|       1|  La Antena|            2007.0|                  en|             105|        131|Esteban Sapir|         1.0|                   0|                   0|\n",
            "|       1|  La Antena|            2007.0|                  en|             105|        131|Esteban Sapir|         4.0|                   0|                   0|\n",
            "|       1|  La Antena|            2007.0|                  en|             105|        131|Esteban Sapir|         3.0|                   0|                   0|\n",
            "|       1|  La Antena|            2007.0|                  en|             105|        131|Esteban Sapir|         4.0|                   0|                   0|\n",
            "|       1|  La Antena|            2007.0|                  en|             105|        131|Esteban Sapir|         4.0|                   0|                   0|\n",
            "|       1|  La Antena|            2007.0|                  en|             105|        131|Esteban Sapir|         3.0|                   0|                   3|\n",
            "|       1|  La Antena|            2007.0|                  en|             105|        131|Esteban Sapir|         5.0|                   0|                   0|\n",
            "|       1|  La Antena|            2007.0|                  en|             105|        131|Esteban Sapir|         5.0|                   2|                   0|\n",
            "|       1|  La Antena|            2007.0|                  en|             105|        131|Esteban Sapir|         3.0|                   0|                   0|\n",
            "|       1|  La Antena|            2007.0|                  en|             105|        131|Esteban Sapir|         5.0|                   0|                   0|\n",
            "|       1|  La Antena|            2007.0|                  en|             105|        131|Esteban Sapir|         5.0|                   0|                   0|\n",
            "|       1|  La Antena|            2007.0|                  en|             105|        131|Esteban Sapir|         5.0|                   0|                   0|\n",
            "|       1|  La Antena|            2007.0|                  en|             105|        131|Esteban Sapir|         4.0|                   0|                   0|\n",
            "|       1|  La Antena|            2007.0|                  en|             105|        131|Esteban Sapir|         4.0| este fue el caso...|                   0|\n",
            "|       3|It's Winter|            2006.0|                  en|              21|         82|   Rafi Pitts|         2.0|                   0|                   0|\n",
            "|       3|It's Winter|            2006.0|                  en|              21|         82|   Rafi Pitts|         5.0|                   1|                   0|\n",
            "|       3|It's Winter|            2006.0|                  en|              21|         82|   Rafi Pitts|         5.0|                   0|                   0|\n",
            "|       3|It's Winter|            2006.0|                  en|              21|         82|   Rafi Pitts|         5.0| but bitter. I lo...| feel and music.....|\n",
            "|       3|It's Winter|            2006.0|                  en|              21|         82|   Rafi Pitts|         4.0|                   2|                   0|\n",
            "+--------+-----------+------------------+--------------------+----------------+-----------+-------------+------------+--------------------+--------------------+\n",
            "only showing top 20 rows\n",
            "\n"
          ]
        }
      ]
    },
    {
      "cell_type": "markdown",
      "source": [
        "**Correlation analysis**"
      ],
      "metadata": {
        "id": "QCxKGDUOOzLb"
      }
    },
    {
      "cell_type": "code",
      "source": [
        "min_value = df23.agg(min('movie_release_year')).collect()[0][0]\n",
        "\n",
        "max_value = df23.agg(max('movie_release_year')).collect()[0][0]\n",
        "\n",
        "print(\"Minimum value:\", min_value)\n",
        "print(\"Maximum value:\", max_value)"
      ],
      "metadata": {
        "colab": {
          "base_uri": "https://localhost:8080/"
        },
        "id": "D7KipU23O1jP",
        "outputId": "acdf574e-3ba7-43e2-de40-53a549f10547"
      },
      "execution_count": 99,
      "outputs": [
        {
          "output_type": "stream",
          "name": "stdout",
          "text": [
            "Minimum value: 1878.0\n",
            "Maximum value: 2021.0\n"
          ]
        }
      ]
    },
    {
      "cell_type": "code",
      "source": [
        "corr_columns = df23.select(df23[\"movie_release_year\"].cast(\"int\"), df23[\"movie_popularity\"].cast(\"double\")) #casting columns into numerical to be able to make correlation between release year and popualrity\n",
        "\n",
        "start_year = min_value #defining correlation start  \n",
        "end_year = max_value    #defining correlation end \n",
        "\n",
        "filtered_df = corr_columns.filter((corr_columns[\"movie_release_year\"] >= start_year) & (corr_columns[\"movie_release_year\"] <= end_year)) #cheking the year if its inside the limits or not\n",
        "correlation = filtered_df.select(corr(\"movie_release_year\", \"movie_popularity\")).collect()[0][0]         #applying correlation function\n",
        "\n",
        "print(f\"Correlation between release year and popularity within the range {start_year}-{end_year}: {correlation}\")  #printing the number of correlation as it shown down there is a negative correlation\n",
        "\n",
        "release_years = filtered_df.select(\"movie_release_year\").rdd.flatMap(lambda x: x).collect() #flatmap is here to convert the nested structure as tuples and 2d lists into flat structure \n",
        "popularity = filtered_df.select(\"movie_popularity\").rdd.flatMap(lambda x: x).collect()     #in these two columns\n",
        "\n",
        "\n",
        "plt.scatter(release_years, popularity)  #plotting the correlation\n",
        "plt.xlabel(\"Release Year\")\n",
        "plt.ylabel(\"Popularity\")\n",
        "plt.title(f\"Correlation between Release Year and Popularity ({start_year}-{end_year})\")\n",
        "plt.show()"
      ],
      "metadata": {
        "colab": {
          "base_uri": "https://localhost:8080/",
          "height": 489
        },
        "id": "092iMmyuO6HK",
        "outputId": "99b4c547-2d69-4da9-f584-73fc19e922df"
      },
      "execution_count": 100,
      "outputs": [
        {
          "output_type": "stream",
          "name": "stdout",
          "text": [
            "Correlation between release year and popularity within the range 1878.0-2021.0: -0.15439621846947335\n"
          ]
        },
        {
          "output_type": "display_data",
          "data": {
            "text/plain": [
              "<Figure size 640x480 with 1 Axes>"
            ],
            "image/png": "[encoded data removed]"
          },
          "metadata": {}
        }
      ]
    },
    {
      "cell_type": "markdown",
      "source": [
        "**Which Director has the highest average movie popualrity ?**"
      ],
      "metadata": {
        "id": "uJeG1R9sPBH6"
      }
    },
    {
      "cell_type": "code",
      "source": [
        "df23.dtypes  "
      ],
      "metadata": {
        "colab": {
          "base_uri": "https://localhost:8080/"
        },
        "id": "y89XEFzFPCwf",
        "outputId": "eec56808-69c6-4b51-dff2-d721104f5cbe"
      },
      "execution_count": 101,
      "outputs": [
        {
          "output_type": "execute_result",
          "data": {
            "text/plain": [
              "[('movie_id', 'int'),\n",
              " ('movie_title', 'string'),\n",
              " ('movie_release_year', 'string'),\n",
              " ('movie_title_language', 'string'),\n",
              " ('movie_popularity', 'string'),\n",
              " ('director_id', 'string'),\n",
              " ('director_name', 'string'),\n",
              " ('rating_score', 'string'),\n",
              " ('critic_likes', 'string'),\n",
              " ('critic_comments', 'string')]"
            ]
          },
          "metadata": {},
          "execution_count": 101
        }
      ]
    },
    {
      "cell_type": "code",
      "source": [
        "dir_pop = df23.select(df23[\"director_Name\"], df23[\"movie_popularity\"].cast(\"double\")) #casting these two columns to be able to work in it\n",
        "\n",
        "avg_popularity_df = dir_pop.groupBy(\"director_name\").agg(avg(\"movie_popularity\").alias(\"average_popularity\")) #grouping by the director name and calculating the average of popularity\n",
        "sorted_df = avg_popularity_df.orderBy(desc(\"average_popularity\"))  #sorting data in descending order\n",
        "\n",
        "highest_popularity_director = sorted_df.select(\"director_name\").first()[0] #select the director with the highest avg popularity\n",
        "print(f\"The director with the highest average movie popularity is: {highest_popularity_director}\") "
      ],
      "metadata": {
        "colab": {
          "base_uri": "https://localhost:8080/"
        },
        "id": "SLnxYyPnPF3h",
        "outputId": "8f9f18d7-7350-4902-ad42-68567709b9a5"
      },
      "execution_count": 102,
      "outputs": [
        {
          "output_type": "stream",
          "name": "stdout",
          "text": [
            "The director with the highest average movie popularity is: Stanley Kubrick\n"
          ]
        }
      ]
    },
    {
      "cell_type": "markdown",
      "source": [
        "**Graph to see increasing with movie popularity in years**"
      ],
      "metadata": {
        "id": "ImRvr7drPhPi"
      }
    },
    {
      "cell_type": "code",
      "source": [
        "#sorting the number of values in years descending to limit the range of graph  \n",
        "yearCount = df23.filter(df23[\"movie_title_language\"] == \"en\").groupBy(\"movie_release_year\").count()   #grouping the years with language english language \n",
        "\n",
        "sortedYearCount = yearCount.sort(desc(\"count\"))  #sorting years descending\n",
        "\n",
        "maxCount = sortedYearCount.agg(max(\"count\")).collect()[0][0]  #getting the number of movies to get the max years that have most counts \n",
        "\n",
        "sortedYearCount.show() \n",
        "\n",
        "# print(maxCount)"
      ],
      "metadata": {
        "colab": {
          "base_uri": "https://localhost:8080/"
        },
        "id": "vTpfwm4cPjSJ",
        "outputId": "ec26a778-5321-46da-8dd8-1a55125a547a"
      },
      "execution_count": 103,
      "outputs": [
        {
          "output_type": "stream",
          "name": "stdout",
          "text": [
            "+------------------+-----+\n",
            "|movie_release_year|count|\n",
            "+------------------+-----+\n",
            "|            2015.0|32612|\n",
            "|            2016.0|32081|\n",
            "|            2014.0|30626|\n",
            "|            2017.0|30321|\n",
            "|            2013.0|29651|\n",
            "|            2011.0|29048|\n",
            "|            2012.0|27588|\n",
            "|            2010.0|24272|\n",
            "|            2018.0|23665|\n",
            "|            2009.0|22777|\n",
            "|            2019.0|16185|\n",
            "|            2008.0|15312|\n",
            "|            2007.0|14101|\n",
            "|            2006.0|12521|\n",
            "|            2004.0|11505|\n",
            "|            2005.0|10312|\n",
            "|            2003.0|10026|\n",
            "|            2001.0| 9511|\n",
            "|            2002.0| 9231|\n",
            "|            2000.0| 8791|\n",
            "+------------------+-----+\n",
            "only showing top 20 rows\n",
            "\n"
          ]
        }
      ]
    },
    {
      "cell_type": "code",
      "source": [
        "movie_release_year = [2010,2012, 2011, 2013, 2017, 2014,2016, 2015]\n",
        "movie_popularity =[24272,27588,29048,29651,30321,30626, 32081,32612] \n",
        "  #[5, 8, 12, 15, 20, 25, 27, 30]\n",
        "\n",
        "# Create a Spark DataFrame with the data\n",
        "data = zip(movie_release_year, movie_popularity)\n",
        "df = spark.createDataFrame(data, [\"Year\", \"Popularity\"])\n",
        "\n",
        "# Extract the data from the Spark DataFrame\n",
        "x_values = df.select(\"Year\").rdd.flatMap(lambda x: x).collect()\n",
        "y_values = df.select(\"Popularity\").rdd.flatMap(lambda x: x).collect()\n",
        "\n",
        "# Plotting the popularity trend using Matplotlib\n",
        "plt.bar(x_values, y_values, linestyle='-', color='black')\n",
        "plt.xlabel('Year')\n",
        "plt.ylabel('Popularity')\n",
        "plt.title('Popularity of Movies Over Time')\n",
        "plt.grid(True)\n",
        "plt.show()"
      ],
      "metadata": {
        "colab": {
          "base_uri": "https://localhost:8080/",
          "height": 472
        },
        "id": "jMGjCRcxPoOM",
        "outputId": "5978a155-898a-4d06-b6ec-7677592c069c"
      },
      "execution_count": 104,
      "outputs": [
        {
          "output_type": "display_data",
          "data": {
            "text/plain": [
              "<Figure size 640x480 with 1 Axes>"
            ],
            "image/png": "[encoded data removed]"
          },
          "metadata": {}
        }
      ]
    },
    {
      "cell_type": "markdown",
      "source": [
        "**The year of the highest english movies released ?**"
      ],
      "metadata": {
        "id": "2z_dsuTaP1jI"
      }
    },
    {
      "cell_type": "code",
      "source": [
        "column_name = \"movie_title_language\"\n",
        "unique_values = df23.select(column_name).distinct().collect()\n",
        "unique_values_list = [row[column_name] for row in unique_values]\n",
        "print(unique_values_list)"
      ],
      "metadata": {
        "colab": {
          "base_uri": "https://localhost:8080/"
        },
        "id": "kxD5GdBMP378",
        "outputId": "a0ac4608-6642-4567-a9bd-0c872b0b640e"
      },
      "execution_count": 105,
      "outputs": [
        {
          "output_type": "stream",
          "name": "stdout",
          "text": [
            "['en']\n"
          ]
        }
      ]
    },
    {
      "cell_type": "code",
      "source": [
        "english_movies_df = df23.filter(col(\"movie_title_language\") == \"en\")\n",
        "year_counts_df = english_movies_df.groupBy(\"movie_release_year\").count()\n",
        "\n",
        "sorted_year_counts_df = year_counts_df.sort(col(\"count\").desc())\n",
        "highest_count_year = sorted_year_counts_df.select(\"movie_release_year\").first()[0]\n",
        "\n",
        "print(f\"The year with the highest number of English movies released is: {highest_count_year}\")"
      ],
      "metadata": {
        "colab": {
          "base_uri": "https://localhost:8080/"
        },
        "id": "x6ejyDyGP9Eq",
        "outputId": "fdbeddef-370c-4499-9da6-d00e1b62eb99"
      },
      "execution_count": 106,
      "outputs": [
        {
          "output_type": "stream",
          "name": "stdout",
          "text": [
            "The year with the highest number of English movies released is: 2015.0\n"
          ]
        }
      ]
    },
    {
      "cell_type": "code",
      "source": [],
      "metadata": {
        "id": "q4byM4nDQA_x"
      },
      "execution_count": 106,
      "outputs": []
    }
  ]
}